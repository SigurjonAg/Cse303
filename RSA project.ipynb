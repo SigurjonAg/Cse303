{
 "cells": [
  {
   "cell_type": "markdown",
   "metadata": {},
   "source": [
    "# RSA signatures\n",
    "\n",
    "Sigurjón Ágústsson"
   ]
  },
  {
   "cell_type": "code",
   "execution_count": 72,
   "metadata": {},
   "outputs": [],
   "source": [
    "import random\n",
    "import time\n",
    "import numpy as np"
   ]
  },
  {
   "cell_type": "code",
   "execution_count": 73,
   "metadata": {},
   "outputs": [
    {
     "name": "stdout",
     "output_type": "stream",
     "text": [
      "Small odd primes loaded : [3, 5, 7, 11, 13]...[7901, 7907, 7919]\n"
     ]
    }
   ],
   "source": [
    "def load_small_primes():\n",
    "    pfile =  open(\"1000primes.txt\", \"r\")\n",
    "    small_primes = [int(num) for num in pfile.read().split(',')]\n",
    "    return small_primes\n",
    "\n",
    "small_odd_primes = load_small_primes()\n",
    "print(\"Small odd primes loaded : {}...{}\".format(small_odd_primes[:5], small_odd_primes[-3:]))"
   ]
  },
  {
   "cell_type": "markdown",
   "metadata": {},
   "source": [
    "We start by introducing some helper functions. Most important of which is the modular exponentiation function which uses Montgomery modular multiplication to very quickly compute modular exponentiation."
   ]
  },
  {
   "cell_type": "code",
   "execution_count": 74,
   "metadata": {},
   "outputs": [],
   "source": [
    "def even(n):\n",
    "    \"\"\"Checks the parity of n\"\"\"\n",
    "    return (n&1) != 1\n",
    "\n",
    "def pow_n_mod_n(a,n):\n",
    "    \"\"\"Naive and very inefficient way of doing modular exponentiation\"\"\"\n",
    "    return ((a**(n-1)) % n)\n",
    "\n",
    "def modular_exponentiation(a,n):\n",
    "    \"\"\"Python's fast way of doing modular exponentiation\"\"\"\n",
    "    return pow(a,(n-1),n)\n",
    "\n",
    "def divisible_by_small_prime(n, resolution=1000):\n",
    "    \"\"\"A function that checks if a number n has one of the \n",
    "        1000 first primes as a factor (excluding 2 because \n",
    "        it is checked for already)\"\"\"\n",
    "    global small_odd_primes # The array of primes\n",
    "    for small_prime in small_odd_primes[:resolution]:\n",
    "        if n == small_prime:\n",
    "            # In this case n is a small prime number, and we return\n",
    "            # False to indicate it is not divisible by any of\n",
    "            # the smaller primes\n",
    "            return False\n",
    "        if (n % small_prime) == 0:\n",
    "            # print(\"diviseble by small prime\")\n",
    "            return True\n",
    "    return False\n",
    "\n",
    "def seconds_to_prefix(sec):\n",
    "    \"\"\"Just a function that inputs number of seconds (float) and \n",
    "        outputs a string representation with a unit (s, ms or min) \"\"\"\n",
    "    if sec < 1:\n",
    "        ms = sec * 1000\n",
    "        return \"{} ms\".format(round(ms,4))\n",
    "    elif sec < 60:\n",
    "        return \"{} s\".format(round(sec,4))\n",
    "    else:\n",
    "        min = int(sec) // 60\n",
    "        rem = seconds_to_prefix(sec-60*min)\n",
    "        return \"{} min and {}\".format(min,rem)"
   ]
  },
  {
   "cell_type": "markdown",
   "metadata": {},
   "source": [
    "Let's demonstrate with a timing example."
   ]
  },
  {
   "cell_type": "code",
   "execution_count": 75,
   "metadata": {},
   "outputs": [
    {
     "name": "stdout",
     "output_type": "stream",
     "text": [
      "590645\n",
      "590645\n",
      "Using the slow algorithm, it took: 3.5609 s         \n",
      "Using the fast algorithm, it took: 0.116 ms\n",
      "The Montgomery algorithm makes modular exponentiation 30697.57 times faster in this case!\n"
     ]
    }
   ],
   "source": [
    "bits = 20\n",
    "# Let n be a random 20 bit integer\n",
    "n = random.randint((1<<(bits-1)),((1<<bits)-1))\n",
    "a = random.randint(0xFFFF,n-1) # a very large number but still less than n\n",
    "\n",
    "\n",
    "ex1_start = time.perf_counter()\n",
    "print(pow_n_mod_n(a,n))\n",
    "ex1_end = time.perf_counter()\n",
    "ex2_start = time.perf_counter()\n",
    "print(modular_exponentiation(a,n))\n",
    "ex2_end = time.perf_counter()\n",
    "t1,t2 = (ex1_end-ex1_start), (ex2_end-ex2_start)\n",
    "strt1,strt2 = seconds_to_prefix(t1), seconds_to_prefix(t2)\n",
    "diff = round(t1/t2,2)\n",
    "print(\"Using the slow algorithm, it took: {} \\\n",
    "        \\nUsing the fast algorithm, it took: {}\".format(strt1,strt2))\n",
    "print(\"The Montgomery algorithm makes modular exponentiation {} times faster in this case!\".format(diff))"
   ]
  },
  {
   "cell_type": "markdown",
   "metadata": {},
   "source": [
    "## Prime number generation\n",
    "\n",
    "Now we are ready to do generate prime numbers. "
   ]
  },
  {
   "cell_type": "code",
   "execution_count": 76,
   "metadata": {},
   "outputs": [],
   "source": [
    "def probable_prime(size):\n",
    "    assert size > 0\n",
    "    s = size-1\n",
    "    smallest = 1<<s\n",
    "    largest = (1<<(s+1))-1\n",
    "    while True:\n",
    "        # First pick a random number n of size 'size' bits\n",
    "        n = random.randint(smallest,largest)\n",
    "        if even(n) or divisible_by_small_prime(n):\n",
    "            continue\n",
    "        a = random.randint(2,n-1)\n",
    "\n",
    "        mod_computation = modular_exponentiation(a,n)\n",
    "\n",
    "        if mod_computation == 1:\n",
    "            # By Fermat's little thm, if the result is not 1\n",
    "            # then n is not prime, otherwise, it is likely to \n",
    "            # be prime\n",
    "            return n"
   ]
  },
  {
   "cell_type": "markdown",
   "metadata": {},
   "source": [
    "Let's use this to generate some \"small\" probably-prime numbers, or pseudoprimes."
   ]
  },
  {
   "cell_type": "code",
   "execution_count": 77,
   "metadata": {},
   "outputs": [
    {
     "name": "stdout",
     "output_type": "stream",
     "text": [
      "8 bits: \t 173\n",
      "16 bits: \t 53003\n",
      "24 bits: \t 11210629\n",
      "32 bits: \t 2695857751\n"
     ]
    }
   ],
   "source": [
    "for i in range(4):\n",
    "    bits = 8*(i+1)\n",
    "    print(\"{} bits: \\t\".format(bits), probable_prime(bits))"
   ]
  },
  {
   "cell_type": "markdown",
   "metadata": {},
   "source": [
    "In RSA encryption we want much larger primes. Typically 1024 or 3072 bits. That is no obstacle for us, let's generate such pseudoprimes:"
   ]
  },
  {
   "cell_type": "code",
   "execution_count": 78,
   "metadata": {},
   "outputs": [
    {
     "name": "stdout",
     "output_type": "stream",
     "text": [
      "162088618182906247802844439184656953055901271354671673722079595956583648288915734798509559525783212607680839297010899969549181411136844378413322138087245654970321755841486605263890775679164284296660616148460201217733735194005418056694470723421042298592605685629958478083455790909964057477238507741079739467359\n",
      "execution time: 0.417 seconds\n"
     ]
    }
   ],
   "source": [
    "t1s = time.perf_counter()\n",
    "p1024 = probable_prime(1024)\n",
    "t1e = time.perf_counter()\n",
    "print(p1024)\n",
    "print(\"execution time: {} seconds\".format(round((t1e-t1s),3)))"
   ]
  },
  {
   "cell_type": "code",
   "execution_count": 79,
   "metadata": {},
   "outputs": [
    {
     "name": "stdout",
     "output_type": "stream",
     "text": [
      "4849732060247485938946688631522390566123763746121529703819726411811034616153146207954345931479384192368086835697121989073380999713548613791230674124599896545051517999534130988159931571178613905450980589834327351503742523858055166218010197915872523758302870243472270724772952754281053645481467310909891874285044116297146111328970727915915332475849433517262048491344878210703262739552227003960038310457380104148702139167754669372211327274187344299322506715969272759281696782071699179176388306030178034024014511634902725624175233212046083633439644871219402414813904195882501311605485109730508539869800281338353850225646011385949424149795105319953162193447330817684421763161270705583859542449023684338919317065002251407204890774735994874226128862884886842700788213050797903486767364577517599964016022847386552744772925604469505366995586771595889853553276799383986301998837645902735806912006147629855358262633032041978396543488529\n",
      "execution time: 7.288 seconds\n"
     ]
    }
   ],
   "source": [
    "t1s = time.perf_counter()\n",
    "p3072 = probable_prime(3072)\n",
    "t1e = time.perf_counter()\n",
    "print(p3072)\n",
    "print(\"execution time: {} seconds\".format(round((t1e-t1s),3)))"
   ]
  },
  {
   "cell_type": "markdown",
   "metadata": {},
   "source": [
    "## RSA signatures"
   ]
  },
  {
   "cell_type": "code",
   "execution_count": 80,
   "metadata": {},
   "outputs": [
    {
     "name": "stdout",
     "output_type": "stream",
     "text": [
      "167\n"
     ]
    }
   ],
   "source": [
    "e = 3\n",
    "print(pow(e,-1,500))"
   ]
  },
  {
   "cell_type": "code",
   "execution_count": 81,
   "metadata": {},
   "outputs": [],
   "source": [
    "def find_ed(N,T):\n",
    "    e = 3\n",
    "    d = pow(e,-1,T)\n",
    "    return (e,d)"
   ]
  },
  {
   "cell_type": "code",
   "execution_count": 82,
   "metadata": {},
   "outputs": [],
   "source": [
    "def generate_keys(size=1024):\n",
    "    \"\"\"Function that returns a tuple of public and private keys of given size (in bits)\"\"\"\n",
    "    p,q = probable_prime(size),probable_prime(size)\n",
    "    N = p*q\n",
    "    # e is less than T. And it is coprime to T and N\n",
    "    # e*d mod T has to be 1\n",
    "    # e is typically 3\n",
    "    T = N - p - q + 1 # (p-1)(q-1)\n",
    "    e = 3\n",
    "    d = pow(e,-1,T)\n",
    "    return ((N,e),(N,d))\n",
    "\n",
    "def dummy_keys():\n",
    "    return ((91, 5), (91, 29))\n",
    "\n",
    "def encrypt(val, public_key):\n",
    "    \"\"\"public key is a tuple containing N,e \"\"\"\n",
    "    N,e = public_key\n",
    "    return pow(val,e,N)\n",
    "\n",
    "def decrypt(cipher, private_key):\n",
    "    \"\"\"Private key is a tuple containing N,d \"\"\"\n",
    "    N,d = private_key\n",
    "    return pow(cipher,d,N)"
   ]
  },
  {
   "cell_type": "code",
   "execution_count": 84,
   "metadata": {},
   "outputs": [],
   "source": [
    "public_key, secret_key = generate_keys()\n",
    "# public_key, secret_key = dummy_keys()"
   ]
  },
  {
   "cell_type": "code",
   "execution_count": 85,
   "metadata": {},
   "outputs": [
    {
     "data": {
      "text/plain": [
       "(18473539090594177804303427473636989622335038717179524563741508944976160463216543196803623416890212848363216912313653944930849394976588643307353626494793388701913561901007569837654184936370426662308106064321464387374208325785966215853066414784652118385436628084898380550327671046112985234778267064138917955236296584141117696584399617009602662667478353014587036992132179513896912204877809689086020487427862623723407720417437827266136071860295994914189107185206924206056977848466429496643482724115373821410069544738941963394693524660868474568965176151217795057713276178573634135401136898536719936432754272392587470700477,\n",
       " 3)"
      ]
     },
     "execution_count": 85,
     "metadata": {},
     "output_type": "execute_result"
    }
   ],
   "source": [
    "public_key"
   ]
  },
  {
   "cell_type": "code",
   "execution_count": 86,
   "metadata": {},
   "outputs": [
    {
     "data": {
      "text/plain": [
       "(18473539090594177804303427473636989622335038717179524563741508944976160463216543196803623416890212848363216912313653944930849394976588643307353626494793388701913561901007569837654184936370426662308106064321464387374208325785966215853066414784652118385436628084898380550327671046112985234778267064138917955236296584141117696584399617009602662667478353014587036992132179513896912204877809689086020487427862623723407720417437827266136071860295994914189107185206924206056977848466429496643482724115373821410069544738941963394693524660868474568965176151217795057713276178573634135401136898536719936432754272392587470700477,\n",
       " 12315692727062785202868951649091326414890025811453016375827672629984106975477695464535748944593475232242144608209102629953899596651059095538235750996528925801275707934005046558436123290913617774872070709547642924916138883857310810568710943189768078923624418723265587033551780697408656823185511376092611970157349832069021841928743328767082863007568929538356003668066151654536391822698968061258220822538296482065726658195994817541573733898946011108810417436209114897255644306561435264010591437715048598256884392183717443477412718776631059497621442089433606871845905861459821621500306379761882465530635074951004844874987)"
      ]
     },
     "execution_count": 86,
     "metadata": {},
     "output_type": "execute_result"
    }
   ],
   "source": [
    "secret_key"
   ]
  },
  {
   "cell_type": "code",
   "execution_count": 87,
   "metadata": {},
   "outputs": [],
   "source": [
    "text = \"HELLO WORLD!\""
   ]
  },
  {
   "cell_type": "code",
   "execution_count": 88,
   "metadata": {},
   "outputs": [],
   "source": [
    "def str2ascii_list(string):\n",
    "    return [ord(c) for c in string]\n",
    "\n",
    "def ascii_list2str(alist):\n",
    "    s = \"\"\n",
    "    for c in alist:\n",
    "        s+=chr(c)\n",
    "    return s\n",
    "\n",
    "def encrypt_string(string, public_key):\n",
    "    ascii_list = [ord(i) for i in string]\n",
    "    enc_list = [encrypt(j,public_key) for j in ascii_list]\n",
    "    print(enc_list)\n",
    "    enc_string  = \"\"\n",
    "    for enc in enc_list:\n",
    "        enc_string += chr(enc)\n",
    "    return enc_list\n",
    "\n",
    "def decrypt_string(enc_list,private_key):\n",
    "    ascii_list = [decrypt(j, private_key) for j in enc_list]\n",
    "    return ascii_list"
   ]
  },
  {
   "cell_type": "code",
   "execution_count": 89,
   "metadata": {},
   "outputs": [
    {
     "name": "stdout",
     "output_type": "stream",
     "text": [
      "original:\n",
      "[72, 69, 76, 76, 79, 32, 87, 79, 82, 76, 68, 33]\n",
      "encrypted:\n",
      "[373248, 328509, 438976, 438976, 493039, 32768, 658503, 493039, 551368, 438976, 314432, 35937]\n",
      "decrypted_list\n",
      "[72, 69, 76, 76, 79, 32, 87, 79, 82, 76, 68, 33]\n",
      "result\n",
      "HELLO WORLD!\n"
     ]
    }
   ],
   "source": [
    "text_asc = str2ascii_list(text)\n",
    "print(\"original:\")\n",
    "print(text_asc)\n",
    "print(\"encrypted:\")\n",
    "enc = [encrypt(c, public_key) for c in text_asc]\n",
    "print(enc)\n",
    "print(\"decrypted_list\")\n",
    "dec_list = [decrypt(c, secret_key) for c in enc]\n",
    "print(dec_list)\n",
    "print(\"result\")\n",
    "res = ascii_list2str(dec_list)\n",
    "print(res)"
   ]
  },
  {
   "cell_type": "code",
   "execution_count": null,
   "metadata": {},
   "outputs": [],
   "source": []
  },
  {
   "cell_type": "code",
   "execution_count": 90,
   "metadata": {},
   "outputs": [
    {
     "name": "stdout",
     "output_type": "stream",
     "text": [
      "32, ASCII: ' ', Encryption: '32768', Decrypting encryption: '32'\n",
      "33, ASCII: '!', Encryption: '35937', Decrypting encryption: '33'\n",
      "34, ASCII: '\"', Encryption: '39304', Decrypting encryption: '34'\n",
      "35, ASCII: '#', Encryption: '42875', Decrypting encryption: '35'\n",
      "36, ASCII: '$', Encryption: '46656', Decrypting encryption: '36'\n",
      "37, ASCII: '%', Encryption: '50653', Decrypting encryption: '37'\n",
      "38, ASCII: '&', Encryption: '54872', Decrypting encryption: '38'\n",
      "39, ASCII: ''', Encryption: '59319', Decrypting encryption: '39'\n",
      "40, ASCII: '(', Encryption: '64000', Decrypting encryption: '40'\n",
      "41, ASCII: ')', Encryption: '68921', Decrypting encryption: '41'\n",
      "42, ASCII: '*', Encryption: '74088', Decrypting encryption: '42'\n",
      "43, ASCII: '+', Encryption: '79507', Decrypting encryption: '43'\n",
      "44, ASCII: ',', Encryption: '85184', Decrypting encryption: '44'\n",
      "45, ASCII: '-', Encryption: '91125', Decrypting encryption: '45'\n",
      "46, ASCII: '.', Encryption: '97336', Decrypting encryption: '46'\n",
      "47, ASCII: '/', Encryption: '103823', Decrypting encryption: '47'\n",
      "48, ASCII: '0', Encryption: '110592', Decrypting encryption: '48'\n",
      "49, ASCII: '1', Encryption: '117649', Decrypting encryption: '49'\n",
      "50, ASCII: '2', Encryption: '125000', Decrypting encryption: '50'\n",
      "51, ASCII: '3', Encryption: '132651', Decrypting encryption: '51'\n",
      "52, ASCII: '4', Encryption: '140608', Decrypting encryption: '52'\n",
      "53, ASCII: '5', Encryption: '148877', Decrypting encryption: '53'\n",
      "54, ASCII: '6', Encryption: '157464', Decrypting encryption: '54'\n",
      "55, ASCII: '7', Encryption: '166375', Decrypting encryption: '55'\n",
      "56, ASCII: '8', Encryption: '175616', Decrypting encryption: '56'\n",
      "57, ASCII: '9', Encryption: '185193', Decrypting encryption: '57'\n",
      "58, ASCII: ':', Encryption: '195112', Decrypting encryption: '58'\n",
      "59, ASCII: ';', Encryption: '205379', Decrypting encryption: '59'\n",
      "60, ASCII: '<', Encryption: '216000', Decrypting encryption: '60'\n",
      "61, ASCII: '=', Encryption: '226981', Decrypting encryption: '61'\n",
      "62, ASCII: '>', Encryption: '238328', Decrypting encryption: '62'\n",
      "63, ASCII: '?', Encryption: '250047', Decrypting encryption: '63'\n",
      "64, ASCII: '@', Encryption: '262144', Decrypting encryption: '64'\n",
      "65, ASCII: 'A', Encryption: '274625', Decrypting encryption: '65'\n",
      "66, ASCII: 'B', Encryption: '287496', Decrypting encryption: '66'\n",
      "67, ASCII: 'C', Encryption: '300763', Decrypting encryption: '67'\n",
      "68, ASCII: 'D', Encryption: '314432', Decrypting encryption: '68'\n",
      "69, ASCII: 'E', Encryption: '328509', Decrypting encryption: '69'\n",
      "70, ASCII: 'F', Encryption: '343000', Decrypting encryption: '70'\n",
      "71, ASCII: 'G', Encryption: '357911', Decrypting encryption: '71'\n",
      "72, ASCII: 'H', Encryption: '373248', Decrypting encryption: '72'\n",
      "73, ASCII: 'I', Encryption: '389017', Decrypting encryption: '73'\n",
      "74, ASCII: 'J', Encryption: '405224', Decrypting encryption: '74'\n",
      "75, ASCII: 'K', Encryption: '421875', Decrypting encryption: '75'\n",
      "76, ASCII: 'L', Encryption: '438976', Decrypting encryption: '76'\n",
      "77, ASCII: 'M', Encryption: '456533', Decrypting encryption: '77'\n",
      "78, ASCII: 'N', Encryption: '474552', Decrypting encryption: '78'\n",
      "79, ASCII: 'O', Encryption: '493039', Decrypting encryption: '79'\n",
      "80, ASCII: 'P', Encryption: '512000', Decrypting encryption: '80'\n",
      "81, ASCII: 'Q', Encryption: '531441', Decrypting encryption: '81'\n",
      "82, ASCII: 'R', Encryption: '551368', Decrypting encryption: '82'\n",
      "83, ASCII: 'S', Encryption: '571787', Decrypting encryption: '83'\n",
      "84, ASCII: 'T', Encryption: '592704', Decrypting encryption: '84'\n",
      "85, ASCII: 'U', Encryption: '614125', Decrypting encryption: '85'\n",
      "86, ASCII: 'V', Encryption: '636056', Decrypting encryption: '86'\n",
      "87, ASCII: 'W', Encryption: '658503', Decrypting encryption: '87'\n",
      "88, ASCII: 'X', Encryption: '681472', Decrypting encryption: '88'\n",
      "89, ASCII: 'Y', Encryption: '704969', Decrypting encryption: '89'\n",
      "90, ASCII: 'Z', Encryption: '729000', Decrypting encryption: '90'\n",
      "91, ASCII: '[', Encryption: '753571', Decrypting encryption: '91'\n",
      "92, ASCII: '\\', Encryption: '778688', Decrypting encryption: '92'\n",
      "93, ASCII: ']', Encryption: '804357', Decrypting encryption: '93'\n",
      "94, ASCII: '^', Encryption: '830584', Decrypting encryption: '94'\n",
      "95, ASCII: '_', Encryption: '857375', Decrypting encryption: '95'\n",
      "96, ASCII: '`', Encryption: '884736', Decrypting encryption: '96'\n",
      "97, ASCII: 'a', Encryption: '912673', Decrypting encryption: '97'\n",
      "98, ASCII: 'b', Encryption: '941192', Decrypting encryption: '98'\n",
      "99, ASCII: 'c', Encryption: '970299', Decrypting encryption: '99'\n",
      "100, ASCII: 'd', Encryption: '1000000', Decrypting encryption: '100'\n",
      "101, ASCII: 'e', Encryption: '1030301', Decrypting encryption: '101'\n",
      "102, ASCII: 'f', Encryption: '1061208', Decrypting encryption: '102'\n",
      "103, ASCII: 'g', Encryption: '1092727', Decrypting encryption: '103'\n",
      "104, ASCII: 'h', Encryption: '1124864', Decrypting encryption: '104'\n",
      "105, ASCII: 'i', Encryption: '1157625', Decrypting encryption: '105'\n",
      "106, ASCII: 'j', Encryption: '1191016', Decrypting encryption: '106'\n",
      "107, ASCII: 'k', Encryption: '1225043', Decrypting encryption: '107'\n",
      "108, ASCII: 'l', Encryption: '1259712', Decrypting encryption: '108'\n",
      "109, ASCII: 'm', Encryption: '1295029', Decrypting encryption: '109'\n",
      "110, ASCII: 'n', Encryption: '1331000', Decrypting encryption: '110'\n",
      "111, ASCII: 'o', Encryption: '1367631', Decrypting encryption: '111'\n",
      "112, ASCII: 'p', Encryption: '1404928', Decrypting encryption: '112'\n",
      "113, ASCII: 'q', Encryption: '1442897', Decrypting encryption: '113'\n",
      "114, ASCII: 'r', Encryption: '1481544', Decrypting encryption: '114'\n",
      "115, ASCII: 's', Encryption: '1520875', Decrypting encryption: '115'\n",
      "116, ASCII: 't', Encryption: '1560896', Decrypting encryption: '116'\n",
      "117, ASCII: 'u', Encryption: '1601613', Decrypting encryption: '117'\n",
      "118, ASCII: 'v', Encryption: '1643032', Decrypting encryption: '118'\n",
      "119, ASCII: 'w', Encryption: '1685159', Decrypting encryption: '119'\n",
      "120, ASCII: 'x', Encryption: '1728000', Decrypting encryption: '120'\n",
      "121, ASCII: 'y', Encryption: '1771561', Decrypting encryption: '121'\n",
      "122, ASCII: 'z', Encryption: '1815848', Decrypting encryption: '122'\n",
      "123, ASCII: '{', Encryption: '1860867', Decrypting encryption: '123'\n",
      "124, ASCII: '|', Encryption: '1906624', Decrypting encryption: '124'\n",
      "125, ASCII: '}', Encryption: '1953125', Decrypting encryption: '125'\n",
      "126, ASCII: '~', Encryption: '2000376', Decrypting encryption: '126'\n"
     ]
    }
   ],
   "source": [
    "# ASCII has values from 32 to 126\n",
    "# print(\"Public,private keys are: \", public_key, secret_key)\n",
    "for i in range(32,127):\n",
    "    enc = encrypt(i, public_key)\n",
    "    dec = decrypt(enc, secret_key)\n",
    "    if dec == i:\n",
    "        print(f\"{i}, ASCII: '{chr(i)}', Encryption: '{enc}', Decrypting encryption: '{dec}'\")\n",
    "    else:\n",
    "        print(f\"{i}, ASCII: '{chr(i)}', Encryption: '{enc}', Decrypting encryption: '{dec}' - FAIL\")"
   ]
  },
  {
   "cell_type": "code",
   "execution_count": 91,
   "metadata": {},
   "outputs": [
    {
     "name": "stdout",
     "output_type": "stream",
     "text": [
      "[373248, 328509, 438976, 438976, 493039, 32768, 658503, 493039, 551368, 438976, 314432, 35937]\n",
      "[373248, 328509, 438976, 438976, 493039, 32768, 658503, 493039, 551368, 438976, 314432, 35937]\n",
      "[72, 69, 76, 76, 79, 32, 87, 79, 82, 76, 68, 33]\n"
     ]
    }
   ],
   "source": [
    "encrypted = encrypt_string(text,public_key)\n",
    "print(encrypted)\n",
    "decrypted = decrypt_string(encrypted,secret_key)\n",
    "print(decrypted)"
   ]
  },
  {
   "cell_type": "markdown",
   "metadata": {},
   "source": [
    "Different way to encode strings"
   ]
  },
  {
   "cell_type": "code",
   "execution_count": 92,
   "metadata": {},
   "outputs": [
    {
     "data": {
      "text/plain": [
       "8386"
      ]
     },
     "execution_count": 92,
     "metadata": {},
     "output_type": "execute_result"
    }
   ],
   "source": [
    "def string_to_num(string):\n",
    "    num = 0\n",
    "    for c in string:\n",
    "        new_char = ord(c)\n",
    "        num = (num<<7)+new_char\n",
    "    return num\n",
    "\n",
    "def num_to_string(num):\n",
    "    string = \"\"\n",
    "    while num>0:\n",
    "        new_char = 0x7F\n",
    "        new_char &= num # Now new_char is the ascii value of the last character of the string\n",
    "        string = chr(new_char) + string # We prepend the new character to the string, since we are going in the reverse\n",
    "        num = num >> 7\n",
    "    return string\n",
    "\n",
    "s = \"AB\"\n",
    "\n",
    "string_to_num(s)\n"
   ]
  },
  {
   "cell_type": "code",
   "execution_count": 109,
   "metadata": {},
   "outputs": [
    {
     "name": "stdout",
     "output_type": "stream",
     "text": [
      "1045397365253 = \u001e",
      "64'D\u0005 \t ---> 1142468418447782963068794552600049277 \t ---> 1045397365253 = \u001e",
      "64'D\u0005\n",
      "640953800229 = \u0012S^K,% \t ---> 263317777280064067528397054689408989 \t ---> 640953800229 = \u0012S^K,%\n",
      "836722336110 = \u0018-\u0004&Bn \t ---> 585792878428491770336270052478131000 \t ---> 836722336110 = \u0018-\u0004&Bn\n",
      "1086472164976 = \u001fO6&,p \t ---> 1282495390895120776583944868701106176 \t ---> 1086472164976 = \u001fO6&,p\n",
      "941251558814 = \u001b27[{\u001e",
      " \t ---> 833906051311083277606039287401057144 \t ---> 941251558814 = \u001b27[{\u001e",
      "\n"
     ]
    }
   ],
   "source": [
    "public_key, private_key = generate_keys(100) # generate keys of size 100\n",
    "num_chars = 5\n",
    "bits = num_chars * 8\n",
    "largest, lowest = (1<<bits)-1, (1<<(bits-1))\n",
    "for _ in range(5):\n",
    "    num = random.randint(lowest,largest)\n",
    "    s = num_to_string(num)\n",
    "    e = encrypt(num, public_key)\n",
    "    d = decrypt(e, private_key)\n",
    "    ds = num_to_string(d)\n",
    "    p  = f\"{num} = {s} \\t ---> {e} \\t ---> {d} = {ds}\"\n",
    "    print(p)\n"
   ]
  },
  {
   "cell_type": "code",
   "execution_count": 101,
   "metadata": {},
   "outputs": [
    {
     "data": {
      "text/plain": [
       "65"
      ]
     },
     "execution_count": 101,
     "metadata": {},
     "output_type": "execute_result"
    }
   ],
   "source": [
    "ord('A')"
   ]
  },
  {
   "cell_type": "code",
   "execution_count": 45,
   "metadata": {},
   "outputs": [
    {
     "data": {
      "text/plain": [
       "'0b10000011000010'"
      ]
     },
     "execution_count": 45,
     "metadata": {},
     "output_type": "execute_result"
    }
   ],
   "source": [
    "bin(8386)"
   ]
  },
  {
   "cell_type": "code",
   "execution_count": 47,
   "metadata": {},
   "outputs": [
    {
     "data": {
      "text/plain": [
       "'B'"
      ]
     },
     "execution_count": 47,
     "metadata": {},
     "output_type": "execute_result"
    }
   ],
   "source": [
    "chr(0b1000010)"
   ]
  },
  {
   "cell_type": "code",
   "execution_count": 48,
   "metadata": {},
   "outputs": [
    {
     "data": {
      "text/plain": [
       "'A'"
      ]
     },
     "execution_count": 48,
     "metadata": {},
     "output_type": "execute_result"
    }
   ],
   "source": [
    "chr(0b1000001)"
   ]
  },
  {
   "cell_type": "code",
   "execution_count": 49,
   "metadata": {},
   "outputs": [
    {
     "data": {
      "text/plain": [
       "'0b1000000'"
      ]
     },
     "execution_count": 49,
     "metadata": {},
     "output_type": "execute_result"
    }
   ],
   "source": [
    "bin(64)"
   ]
  },
  {
   "cell_type": "code",
   "execution_count": null,
   "metadata": {},
   "outputs": [],
   "source": []
  }
 ],
 "metadata": {
  "kernelspec": {
   "display_name": "Python 3",
   "language": "python",
   "name": "python3"
  },
  "language_info": {
   "codemirror_mode": {
    "name": "ipython",
    "version": 3
   },
   "file_extension": ".py",
   "mimetype": "text/x-python",
   "name": "python",
   "nbconvert_exporter": "python",
   "pygments_lexer": "ipython3",
   "version": "3.8.5"
  }
 },
 "nbformat": 4,
 "nbformat_minor": 4
}
