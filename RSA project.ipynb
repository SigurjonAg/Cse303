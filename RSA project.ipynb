{
 "cells": [
  {
   "cell_type": "markdown",
   "metadata": {},
   "source": [
    "# RSA signatures\n",
    "\n",
    "Sigurjón Ágústsson"
   ]
  },
  {
   "cell_type": "markdown",
   "metadata": {},
   "source": [
    "First, we import libraries and load the first 1000 primes in an array. We will use them when generating probable prime numbers later."
   ]
  },
  {
   "cell_type": "code",
   "execution_count": 1,
   "metadata": {},
   "outputs": [],
   "source": [
    "import random\n",
    "import time\n",
    "import numpy as np\n",
    "import pandas as pd\n",
    "import math\n",
    "import matplotlib.pyplot as plt"
   ]
  },
  {
   "cell_type": "code",
   "execution_count": 2,
   "metadata": {},
   "outputs": [
    {
     "name": "stdout",
     "output_type": "stream",
     "text": [
      "999 small odd primes loaded : [3, 5, 7, 11, 13]...[7901, 7907, 7919]\n"
     ]
    }
   ],
   "source": [
    "def load_small_primes():\n",
    "    pfile =  open(\"1000primes.txt\", \"r\")\n",
    "    small_primes = [int(num) for num in pfile.read().split(',')]\n",
    "    return small_primes\n",
    "\n",
    "small_odd_primes = load_small_primes()\n",
    "print(f\"{len(small_odd_primes)} small odd primes loaded : {small_odd_primes[:5]}...{small_odd_primes[-3:]}\")"
   ]
  },
  {
   "cell_type": "markdown",
   "metadata": {},
   "source": [
    "First we define a couple of helper functions that are useful when printing large numbers. "
   ]
  },
  {
   "cell_type": "code",
   "execution_count": 3,
   "metadata": {},
   "outputs": [],
   "source": [
    "# Miscellaneous functions\n",
    "def std_form(n):\n",
    "    \"\"\"Returns a number n in standard form (string)\"\"\"\n",
    "    string_n = str(n)\n",
    "    num = string_n[0] + \".\" + string_n[1:3] + f\"*10^{len(string_n)-1}\"\n",
    "    return num\n",
    "\n",
    "def seconds_to_prefix(sec):\n",
    "    \"\"\"Just a function that inputs number of seconds (float) and \n",
    "        outputs a string representation with a unit (s, ms or min) \"\"\"\n",
    "    if sec < 1:\n",
    "        ms = sec * 1000\n",
    "        return \"{} ms\".format(round(ms,4))\n",
    "    elif sec < 60:\n",
    "        return \"{} s\".format(round(sec,4))\n",
    "    else:\n",
    "        min = int(sec) // 60\n",
    "        rem = seconds_to_prefix(sec-60*min)\n",
    "        return \"{} min and {}\".format(min,rem)\n",
    "    \n",
    "def divisible_by_small_prime(n, resolution=1000):\n",
    "    \"\"\"A function that checks if a number n has one of the \n",
    "        1000 first primes as a factor (excluding 2 because \n",
    "        it is checked for already)\"\"\"\n",
    "    global small_odd_primes # The array of primes\n",
    "    for small_prime in small_odd_primes[:resolution]:\n",
    "        if n == small_prime:\n",
    "            # In this case n is a small prime number, and we return\n",
    "            # False to indicate it is not divisible by any of\n",
    "            # the smaller primes\n",
    "            return False\n",
    "        if (n % small_prime) == 0:\n",
    "            return True\n",
    "    return False\n",
    "\n",
    "def gcd(a,b):\n",
    "    \"\"\"Naive gcd function\"\"\"\n",
    "    r = a%b\n",
    "    if r==0:\n",
    "        return b\n",
    "    return gcd(b,r)"
   ]
  },
  {
   "cell_type": "markdown",
   "metadata": {},
   "source": [
    "Now we define the important functions, "
   ]
  },
  {
   "cell_type": "code",
   "execution_count": 20,
   "metadata": {},
   "outputs": [],
   "source": [
    "def extended_euclidiean(a,b):\n",
    "    \"\"\"The extended euclidian algorithm\"\"\"\n",
    "    r = [a,b]\n",
    "    s = [1,0]\n",
    "    t = [0,1]\n",
    "    i = 2\n",
    "    while True:\n",
    "        q_im1 = r[-2] // r[-1]\n",
    "        r_i = r[-2] - q_im1 * r[-1]\n",
    "        s_i = s[-2] - q_im1 * s[-1]\n",
    "        t_i = t[-2] - q_im1 * t[-1]\n",
    "        \n",
    "        if r_i == 0:\n",
    "            u,v = s[-1],t[-1]\n",
    "            break\n",
    "        r.append(r_i)\n",
    "        s.append(s_i)\n",
    "        t.append(t_i)\n",
    "    return u, v\n",
    "\n",
    "def montgomery(a, R, N):\n",
    "    \"\"\"Returns the montgomery form of the integer a with respect to N\"\"\"\n",
    "    return (a*R) % N\n",
    "\n",
    "def exp_powering_with_reductions(a,b,N, debug=False):\n",
    "    \"\"\"Returns a**b mod n\"\"\"\n",
    "    # First we choose R, it should be a power of two ! works only for odd N!\n",
    "    if not N&1:\n",
    "        print(\"warning N is even\")\n",
    "    pwr_of_R = math.ceil(math.log(N)/math.log(2))\n",
    "    R = 1<<pwr_of_R\n",
    "    # Then we precompute R',N'\n",
    "    u,v = extended_euclidiean(R,N)\n",
    "    Rp,Np = u+N, R-v\n",
    "    res_bar = montgomery(1,R,N)\n",
    "    a_bar = montgomery(a,R,N)\n",
    "    # we assume b = b_0b_1...b_{k-1}. we want to iterate over all bits\n",
    "    for i in range(b.bit_length()):\n",
    "        b_i = (b&(1<<(b.bit_length()-1-i)))>>(b.bit_length()-1-i)\n",
    "        res_bar = res_bar * res_bar\n",
    "        res_bar = REDC(res_bar, R,Rp, N,Np, pwr_of_R, debug)\n",
    "        if debug: assert res_bar <= N, f\"{res_bar} is not in interval [0, N-1] N={N}\"\n",
    "        if b_i:\n",
    "            res_bar = res_bar * a_bar\n",
    "            res_bar = REDC(res_bar, R,Rp, N,Np, pwr_of_R, debug)\n",
    "            if debug: assert res_bar <= N, f\"{res_bar} is not in interval [0, N-1] for N={N}\"\n",
    "    res = montgomery(res_bar, Rp, N)\n",
    "    return res    \n",
    "\n",
    "def REDC(T, R,Rp,N,Np,pwr_of_R, debug=False):\n",
    "    # T is res_bar\n",
    "    m = ((T % R)*Np) % R\n",
    "    assert R == 2**pwr_of_R, f\"the power is incorrect, {R}!=2**{pwr_of_R}={2**pwr_of_R}\"\n",
    "#     t = (T + m*N)>>pwr_of_R\n",
    "    t = (T+m*N)//R\n",
    "    if debug: assert t<2*N , f\"N={N}, t={t} is too large\"\n",
    "    if t>=N:\n",
    "        return t-N\n",
    "    else: \n",
    "        return t\n",
    "    \n",
    "def oracle(M, N):\n",
    "    \"\"\"decides whether the first reduction of (a**b) is computed with a subtraction or not\"\"\"\n",
    "    pwr_of_R = math.ceil(math.log(N)/math.log(2))\n",
    "    R = 1<<pwr_of_R # R is the smallest power of 2 that is \n",
    "    # Then we precompute R',N'\n",
    "    u,v = extended_euclidiean(R,N)\n",
    "    Rp,Np = u+N, R-v\n",
    "    res_bar = montgomery(1,R,N)\n",
    "    a_bar = montgomery(M,R,N)\n",
    "    b_1 = ... # we are trying to deduce this bit!\n",
    "    res_bar = res_bar * res_bar\n",
    "    res_bar = REDC(res_bar, R,Rp, N,Np, pwr_of_R)\n",
    "    # if b_1 is 1 then this part will be executed\n",
    "    res_bar = res_bar * a_bar\n",
    "    # will a reduction occur after this step??\n",
    "#     res_bar = REDC(res_bar, R,Rp, N,Np, pwr_of_R)\n",
    "    T = res_bar\n",
    "    # T in [0, RN − 1]\n",
    "    assert 0<=T<= R*N -1\n",
    "    print(f\"0<= {std_form(T)} <= RN-1={std_form(R*N-1)}\")\n",
    "    m = ((T % R)*Np) % R\n",
    "#     print(f\"t is: {(T + m*N)} >> {pwr_of_R}\")\n",
    "    t = (T + m*N)>>pwr_of_R\n",
    "    if t>=N: return True\n",
    "    return False"
   ]
  },
  {
   "cell_type": "code",
   "execution_count": 9,
   "metadata": {},
   "outputs": [],
   "source": [
    "############## not in use ###################\n",
    "def modular_exponentiation_old_outdated(a,n):\n",
    "    \"\"\"Python's fast way of doing modular exponentiation\"\"\"\n",
    "    \"\"\"Returns a**(n-1) mod n\"\"\"\n",
    "    return pow(a,(n-1),n)\n",
    "\n",
    "def modular_exponentiation_outdated(a,N):\n",
    "    \"\"\"Python's fast way of doing modular exponentiation\"\"\"\n",
    "    \"\"\"Returns a**(N-1) mod N\"\"\"\n",
    "    return exp_powering_with_reductions(a,(n-1), N)"
   ]
  },
  {
   "cell_type": "code",
   "execution_count": 10,
   "metadata": {},
   "outputs": [
    {
     "name": "stdout",
     "output_type": "stream",
     "text": [
      "a,b,N= 5 7 13\n",
      "normal: 8\n",
      "with reductions: 8\n",
      "a,b,N= 5 91 131\n",
      "normal: 53\n",
      "with reductions: 53\n"
     ]
    }
   ],
   "source": [
    "a,b,N = 5,7, 13\n",
    "print(\"a,b,N=\", a,b,N)\n",
    "print(f\"normal: {pow(a,b,N)}\\nwith reductions: {exp_powering_with_reductions(a,b,N)}\")\n",
    "a,b,N = 5,91, 131\n",
    "print(\"a,b,N=\", a,b,N)\n",
    "print(f\"normal: {pow(a,b,N)}\\nwith reductions: {exp_powering_with_reductions(a,b,N)}\")\n",
    "      "
   ]
  },
  {
   "cell_type": "code",
   "execution_count": 25,
   "metadata": {},
   "outputs": [
    {
     "name": "stdout",
     "output_type": "stream",
     "text": [
      "43 7 131\n",
      "0<= 0.*10^0 <= RN-1=3.35*10^4\n",
      "0<= 1.56*10^4 <= RN-1=3.35*10^4\n",
      "0<= 1.48*10^4 <= RN-1=3.35*10^4\n",
      "0<= 1.41*10^4 <= RN-1=3.35*10^4\n",
      "0<= 1.33*10^4 <= RN-1=3.35*10^4\n",
      "0<= 1.26*10^4 <= RN-1=3.35*10^4\n",
      "0<= 1.18*10^4 <= RN-1=3.35*10^4\n",
      "0<= 1.11*10^4 <= RN-1=3.35*10^4\n",
      "0<= 1.03*10^4 <= RN-1=3.35*10^4\n",
      "0<= 9.62*10^3 <= RN-1=3.35*10^4\n",
      "0<= 8.87*10^3 <= RN-1=3.35*10^4\n",
      "0<= 8.12*10^3 <= RN-1=3.35*10^4\n",
      "0<= 7.37*10^3 <= RN-1=3.35*10^4\n",
      "0<= 6.62*10^3 <= RN-1=3.35*10^4\n",
      "0<= 5.87*10^3 <= RN-1=3.35*10^4\n",
      "0<= 5.12*10^3 <= RN-1=3.35*10^4\n",
      "0<= 4.37*10^3 <= RN-1=3.35*10^4\n",
      "0<= 3.62*10^3 <= RN-1=3.35*10^4\n",
      "0<= 2.87*10^3 <= RN-1=3.35*10^4\n",
      "0<= 2.12*10^3 <= RN-1=3.35*10^4\n",
      "0<= 1.37*10^3 <= RN-1=3.35*10^4\n",
      "0<= 6.25*10^2 <= RN-1=3.35*10^4\n",
      "0<= 1.62*10^4 <= RN-1=3.35*10^4\n",
      "0<= 1.55*10^4 <= RN-1=3.35*10^4\n",
      "0<= 1.47*10^4 <= RN-1=3.35*10^4\n",
      "0<= 1.40*10^4 <= RN-1=3.35*10^4\n",
      "0<= 1.32*10^4 <= RN-1=3.35*10^4\n",
      "0<= 1.25*10^4 <= RN-1=3.35*10^4\n",
      "0<= 1.17*10^4 <= RN-1=3.35*10^4\n",
      "0<= 1.10*10^4 <= RN-1=3.35*10^4\n",
      "0<= 1.02*10^4 <= RN-1=3.35*10^4\n",
      "0<= 9.50*10^3 <= RN-1=3.35*10^4\n",
      "0<= 8.75*10^3 <= RN-1=3.35*10^4\n",
      "0<= 8.00*10^3 <= RN-1=3.35*10^4\n",
      "0<= 7.25*10^3 <= RN-1=3.35*10^4\n",
      "0<= 6.50*10^3 <= RN-1=3.35*10^4\n",
      "0<= 5.75*10^3 <= RN-1=3.35*10^4\n",
      "0<= 5.00*10^3 <= RN-1=3.35*10^4\n",
      "0<= 4.25*10^3 <= RN-1=3.35*10^4\n",
      "0<= 3.50*10^3 <= RN-1=3.35*10^4\n",
      "0<= 2.75*10^3 <= RN-1=3.35*10^4\n",
      "0<= 2.00*10^3 <= RN-1=3.35*10^4\n",
      "0<= 1.25*10^3 <= RN-1=3.35*10^4\n",
      "0<= 5.00*10^2 <= RN-1=3.35*10^4\n",
      "0<= 1.61*10^4 <= RN-1=3.35*10^4\n",
      "0<= 1.53*10^4 <= RN-1=3.35*10^4\n",
      "0<= 1.46*10^4 <= RN-1=3.35*10^4\n",
      "0<= 1.38*10^4 <= RN-1=3.35*10^4\n",
      "0<= 1.31*10^4 <= RN-1=3.35*10^4\n",
      "0<= 1.23*10^4 <= RN-1=3.35*10^4\n",
      "0<= 1.16*10^4 <= RN-1=3.35*10^4\n",
      "0<= 1.08*10^4 <= RN-1=3.35*10^4\n",
      "0<= 1.01*10^4 <= RN-1=3.35*10^4\n",
      "0<= 9.37*10^3 <= RN-1=3.35*10^4\n",
      "0<= 8.62*10^3 <= RN-1=3.35*10^4\n",
      "0<= 7.87*10^3 <= RN-1=3.35*10^4\n",
      "0<= 7.12*10^3 <= RN-1=3.35*10^4\n",
      "0<= 6.37*10^3 <= RN-1=3.35*10^4\n",
      "0<= 5.62*10^3 <= RN-1=3.35*10^4\n",
      "0<= 4.87*10^3 <= RN-1=3.35*10^4\n",
      "0<= 4.12*10^3 <= RN-1=3.35*10^4\n",
      "0<= 3.37*10^3 <= RN-1=3.35*10^4\n",
      "0<= 2.62*10^3 <= RN-1=3.35*10^4\n",
      "0<= 1.87*10^3 <= RN-1=3.35*10^4\n",
      "0<= 1.12*10^3 <= RN-1=3.35*10^4\n",
      "0<= 3.75*10^2 <= RN-1=3.35*10^4\n",
      "0<= 1.60*10^4 <= RN-1=3.35*10^4\n",
      "0<= 1.52*10^4 <= RN-1=3.35*10^4\n",
      "0<= 1.45*10^4 <= RN-1=3.35*10^4\n",
      "0<= 1.37*10^4 <= RN-1=3.35*10^4\n",
      "0<= 1.30*10^4 <= RN-1=3.35*10^4\n",
      "0<= 1.22*10^4 <= RN-1=3.35*10^4\n",
      "0<= 1.15*10^4 <= RN-1=3.35*10^4\n",
      "0<= 1.07*10^4 <= RN-1=3.35*10^4\n",
      "0<= 1.00*10^4 <= RN-1=3.35*10^4\n",
      "0<= 9.25*10^3 <= RN-1=3.35*10^4\n",
      "0<= 8.50*10^3 <= RN-1=3.35*10^4\n",
      "0<= 7.75*10^3 <= RN-1=3.35*10^4\n",
      "0<= 7.00*10^3 <= RN-1=3.35*10^4\n",
      "0<= 6.25*10^3 <= RN-1=3.35*10^4\n",
      "0<= 5.50*10^3 <= RN-1=3.35*10^4\n",
      "0<= 4.75*10^3 <= RN-1=3.35*10^4\n",
      "0<= 4.00*10^3 <= RN-1=3.35*10^4\n",
      "0<= 3.25*10^3 <= RN-1=3.35*10^4\n",
      "0<= 2.50*10^3 <= RN-1=3.35*10^4\n",
      "0<= 1.75*10^3 <= RN-1=3.35*10^4\n",
      "0<= 1.00*10^3 <= RN-1=3.35*10^4\n",
      "0<= 2.50*10^2 <= RN-1=3.35*10^4\n",
      "0<= 1.58*10^4 <= RN-1=3.35*10^4\n",
      "0<= 1.51*10^4 <= RN-1=3.35*10^4\n",
      "0<= 1.43*10^4 <= RN-1=3.35*10^4\n",
      "0<= 1.36*10^4 <= RN-1=3.35*10^4\n",
      "0<= 1.28*10^4 <= RN-1=3.35*10^4\n",
      "0<= 1.21*10^4 <= RN-1=3.35*10^4\n",
      "0<= 1.13*10^4 <= RN-1=3.35*10^4\n",
      "0<= 1.06*10^4 <= RN-1=3.35*10^4\n",
      "0<= 9.87*10^3 <= RN-1=3.35*10^4\n",
      "0<= 9.12*10^3 <= RN-1=3.35*10^4\n",
      "0<= 8.37*10^3 <= RN-1=3.35*10^4\n",
      "0<= 7.62*10^3 <= RN-1=3.35*10^4\n",
      "successful\n",
      "subtraction performed 100 times \n",
      "Not perfomred 0 times\n"
     ]
    }
   ],
   "source": [
    "f, t = 0,0\n",
    "print(a,b,N)\n",
    "for m in range(100):\n",
    "    if oracle(m, N):\n",
    "        t += 1\n",
    "    else:\n",
    "        f += 1\n",
    "    \n",
    "print(\"successful\")\n",
    "print(f\"subtraction performed {f} times \\nNot perfomred {t} times\")"
   ]
  },
  {
   "cell_type": "code",
   "execution_count": null,
   "metadata": {},
   "outputs": [],
   "source": [
    "\n",
    "    "
   ]
  },
  {
   "cell_type": "markdown",
   "metadata": {},
   "source": [
    "Let's demonstrate with a timing example."
   ]
  },
  {
   "cell_type": "code",
   "execution_count": 30,
   "metadata": {},
   "outputs": [
    {
     "name": "stdout",
     "output_type": "stream",
     "text": [
      "264895\n",
      "264895\n",
      "Using the slow algorithm, it took: 1.1907 s         \n",
      "Using the fast algorithm, it took: 0.0949 ms\n",
      "The Montgomery algorithm makes modular exponentiation 12546.9 times faster in this case!\n"
     ]
    }
   ],
   "source": [
    "bits = 20\n",
    "# Let n be a random 20 bit integer\n",
    "n_odd = True\n",
    "while n_odd:\n",
    "    n = random.randint((1<<(bits-1)),((1<<bits)-1))\n",
    "    if n&1:\n",
    "        break\n",
    "a = random.randint(0xFFFF,n-1) # a very large number but still less than n\n",
    "\n",
    "\n",
    "ex1_start = time.perf_counter()\n",
    "print(a**(n-1) % n )\n",
    "ex1_end = time.perf_counter()\n",
    "ex2_start = time.perf_counter()\n",
    "# print(modular_exponentiation_(a,n))\n",
    "print(exp_powering_with_reductions(a, n-1, n))\n",
    "ex2_end = time.perf_counter()\n",
    "t1,t2 = (ex1_end-ex1_start), (ex2_end-ex2_start)\n",
    "strt1,strt2 = seconds_to_prefix(t1), seconds_to_prefix(t2)\n",
    "diff = round(t1/t2,2)\n",
    "print(\"Using the slow algorithm, it took: {} \\\n",
    "        \\nUsing the fast algorithm, it took: {}\".format(strt1,strt2))\n",
    "print(\"The Montgomery algorithm makes modular exponentiation {} times faster in this case!\".format(diff))"
   ]
  },
  {
   "cell_type": "markdown",
   "metadata": {},
   "source": [
    "# BELOW THIS POINT\n",
    "### The code is a bit of a mess, that is because I still have not figured out how the oracle works"
   ]
  },
  {
   "cell_type": "code",
   "execution_count": 31,
   "metadata": {},
   "outputs": [
    {
     "ename": "NotImplementedError",
     "evalue": "",
     "output_type": "error",
     "traceback": [
      "\u001b[1;31m---------------------------------------------------------------------------\u001b[0m",
      "\u001b[1;31mNotImplementedError\u001b[0m                       Traceback (most recent call last)",
      "\u001b[1;32m<ipython-input-31-91639a24e592>\u001b[0m in \u001b[0;36m<module>\u001b[1;34m\u001b[0m\n\u001b[1;32m----> 1\u001b[1;33m \u001b[1;32mraise\u001b[0m \u001b[0mNotImplementedError\u001b[0m\u001b[1;33m\u001b[0m\u001b[1;33m\u001b[0m\u001b[0m\n\u001b[0m",
      "\u001b[1;31mNotImplementedError\u001b[0m: "
     ]
    }
   ],
   "source": [
    "raise NotImplementedError"
   ]
  },
  {
   "cell_type": "markdown",
   "metadata": {},
   "source": [
    "## Prime number generation\n",
    "\n",
    "Now we are ready to do generate prime numbers. "
   ]
  },
  {
   "cell_type": "code",
   "execution_count": null,
   "metadata": {},
   "outputs": [],
   "source": [
    "def probable_prime(size):\n",
    "    assert size > 0\n",
    "    s = size-1\n",
    "    smallest = 1<<s\n",
    "    largest = (1<<(s+1))-1\n",
    "    while True:\n",
    "        # First pick a random number n of size 'size' bits\n",
    "        n = random.randint(smallest,largest)\n",
    "        if even(n) or divisible_by_small_prime(n):\n",
    "            continue\n",
    "        a = random.randint(2,n-1)\n",
    "\n",
    "#         mod_computation = modular_exponentiation_old(a,n)\n",
    "        mod_computation = exp_powering_with_reductions(a,(n-1),n)\n",
    "\n",
    "        if mod_computation == 1:\n",
    "            # By Fermat's little thm, if the result is not 1\n",
    "            # then n is not prime, otherwise, it is likely to \n",
    "            # be prime\n",
    "            return n"
   ]
  },
  {
   "cell_type": "markdown",
   "metadata": {},
   "source": [
    "Let's use this to generate some \"small\" probably-prime numbers, or pseudoprimes."
   ]
  },
  {
   "cell_type": "code",
   "execution_count": null,
   "metadata": {},
   "outputs": [],
   "source": [
    "for i in range(4):\n",
    "    bits = 8*(i+1)\n",
    "    print(\"{} bits: \\t\".format(bits), probable_prime(bits))"
   ]
  },
  {
   "cell_type": "markdown",
   "metadata": {},
   "source": [
    "In RSA encryption we want much larger primes. Typically 1024 or 3072 bits. That is no obstacle for us, let's generate such pseudoprimes:"
   ]
  },
  {
   "cell_type": "code",
   "execution_count": null,
   "metadata": {},
   "outputs": [],
   "source": [
    "t1s = time.perf_counter()\n",
    "p1024 = probable_prime(1024)\n",
    "t1e = time.perf_counter()\n",
    "print(p1024)\n",
    "print(\"execution time: {} seconds\".format(round((t1e-t1s),3)))"
   ]
  },
  {
   "cell_type": "code",
   "execution_count": null,
   "metadata": {},
   "outputs": [],
   "source": [
    "t1s = time.perf_counter()\n",
    "p3072 = probable_prime(2048)\n",
    "t1e = time.perf_counter()\n",
    "print(p3072)\n",
    "print(\"execution time: {} seconds\".format(round((t1e-t1s),3)))"
   ]
  },
  {
   "cell_type": "markdown",
   "metadata": {},
   "source": [
    "## RSA signatures"
   ]
  },
  {
   "cell_type": "code",
   "execution_count": null,
   "metadata": {},
   "outputs": [],
   "source": [
    "e = 3\n",
    "print(pow(e,-1,500))"
   ]
  },
  {
   "cell_type": "code",
   "execution_count": null,
   "metadata": {},
   "outputs": [],
   "source": [
    "def find_ed(N,T):\n",
    "    e = 3\n",
    "    d = pow(e,-1,T)\n",
    "    return (e,d)"
   ]
  },
  {
   "cell_type": "code",
   "execution_count": null,
   "metadata": {},
   "outputs": [],
   "source": [
    "def generate_keys(size=512):\n",
    "    \"\"\"Function that returns a tuple of public and private keys of given size (in bits)\"\"\"\n",
    "    p,q = probable_prime(size),probable_prime(size)\n",
    "    N = p*q\n",
    "    # e is less than T. And it is coprime to T and N\n",
    "    # e*d mod T has to be 1\n",
    "    # e is typically 3\n",
    "    T = N - p - q + 1 # (p-1)(q-1)\n",
    "    e = 3\n",
    "    d = exp_powering_with_reductions(e,-1,T)\n",
    "    assert d != 0 \n",
    "#     d = pow(e,-1,T)\n",
    "    return ((N,e),(N,d))\n",
    "\n",
    "\n",
    "def encrypt(val, public_key):\n",
    "    \"\"\"public key is a tuple containing N,e \"\"\"\n",
    "    N,e = public_key\n",
    "    return exp_powering_with_reductions(val,e,N)\n",
    "#     return pow(val,e,N)\n",
    "\n",
    "def decrypt(cipher, private_key):\n",
    "    \"\"\"Private key is a tuple containing N,d \"\"\"\n",
    "    N,d = private_key\n",
    "    return exp_powering_with_reductions(cipher, d,N)\n",
    "    return pow(cipher,d,N)"
   ]
  },
  {
   "cell_type": "code",
   "execution_count": null,
   "metadata": {},
   "outputs": [],
   "source": [
    "while True:\n",
    "    try:\n",
    "        public_key, secret_key = generate_keys()\n",
    "        break\n",
    "    except Error as e:\n",
    "        print(e)\n",
    "        continue\n",
    "# public_key, secret_key = dummy_keys()"
   ]
  },
  {
   "cell_type": "code",
   "execution_count": null,
   "metadata": {},
   "outputs": [],
   "source": [
    "public_key"
   ]
  },
  {
   "cell_type": "code",
   "execution_count": null,
   "metadata": {},
   "outputs": [],
   "source": [
    "secret_key"
   ]
  },
  {
   "cell_type": "code",
   "execution_count": null,
   "metadata": {},
   "outputs": [],
   "source": [
    "text = \"HELLO WORLD!\""
   ]
  },
  {
   "cell_type": "code",
   "execution_count": null,
   "metadata": {},
   "outputs": [],
   "source": [
    "def str2ascii_list(string):\n",
    "    return [ord(c) for c in string]\n",
    "\n",
    "def ascii_list2str(alist):\n",
    "    s = \"\"\n",
    "    for c in alist:\n",
    "        s+=chr(c)\n",
    "    return s\n",
    "\n",
    "def encrypt_string(string, public_key):\n",
    "    ascii_list = [ord(i) for i in string]\n",
    "    enc_list = [encrypt(j,public_key) for j in ascii_list]\n",
    "    print(enc_list)\n",
    "    enc_string  = \"\"\n",
    "    for enc in enc_list:\n",
    "        enc_string += chr(enc)\n",
    "    return enc_list\n",
    "\n",
    "def decrypt_string(enc_list,private_key):\n",
    "    ascii_list = [decrypt(j, private_key) for j in enc_list]\n",
    "    return ascii_list"
   ]
  },
  {
   "cell_type": "code",
   "execution_count": null,
   "metadata": {},
   "outputs": [],
   "source": [
    "text_asc = str2ascii_list(text)\n",
    "print(\"original:\")\n",
    "print(text_asc)\n",
    "print(\"encrypted:\")\n",
    "enc = [encrypt(c, public_key) for c in text_asc]\n",
    "print(enc)\n",
    "print(\"decrypted_list\")\n",
    "dec_list = [decrypt(c, secret_key) for c in enc]\n",
    "print(dec_list)\n",
    "print(\"result\")\n",
    "res = ascii_list2str(dec_list)\n",
    "print(res)"
   ]
  },
  {
   "cell_type": "code",
   "execution_count": null,
   "metadata": {},
   "outputs": [],
   "source": []
  },
  {
   "cell_type": "code",
   "execution_count": null,
   "metadata": {},
   "outputs": [],
   "source": [
    "# ASCII has values from 32 to 126\n",
    "# print(\"Public,private keys are: \", public_key, secret_key)\n",
    "for i in range(32,127):\n",
    "    enc = encrypt(i, public_key)\n",
    "    dec = decrypt(enc, secret_key)\n",
    "    if dec == i:\n",
    "        print(f\"{i}, ASCII: '{chr(i)}', Encryption: '{enc}', Decrypting encryption: '{dec}'\")\n",
    "    else:\n",
    "        print(f\"{i}, ASCII: '{chr(i)}', Encryption: '{enc}', Decrypting encryption: '{dec}' - FAIL\")"
   ]
  },
  {
   "cell_type": "code",
   "execution_count": null,
   "metadata": {},
   "outputs": [],
   "source": [
    "encrypted = encrypt_string(text,public_key)\n",
    "print(encrypted)\n",
    "decrypted = decrypt_string(encrypted,secret_key)\n",
    "print(decrypted)"
   ]
  },
  {
   "cell_type": "markdown",
   "metadata": {},
   "source": [
    "Different way to encode strings"
   ]
  },
  {
   "cell_type": "code",
   "execution_count": null,
   "metadata": {},
   "outputs": [],
   "source": [
    "def string_to_num(string):\n",
    "    num = 0\n",
    "    for c in string:\n",
    "        new_char = ord(c)\n",
    "        num = (num<<7)+new_char\n",
    "    return num\n",
    "\n",
    "def num_to_string(num):\n",
    "    string = \"\"\n",
    "    while num>0:\n",
    "        new_char = 0x7F\n",
    "        new_char &= num # Now new_char is the ascii value of the last character of the string\n",
    "        string = chr(new_char) + string # We prepend the new character to the string, since we are going in the reverse\n",
    "        num = num >> 7\n",
    "    return string\n",
    "\n",
    "s = \"AB\"\n",
    "\n",
    "string_to_num(s)\n"
   ]
  },
  {
   "cell_type": "code",
   "execution_count": null,
   "metadata": {},
   "outputs": [],
   "source": [
    "while True:\n",
    "    try:\n",
    "        public_key, private_key = generate_keys(100) # generate keys of size 100\n",
    "        break\n",
    "    except:\n",
    "        continue\n",
    "num_chars = 5\n",
    "bits = num_chars * 8\n",
    "largest, lowest = (1<<bits)-1, (1<<(bits-1))\n",
    "for _ in range(5):\n",
    "    num = random.randint(lowest,largest)\n",
    "    s = num_to_string(num)\n",
    "    e = encrypt(num, public_key)\n",
    "    d = decrypt(e, private_key)\n",
    "    ds = num_to_string(d)\n",
    "    p  = f\"{num} = {s} \\t ---> {e} \\t ---> {d} = {ds}\"\n",
    "    print(p)\n"
   ]
  },
  {
   "cell_type": "code",
   "execution_count": null,
   "metadata": {},
   "outputs": [],
   "source": [
    "def rand_string(length):\n",
    "    bits = length * 8\n",
    "    largest, lowest = (1<<bits)-1, (1<<(bits-1))\n",
    "    assert largest.bit_length() == bits\n",
    "    num = random.randint(lowest,largest)\n",
    "    s = num_to_string(num)\n",
    "    return s\n",
    "def rand_legible_string(length):\n",
    "    bits = length * 8\n",
    "    s = \"\"\n",
    "    for _ in range(length):\n",
    "        s += chr(random.randint(32,126))\n",
    "    return s\n"
   ]
  },
  {
   "cell_type": "code",
   "execution_count": null,
   "metadata": {},
   "outputs": [],
   "source": [
    "while True:\n",
    "    try:\n",
    "        pkey, skey = generate_keys(50)\n",
    "        break\n",
    "    except:\n",
    "        continue\n",
    "pkey,skey"
   ]
  },
  {
   "cell_type": "code",
   "execution_count": null,
   "metadata": {},
   "outputs": [],
   "source": [
    "data = np.array([])\n",
    "for _ in range(1000):\n",
    "    data = np.append(data, rand_legible_string(10))\n",
    "print(data[:5])\n",
    "print(len(data))\n"
   ]
  },
  {
   "cell_type": "code",
   "execution_count": null,
   "metadata": {},
   "outputs": [],
   "source": [
    "word = rand_legible_string(10)\n",
    "word_code = string_to_num(word)\n",
    "print(\"legible string: \", word)\n",
    "print(\"encoded: \", word_code)"
   ]
  },
  {
   "cell_type": "code",
   "execution_count": null,
   "metadata": {},
   "outputs": [],
   "source": [
    "locked = encrypt(word_code,pkey)\n",
    "print(locked)"
   ]
  },
  {
   "cell_type": "code",
   "execution_count": null,
   "metadata": {},
   "outputs": [],
   "source": [
    "unlocked = decrypt(locked,skey)\n",
    "print(unlocked)"
   ]
  },
  {
   "cell_type": "code",
   "execution_count": null,
   "metadata": {},
   "outputs": [],
   "source": [
    "primitive_data = np.array([])"
   ]
  },
  {
   "cell_type": "code",
   "execution_count": null,
   "metadata": {},
   "outputs": [],
   "source": [
    "base = (1<<32)-1\n",
    "print(bin(base))\n",
    "for i in range(5):\n",
    "    if i >0 :\n",
    "        num = (1<<(8*i))-1\n",
    "        shift = 32-8*i\n",
    "    else:\n",
    "        num = 1\n",
    "        shift = 31\n",
    "    num = num<<shift\n",
    "    print(bin(num), len(bin(num))-2)"
   ]
  },
  {
   "cell_type": "code",
   "execution_count": null,
   "metadata": {},
   "outputs": [],
   "source": [
    "def generate_simple_data(bit_length):\n",
    "    data = []\n",
    "    for i in range(bit_length//8 +1):\n",
    "        if i > 0 :\n",
    "            num = (1<<(8*i))-1\n",
    "            shift = bit_length-8*i\n",
    "        else:\n",
    "            num = 1\n",
    "            shift = bit_length-1\n",
    "        num = num<<shift\n",
    "        data.append((num, bit_length-shift))\n",
    "    return data"
   ]
  },
  {
   "cell_type": "code",
   "execution_count": null,
   "metadata": {},
   "outputs": [],
   "source": [
    "data = generate_simple_data(128)\n",
    "len(data)"
   ]
  },
  {
   "cell_type": "code",
   "execution_count": null,
   "metadata": {},
   "outputs": [],
   "source": [
    "test = []\n",
    "for num,size in data:\n",
    "    tstart = time.perf_counter()\n",
    "    decrypt(num,skey)\n",
    "    tend = time.perf_counter()\n",
    "    res = tend-tstart\n",
    "    arr = [size, res]\n",
    "#     print(arr)\n",
    "    test.append(arr)\n",
    "#     test[size] = tend-tstart"
   ]
  },
  {
   "cell_type": "code",
   "execution_count": null,
   "metadata": {},
   "outputs": [],
   "source": [
    "results = np.array(test)\n",
    "x_values = results[:,0]\n",
    "y_values = results[:,1]\n",
    "results[:5]"
   ]
  },
  {
   "cell_type": "code",
   "execution_count": null,
   "metadata": {},
   "outputs": [],
   "source": [
    "dataframe = pd.DataFrame(results)\n",
    "dataframe"
   ]
  },
  {
   "cell_type": "code",
   "execution_count": null,
   "metadata": {},
   "outputs": [],
   "source": [
    "plt.plot(x_values, y_values)"
   ]
  },
  {
   "cell_type": "code",
   "execution_count": null,
   "metadata": {},
   "outputs": [],
   "source": [
    "seconds_to_prefix(results[0][1])"
   ]
  },
  {
   "cell_type": "code",
   "execution_count": null,
   "metadata": {},
   "outputs": [],
   "source": [
    "messages = [string_to_num(rand_legible_string(10)) for _ in range(10000)]\n",
    "print(messages[:3])\n",
    "print(pkey, skey)"
   ]
  },
  {
   "cell_type": "markdown",
   "metadata": {},
   "source": [
    "Remember public key is $N, e$"
   ]
  },
  {
   "cell_type": "code",
   "execution_count": 19,
   "metadata": {},
   "outputs": [],
   "source": [
    "\n",
    "\n"
   ]
  },
  {
   "cell_type": "code",
   "execution_count": 19,
   "metadata": {},
   "outputs": [
    {
     "ename": "NameError",
     "evalue": "name 'skey' is not defined",
     "output_type": "error",
     "traceback": [
      "\u001b[1;31m---------------------------------------------------------------------------\u001b[0m",
      "\u001b[1;31mNameError\u001b[0m                                 Traceback (most recent call last)",
      "\u001b[1;32m<ipython-input-19-8f54ae59d6fe>\u001b[0m in \u001b[0;36m<module>\u001b[1;34m\u001b[0m\n\u001b[0;32m      1\u001b[0m \u001b[1;31m# We want to create two sets of random variables. One where the first bit is\u001b[0m\u001b[1;33m\u001b[0m\u001b[1;33m\u001b[0m\u001b[1;33m\u001b[0m\u001b[0m\n\u001b[0;32m      2\u001b[0m \u001b[0mM1\u001b[0m\u001b[1;33m,\u001b[0m \u001b[0mM2\u001b[0m \u001b[1;33m=\u001b[0m \u001b[1;33m[\u001b[0m\u001b[1;33m]\u001b[0m\u001b[1;33m,\u001b[0m\u001b[1;33m[\u001b[0m\u001b[1;33m]\u001b[0m\u001b[1;33m\u001b[0m\u001b[1;33m\u001b[0m\u001b[0m\n\u001b[1;32m----> 3\u001b[1;33m \u001b[0mN\u001b[0m\u001b[1;33m,\u001b[0m \u001b[0md\u001b[0m \u001b[1;33m=\u001b[0m \u001b[0mskey\u001b[0m\u001b[1;33m\u001b[0m\u001b[1;33m\u001b[0m\u001b[0m\n\u001b[0m\u001b[0;32m      4\u001b[0m \u001b[1;32mfor\u001b[0m \u001b[0mm\u001b[0m \u001b[1;32min\u001b[0m \u001b[0mmessages\u001b[0m\u001b[1;33m[\u001b[0m\u001b[1;33m:\u001b[0m\u001b[1;36m10\u001b[0m\u001b[1;33m]\u001b[0m\u001b[1;33m:\u001b[0m\u001b[1;33m\u001b[0m\u001b[1;33m\u001b[0m\u001b[0m\n\u001b[0;32m      5\u001b[0m \u001b[1;31m#     print(\"message: \", str(m)[:3]+\"...\")\u001b[0m\u001b[1;33m\u001b[0m\u001b[1;33m\u001b[0m\u001b[1;33m\u001b[0m\u001b[0m\n",
      "\u001b[1;31mNameError\u001b[0m: name 'skey' is not defined"
     ]
    }
   ],
   "source": [
    "# We want to create two sets of random variables. One where the first bit is\n",
    "M1, M2 = [],[]\n",
    "N, d = skey\n",
    "for m in messages[:10]:\n",
    "#     print(\"message: \", str(m)[:3]+\"...\")\n",
    "    val = exp_powering_with_reductions(m, d, N)\n",
    "    if oracle(m,N):\n",
    "        M1.append(m)\n",
    "    else:\n",
    "        M2.append(m)\n",
    "print(f\"M1 has {len(M1)} messages\")\n",
    "print(f\"M2 has {len(M2)} messages\")"
   ]
  },
  {
   "cell_type": "code",
   "execution_count": 21,
   "metadata": {},
   "outputs": [
    {
     "ename": "NameError",
     "evalue": "name 'generate_keys' is not defined",
     "output_type": "error",
     "traceback": [
      "\u001b[1;31m---------------------------------------------------------------------------\u001b[0m",
      "\u001b[1;31mNameError\u001b[0m                                 Traceback (most recent call last)",
      "\u001b[1;32m<ipython-input-21-e10100d8dc51>\u001b[0m in \u001b[0;36m<module>\u001b[1;34m\u001b[0m\n\u001b[0;32m      1\u001b[0m \u001b[0mM\u001b[0m \u001b[1;33m=\u001b[0m \u001b[1;33m[\u001b[0m\u001b[0mi\u001b[0m \u001b[1;32mfor\u001b[0m \u001b[0mi\u001b[0m \u001b[1;32min\u001b[0m \u001b[0mrange\u001b[0m\u001b[1;33m(\u001b[0m\u001b[1;36m2\u001b[0m\u001b[1;33m**\u001b[0m\u001b[1;36m4\u001b[0m\u001b[1;33m)\u001b[0m\u001b[1;33m]\u001b[0m\u001b[1;33m\u001b[0m\u001b[1;33m\u001b[0m\u001b[0m\n\u001b[1;32m----> 2\u001b[1;33m \u001b[0mpkey_candidate\u001b[0m\u001b[1;33m,\u001b[0m \u001b[0mskey_candidate\u001b[0m \u001b[1;33m=\u001b[0m \u001b[0mgenerate_keys\u001b[0m\u001b[1;33m(\u001b[0m\u001b[1;36m4\u001b[0m\u001b[1;33m)\u001b[0m\u001b[1;33m\u001b[0m\u001b[1;33m\u001b[0m\u001b[0m\n\u001b[0m\u001b[0;32m      3\u001b[0m \u001b[0mpair1\u001b[0m\u001b[1;33m,\u001b[0m \u001b[0mpair2\u001b[0m \u001b[1;33m=\u001b[0m \u001b[1;32mNone\u001b[0m\u001b[1;33m,\u001b[0m \u001b[1;32mNone\u001b[0m\u001b[1;33m\u001b[0m\u001b[1;33m\u001b[0m\u001b[0m\n\u001b[0;32m      4\u001b[0m \u001b[1;32mwhile\u001b[0m \u001b[1;32mTrue\u001b[0m\u001b[1;33m:\u001b[0m\u001b[1;33m\u001b[0m\u001b[1;33m\u001b[0m\u001b[0m\n\u001b[0;32m      5\u001b[0m     \u001b[0mN\u001b[0m\u001b[1;33m,\u001b[0m\u001b[0md\u001b[0m \u001b[1;33m=\u001b[0m \u001b[0mskey_candidate\u001b[0m\u001b[1;33m\u001b[0m\u001b[1;33m\u001b[0m\u001b[0m\n",
      "\u001b[1;31mNameError\u001b[0m: name 'generate_keys' is not defined"
     ]
    }
   ],
   "source": [
    "M = [i for i in range(2**4)]\n",
    "pkey_candidate, skey_candidate = generate_keys(4)\n",
    "pair1, pair2 = None, None\n",
    "while True:\n",
    "    N,d = skey_candidate\n",
    "    assert d!=0\n",
    "    print(skey_candidate)\n",
    "    b1 = d>>(d.bit_length()-1)\n",
    "    if b1&1:\n",
    "        pair1 = pkey_candidate, skey_candidate\n",
    "    else:\n",
    "        pair2 = pkey_candidate, skey_candidate\n",
    "    pkey_candidate, skey_candidate = generate_keys(4)   \n",
    "    if pair1 is not None and pair2 is not None:\n",
    "        break\n",
    "print(\"public key: \", public_key)\n",
    "print(\"secret_key:\", secret_key)\n",
    "print(f\"All values: [{M[0]}, {M[1]}, ..., {M[-1]}]\")\n",
    "print(f\"  = [{bin(M[0])}, {bin(M[1])}, ..., {bin(M[-1])}]\")"
   ]
  },
  {
   "cell_type": "code",
   "execution_count": 17,
   "metadata": {},
   "outputs": [],
   "source": [
    "# def oracle(a,b,N):\n",
    "def oracle(M, N):\n",
    "    \"\"\"decides whether the first reduction of (a**b) is computed with a subtraction or not\"\"\"\n",
    "    pwr_of_R = math.ceil(math.log(N)/math.log(2))\n",
    "    R = 1<<pwr_of_R # R is the smallest power of 2 that is \n",
    "    # Then we precompute R',N'\n",
    "    u,v = extended_euclidiean(R,N)\n",
    "    Rp,Np = u+N, R-v\n",
    "    res_bar = montgomery(1,R,N)\n",
    "    a_bar = montgomery(M,R,N)\n",
    "    b_1 = ... # we are trying to deduce this bit!\n",
    "    res_bar = res_bar * res_bar\n",
    "    res_bar = REDC(res_bar, R,Rp, N,Np, pwr_of_R)\n",
    "    # if b_1 is 1 then this part will be executed\n",
    "    res_bar = res_bar * a_bar\n",
    "    # will a reduction occur after this step??\n",
    "#     res_bar = REDC(res_bar, R,Rp, N,Np, pwr_of_R)\n",
    "    T = res_bar\n",
    "    # T in [0, RN − 1]\n",
    "    assert 0<=T<= R*N -1\n",
    "    print(f\"0<= {std_form(T)} <= RN-1={std_form(R*N-1)}\")\n",
    "    m = ((T % R)*Np) % R\n",
    "#     print(f\"t is: {(T + m*N)} >> {pwr_of_R}\")\n",
    "    t = (T + m*N)>>pwr_of_R\n",
    "    if t>=N: return True\n",
    "    return False"
   ]
  },
  {
   "cell_type": "code",
   "execution_count": 18,
   "metadata": {},
   "outputs": [
    {
     "ename": "NameError",
     "evalue": "name 'skey' is not defined",
     "output_type": "error",
     "traceback": [
      "\u001b[1;31m---------------------------------------------------------------------------\u001b[0m",
      "\u001b[1;31mNameError\u001b[0m                                 Traceback (most recent call last)",
      "\u001b[1;32m<ipython-input-18-23cc7c82933f>\u001b[0m in \u001b[0;36m<module>\u001b[1;34m\u001b[0m\n\u001b[0;32m      1\u001b[0m \u001b[0mM1\u001b[0m\u001b[1;33m,\u001b[0m \u001b[0mM2\u001b[0m \u001b[1;33m=\u001b[0m \u001b[1;33m[\u001b[0m\u001b[1;33m]\u001b[0m\u001b[1;33m,\u001b[0m\u001b[1;33m[\u001b[0m\u001b[1;33m]\u001b[0m\u001b[1;33m\u001b[0m\u001b[1;33m\u001b[0m\u001b[0m\n\u001b[1;32m----> 2\u001b[1;33m \u001b[0mN\u001b[0m\u001b[1;33m,\u001b[0m \u001b[0md\u001b[0m \u001b[1;33m=\u001b[0m \u001b[0mskey\u001b[0m\u001b[1;33m\u001b[0m\u001b[1;33m\u001b[0m\u001b[0m\n\u001b[0m\u001b[0;32m      3\u001b[0m \u001b[0mprint\u001b[0m\u001b[1;33m(\u001b[0m\u001b[1;34m\"b_1 is: \"\u001b[0m\u001b[1;33m,\u001b[0m \u001b[0mbin\u001b[0m\u001b[1;33m(\u001b[0m\u001b[0md\u001b[0m\u001b[1;33m)\u001b[0m\u001b[1;33m[\u001b[0m\u001b[1;36m3\u001b[0m\u001b[1;33m]\u001b[0m\u001b[1;33m)\u001b[0m\u001b[1;33m\u001b[0m\u001b[1;33m\u001b[0m\u001b[0m\n\u001b[0;32m      4\u001b[0m \u001b[0mprint\u001b[0m\u001b[1;33m(\u001b[0m\u001b[0mbin\u001b[0m\u001b[1;33m(\u001b[0m\u001b[0md\u001b[0m\u001b[1;33m)\u001b[0m\u001b[1;33m)\u001b[0m\u001b[1;33m\u001b[0m\u001b[1;33m\u001b[0m\u001b[0m\n\u001b[0;32m      5\u001b[0m \u001b[1;32mfor\u001b[0m \u001b[0mm\u001b[0m \u001b[1;32min\u001b[0m \u001b[0mM\u001b[0m\u001b[1;33m:\u001b[0m\u001b[1;33m\u001b[0m\u001b[1;33m\u001b[0m\u001b[0m\n",
      "\u001b[1;31mNameError\u001b[0m: name 'skey' is not defined"
     ]
    }
   ],
   "source": [
    "M1, M2 = [],[]\n",
    "N, d = skey\n",
    "print(\"b_1 is: \", bin(d)[3])\n",
    "print(bin(d))\n",
    "for m in M:\n",
    "#     print(\"message: \", str(m)[:3]+\"...\")\n",
    "    val = exp_powering_with_reductions(m, d, N)\n",
    "    if oracle(m,N):\n",
    "        M1.append(m)\n",
    "    else:\n",
    "        M2.append(m)\n",
    "print(f\"M1 has {len(M1)} messages\")\n",
    "print(f\"M2 has {len(M2)} messages\")"
   ]
  },
  {
   "cell_type": "code",
   "execution_count": null,
   "metadata": {},
   "outputs": [],
   "source": []
  }
 ],
 "metadata": {
  "kernelspec": {
   "display_name": "Python 3",
   "language": "python",
   "name": "python3"
  },
  "language_info": {
   "codemirror_mode": {
    "name": "ipython",
    "version": 3
   },
   "file_extension": ".py",
   "mimetype": "text/x-python",
   "name": "python",
   "nbconvert_exporter": "python",
   "pygments_lexer": "ipython3",
   "version": "3.8.5"
  }
 },
 "nbformat": 4,
 "nbformat_minor": 4
}
