{
 "cells": [
  {
   "cell_type": "markdown",
   "metadata": {},
   "source": [
    "# RSA signatures\n",
    "\n",
    "Sigurjón Ágústsson"
   ]
  },
  {
   "cell_type": "code",
   "execution_count": 1,
   "metadata": {},
   "outputs": [],
   "source": [
    "import random\n",
    "import time\n",
    "import numpy as np"
   ]
  },
  {
   "cell_type": "code",
   "execution_count": 2,
   "metadata": {},
   "outputs": [
    {
     "name": "stdout",
     "output_type": "stream",
     "text": [
      "Small odd primes loaded : [3, 5, 7, 11, 13]...[7901, 7907, 7919]\n"
     ]
    }
   ],
   "source": [
    "def load_small_primes():\n",
    "    pfile =  open(\"1000primes.txt\", \"r\")\n",
    "    small_primes = [int(num) for num in pfile.read().split(',')]\n",
    "    return small_primes\n",
    "\n",
    "small_odd_primes = load_small_primes()\n",
    "print(\"Small odd primes loaded : {}...{}\".format(small_odd_primes[:5], small_odd_primes[-3:]))"
   ]
  },
  {
   "cell_type": "markdown",
   "metadata": {},
   "source": [
    "We start by introducing some helper functions. Most important of which is the modular exponentiation function which uses Montgomery modular multiplication to very quickly compute modular exponentiation."
   ]
  },
  {
   "cell_type": "code",
   "execution_count": 3,
   "metadata": {},
   "outputs": [],
   "source": [
    "def even(n):\n",
    "    \"\"\"Checks the parity of n\"\"\"\n",
    "    return (n&1) != 1\n",
    "\n",
    "def pow_n_mod_n(a,n):\n",
    "    \"\"\"Naive and very inefficient way of doing modular exponentiation\"\"\"\n",
    "    return ((a**(n-1)) % n)\n",
    "\n",
    "def modular_exponentiation(a,n):\n",
    "    \"\"\"Python's fast way of doing modular exponentiation\"\"\"\n",
    "    return pow(a,(n-1),n)\n",
    "\n",
    "def divisible_by_small_prime(n, resolution=1000):\n",
    "    \"\"\"A function that checks if a number n has one of the \n",
    "        1000 first primes as a factor (excluding 2 because \n",
    "        it is checked for already)\"\"\"\n",
    "    global small_odd_primes # The array of primes\n",
    "    for small_prime in small_odd_primes[:resolution]:\n",
    "        if n == small_prime:\n",
    "            # In this case n is a small prime number, and we return\n",
    "            # False to indicate it is not divisible by any of\n",
    "            # the smaller primes\n",
    "            return False\n",
    "        if (n % small_prime) == 0:\n",
    "            # print(\"diviseble by small prime\")\n",
    "            return True\n",
    "    return False\n",
    "\n",
    "def seconds_to_prefix(sec):\n",
    "    \"\"\"Just a function that inputs number of seconds (float) and \n",
    "        outputs a string representation with a unit (s, ms or min) \"\"\"\n",
    "    if sec < 1:\n",
    "        ms = sec * 1000\n",
    "        return \"{} ms\".format(round(ms,4))\n",
    "    elif sec < 60:\n",
    "        return \"{} s\".format(round(sec,4))\n",
    "    else:\n",
    "        min = int(sec) // 60\n",
    "        rem = seconds_to_prefix(sec-60*min)\n",
    "        return \"{} min and {}\".format(min,rem)"
   ]
  },
  {
   "cell_type": "markdown",
   "metadata": {},
   "source": [
    "Let's demonstrate with a timing example."
   ]
  },
  {
   "cell_type": "code",
   "execution_count": 4,
   "metadata": {},
   "outputs": [
    {
     "name": "stdout",
     "output_type": "stream",
     "text": [
      "83344\n",
      "83344\n",
      "Using the slow algorithm, it took: 1.6449 s         \n",
      "Using the fast algorithm, it took: 0.0423 ms\n",
      "The Montgomery algorithm makes modular exponentiation 38886.88 times faster in this case!\n"
     ]
    }
   ],
   "source": [
    "bits = 20\n",
    "# Let n be a random 20 bit integer\n",
    "n = random.randint((1<<(bits-1)),((1<<bits)-1))\n",
    "a = random.randint(0xFFFF,n-1) # a very large number but still less than n\n",
    "\n",
    "\n",
    "ex1_start = time.perf_counter()\n",
    "print(pow_n_mod_n(a,n))\n",
    "ex1_end = time.perf_counter()\n",
    "ex2_start = time.perf_counter()\n",
    "print(modular_exponentiation(a,n))\n",
    "ex2_end = time.perf_counter()\n",
    "t1,t2 = (ex1_end-ex1_start), (ex2_end-ex2_start)\n",
    "strt1,strt2 = seconds_to_prefix(t1), seconds_to_prefix(t2)\n",
    "diff = round(t1/t2,2)\n",
    "print(\"Using the slow algorithm, it took: {} \\\n",
    "        \\nUsing the fast algorithm, it took: {}\".format(strt1,strt2))\n",
    "print(\"The Montgomery algorithm makes modular exponentiation {} times faster in this case!\".format(diff))"
   ]
  },
  {
   "cell_type": "markdown",
   "metadata": {},
   "source": [
    "## Prime number generation\n",
    "\n",
    "Now we are ready to do generate prime numbers. "
   ]
  },
  {
   "cell_type": "code",
   "execution_count": 5,
   "metadata": {},
   "outputs": [],
   "source": [
    "def probable_prime(size):\n",
    "    assert size > 0\n",
    "    s = size-1\n",
    "    smallest = 1<<s\n",
    "    largest = (1<<(s+1))-1\n",
    "    while True:\n",
    "        # First pick a random number n of size 'size' bits\n",
    "        n = random.randint(smallest,largest)\n",
    "        if even(n) or divisible_by_small_prime(n):\n",
    "            continue\n",
    "        a = random.randint(2,n-1)\n",
    "\n",
    "        mod_computation = modular_exponentiation(a,n)\n",
    "\n",
    "        if mod_computation == 1:\n",
    "            # By Fermat's little thm, if the result is not 1\n",
    "            # then n is not prime, otherwise, it is likely to \n",
    "            # be prime\n",
    "            return n"
   ]
  },
  {
   "cell_type": "markdown",
   "metadata": {},
   "source": [
    "Let's use this to generate some \"small\" probably-prime numbers, or pseudoprimes."
   ]
  },
  {
   "cell_type": "code",
   "execution_count": 6,
   "metadata": {},
   "outputs": [
    {
     "name": "stdout",
     "output_type": "stream",
     "text": [
      "8 bits: \t 241\n",
      "16 bits: \t 55529\n",
      "24 bits: \t 8897221\n",
      "32 bits: \t 2699350453\n"
     ]
    }
   ],
   "source": [
    "for i in range(4):\n",
    "    bits = 8*(i+1)\n",
    "    print(\"{} bits: \\t\".format(bits), probable_prime(bits))"
   ]
  },
  {
   "cell_type": "markdown",
   "metadata": {},
   "source": [
    "In RSA encryption we want much larger primes. Typically 1024 or 3072 bits. That is no obstacle for us, let's generate such pseudoprimes:"
   ]
  },
  {
   "cell_type": "code",
   "execution_count": 7,
   "metadata": {},
   "outputs": [],
   "source": [
    "p1024 = probable_prime(1024)\n",
    "p3072 = probable_prime(3072)"
   ]
  },
  {
   "cell_type": "code",
   "execution_count": 8,
   "metadata": {},
   "outputs": [
    {
     "data": {
      "text/plain": [
       "124722207715798843085314418188174158449674016073167808559486344560870871416305403611896896302537506865104753414437387078722960057176336220492800624133246357933834268693150785848549239637891063220475000201829481360915812288886503918885610733347578137034563799007994077297748361290036179303969911907362561827053"
      ]
     },
     "execution_count": 8,
     "metadata": {},
     "output_type": "execute_result"
    }
   ],
   "source": [
    "p1024"
   ]
  },
  {
   "cell_type": "code",
   "execution_count": 9,
   "metadata": {},
   "outputs": [
    {
     "data": {
      "text/plain": [
       "4852670007218978024068530440384602121336294282306837767698195092915570978909080639858255217683445293958453732230658816203108738918375458390226917098623096968785784136882216366869838497921447232217780081156076312982166317042725799872624217937286944394718757919520162281138089137162427745210408196685859710370602914071472756735537942621530081757225213174020416757502112548790138972181691584451502195097938801313482534482328767197405952795332867422785149505561044668317330468449415182979929036180595294609872069809028005299298734409742629386038908368734005272952472018598513546116905772154904208065428673287161154182772022891996011445423309870830400781171486575268305511571720833534875972961660803304710776256946822526700962142571991630637782424846601056759081283638508604705693202451586225402060949315667589682143584545055279982721800973138046436284713029715459108446069301884182952052910100257843972580215290708143327107080627"
      ]
     },
     "execution_count": 9,
     "metadata": {},
     "output_type": "execute_result"
    }
   ],
   "source": [
    "p3072"
   ]
  },
  {
   "cell_type": "markdown",
   "metadata": {},
   "source": [
    "## RSA signatures"
   ]
  },
  {
   "cell_type": "code",
   "execution_count": 10,
   "metadata": {},
   "outputs": [],
   "source": [
    "def find_ed(N,T):\n",
    "    e = 3\n",
    "    d = 4\n",
    "    while (e*d)%T != 1:\n",
    "        if d>2000:\n",
    "            raise ValueError(\"d is too large this is not working\")\n",
    "        d += 1\n",
    "    return (e,d)"
   ]
  },
  {
   "cell_type": "code",
   "execution_count": 26,
   "metadata": {},
   "outputs": [],
   "source": [
    "def generate_keys(size=1024):\n",
    "    \"\"\"Function that returns a tuple of public and private keys of given size (in bits)\"\"\"\n",
    "    p,q = probable_prime(size),probable_prime(size)\n",
    "    N = p*q\n",
    "    T = N - p - q + 1 # (p-1)(q-1)\n",
    "    # e is less than T. And it is coprime to T and N\n",
    "    # e*d mod T has to be 1\n",
    "    # e is typically 3 - Ben\n",
    "    e,d = find_ed(N,T)\n",
    "    return ((N,e),(N,d))\n",
    "\n",
    "def dummy_keys():\n",
    "    return ((91, 5), (91, 29))\n",
    "\n",
    "def encrypt(val, public_key):\n",
    "    \"\"\"public key is a tuple containing N,e \"\"\"\n",
    "    N,e = public_key\n",
    "    return pow(val,e,N)\n",
    "\n",
    "def decrypt(cipher, private_key):\n",
    "    \"\"\"Private key is a tuple containing N,d \"\"\"\n",
    "    N,d = private_key\n",
    "    return pow(cipher,d,N)"
   ]
  },
  {
   "cell_type": "code",
   "execution_count": 27,
   "metadata": {},
   "outputs": [],
   "source": [
    "# public_key, secret_key = generate_keys()\n",
    "public_key, secret_key = dummy_keys()"
   ]
  },
  {
   "cell_type": "code",
   "execution_count": 28,
   "metadata": {},
   "outputs": [
    {
     "data": {
      "text/plain": [
       "(91, 5)"
      ]
     },
     "execution_count": 28,
     "metadata": {},
     "output_type": "execute_result"
    }
   ],
   "source": [
    "public_key"
   ]
  },
  {
   "cell_type": "code",
   "execution_count": 29,
   "metadata": {},
   "outputs": [
    {
     "data": {
      "text/plain": [
       "(91, 29)"
      ]
     },
     "execution_count": 29,
     "metadata": {},
     "output_type": "execute_result"
    }
   ],
   "source": [
    "secret_key"
   ]
  },
  {
   "cell_type": "code",
   "execution_count": 30,
   "metadata": {},
   "outputs": [
    {
     "data": {
      "text/plain": [
       "4"
      ]
     },
     "execution_count": 30,
     "metadata": {},
     "output_type": "execute_result"
    }
   ],
   "source": [
    "text = \"hello world!\"\n",
    "l = [\"a\",\"b\",\"c\"]\n",
    "ord('\\x04')"
   ]
  },
  {
   "cell_type": "code",
   "execution_count": 44,
   "metadata": {},
   "outputs": [],
   "source": [
    "def str2ascii_list(string):\n",
    "    return [ord(c) for c in string]\n",
    "\n",
    "def ascii_list2str(alist):\n",
    "    s = \"\"\n",
    "    for c in alist:\n",
    "        s+=chr(c)\n",
    "    return s\n",
    "\n",
    "def encrypt_string(string, public_key):\n",
    "    ascii_list = [ord(i) for i in string]\n",
    "    enc_list = [encrypt(j,public_key) for j in ascii_list]\n",
    "    print(enc_list)\n",
    "    enc_string  = \"\"\n",
    "    for enc in enc_list:\n",
    "        enc_string += chr(enc)\n",
    "    return enc_list\n",
    "\n",
    "def decrypt_string(enc_list,private_key):\n",
    "    ascii_list = [decrypt(j, private_key) for j in enc_list]\n",
    "    return ascii_list"
   ]
  },
  {
   "cell_type": "code",
   "execution_count": 46,
   "metadata": {},
   "outputs": [
    {
     "name": "stdout",
     "output_type": "stream",
     "text": [
      "[104, 101, 108, 108, 111, 32, 119, 111, 114, 108, 100, 33]\n",
      "hello world!\n"
     ]
    }
   ],
   "source": [
    "text_asc = str2ascii_list(text)\n",
    "print(\"original:\")\n",
    "print(text_asc)\n",
    "print(\"encrypted:\")\n",
    "enc = [encrypt(c, public_key) for c in text_asc]\n",
    "print(enc)\n",
    "print(\"decrypted_list\")\n",
    "dec_list = [decrypt(c, secret_key) for c in enc]\n",
    "print(dec_list)\n",
    "print(\"result\")\n",
    "res = ascii_list2str(dec)\n",
    "print(res)"
   ]
  },
  {
   "cell_type": "code",
   "execution_count": 41,
   "metadata": {},
   "outputs": [
    {
     "name": "stdout",
     "output_type": "stream",
     "text": [
      "39\n",
      "65\n",
      "A\n"
     ]
    }
   ],
   "source": [
    "char = ord('A')\n",
    "enc_char = encrypt(char, public_key)\n",
    "print(enc_char)\n",
    "dec_char = decrypt(enc_char,secret_key)\n",
    "print(dec_char)\n",
    "print(chr(dec_char))"
   ]
  },
  {
   "cell_type": "code",
   "execution_count": 42,
   "metadata": {},
   "outputs": [
    {
     "name": "stdout",
     "output_type": "stream",
     "text": [
      "[13, 82, 75, 75, 76, 2, 84, 76, 4, 75, 81, 24]\n",
      "[13, 82, 75, 75, 76, 2, 84, 76, 4, 75, 81, 24]\n",
      "[13, 10, 17, 17, 20, 32, 28, 20, 23, 17, 9, 33]\n"
     ]
    }
   ],
   "source": [
    "encrypted = encrypt_string(text,public_key)\n",
    "print(encrypted)\n",
    "decrypted = decrypt_string(encrypted,secret_key)\n",
    "print(decrypted)"
   ]
  },
  {
   "cell_type": "code",
   "execution_count": null,
   "metadata": {},
   "outputs": [],
   "source": []
  }
 ],
 "metadata": {
  "kernelspec": {
   "display_name": "Python 3",
   "language": "python",
   "name": "python3"
  },
  "language_info": {
   "codemirror_mode": {
    "name": "ipython",
    "version": 3
   },
   "file_extension": ".py",
   "mimetype": "text/x-python",
   "name": "python",
   "nbconvert_exporter": "python",
   "pygments_lexer": "ipython3",
   "version": "3.8.5"
  }
 },
 "nbformat": 4,
 "nbformat_minor": 4
}
