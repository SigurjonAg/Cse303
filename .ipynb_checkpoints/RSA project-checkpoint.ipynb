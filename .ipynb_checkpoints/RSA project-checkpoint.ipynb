{
 "cells": [
  {
   "cell_type": "markdown",
   "metadata": {},
   "source": [
    "# RSA signatures\n",
    "\n",
    "Sigurjón Ágústsson"
   ]
  },
  {
   "cell_type": "code",
   "execution_count": 14,
   "metadata": {},
   "outputs": [],
   "source": [
    "import random\n",
    "import time\n",
    "import numpy as np"
   ]
  },
  {
   "cell_type": "code",
   "execution_count": 15,
   "metadata": {},
   "outputs": [
    {
     "name": "stdout",
     "output_type": "stream",
     "text": [
      "Small odd primes loaded : [3, 5, 7, 11, 13]...[7901, 7907, 7919]\n"
     ]
    }
   ],
   "source": [
    "def load_small_primes():\n",
    "    pfile =  open(\"1000primes.txt\", \"r\")\n",
    "    small_primes = [int(num) for num in pfile.read().split(',')]\n",
    "    return small_primes\n",
    "\n",
    "small_odd_primes = load_small_primes()\n",
    "print(\"Small odd primes loaded : {}...{}\".format(small_odd_primes[:5], small_odd_primes[-3:]))"
   ]
  },
  {
   "cell_type": "markdown",
   "metadata": {},
   "source": [
    "We start by introducing some helper functions. Most important of which is the modular exponentiation function which uses Montgomery modular multiplication to very quickly compute modular exponentiation."
   ]
  },
  {
   "cell_type": "code",
   "execution_count": 16,
   "metadata": {},
   "outputs": [],
   "source": [
    "def even(n):\n",
    "    \"\"\"Checks the parity of n\"\"\"\n",
    "    return (n&1) != 1\n",
    "\n",
    "def pow_n_mod_n(a,n):\n",
    "    \"\"\"Naive and very inefficient way of doing modular exponentiation\"\"\"\n",
    "    return ((a**(n-1)) % n)\n",
    "\n",
    "def modular_exponentiation(a,n):\n",
    "    \"\"\"Python's fast way of doing modular exponentiation\"\"\"\n",
    "    return pow(a,(n-1),n)\n",
    "\n",
    "def divisible_by_small_prime(n, resolution=1000):\n",
    "    \"\"\"A function that checks if a number n has one of the \n",
    "        1000 first primes as a factor (excluding 2 because \n",
    "        it is checked for already)\"\"\"\n",
    "    global small_odd_primes # The array of primes\n",
    "    for small_prime in small_odd_primes[:resolution]:\n",
    "        if n == small_prime:\n",
    "            # In this case n is a small prime number, and we return\n",
    "            # False to indicate it is not divisible by any of\n",
    "            # the smaller primes\n",
    "            return False\n",
    "        if (n % small_prime) == 0:\n",
    "            # print(\"diviseble by small prime\")\n",
    "            return True\n",
    "    return False\n",
    "\n",
    "def seconds_to_prefix(sec):\n",
    "    \"\"\"Just a function that inputs number of seconds (float) and \n",
    "        outputs a string representation with a unit (s, ms or min) \"\"\"\n",
    "    if sec < 1:\n",
    "        ms = sec * 1000\n",
    "        return \"{} ms\".format(round(ms,4))\n",
    "    elif sec < 60:\n",
    "        return \"{} s\".format(round(sec,4))\n",
    "    else:\n",
    "        min = int(sec) // 60\n",
    "        rem = seconds_to_prefix(sec-60*min)\n",
    "        return \"{} min and {}\".format(min,rem)"
   ]
  },
  {
   "cell_type": "markdown",
   "metadata": {},
   "source": [
    "Let's demonstrate with a timing example."
   ]
  },
  {
   "cell_type": "code",
   "execution_count": 17,
   "metadata": {},
   "outputs": [
    {
     "name": "stdout",
     "output_type": "stream",
     "text": [
      "508462\n",
      "508462\n",
      "Using the slow algorithm, it took: 1.6541 s         \n",
      "Using the fast algorithm, it took: 0.0398 ms\n",
      "The Montgomery algorithm makes modular exponentiation 41560.78 times faster in this case!\n"
     ]
    }
   ],
   "source": [
    "bits = 20\n",
    "# Let n be a random 20 bit integer\n",
    "n = random.randint((1<<(bits-1)),((1<<bits)-1))\n",
    "a = random.randint(0xFFFF,n-1) # a very large number but still less than n\n",
    "\n",
    "\n",
    "ex1_start = time.perf_counter()\n",
    "print(pow_n_mod_n(a,n))\n",
    "ex1_end = time.perf_counter()\n",
    "ex2_start = time.perf_counter()\n",
    "print(modular_exponentiation(a,n))\n",
    "ex2_end = time.perf_counter()\n",
    "t1,t2 = (ex1_end-ex1_start), (ex2_end-ex2_start)\n",
    "strt1,strt2 = seconds_to_prefix(t1), seconds_to_prefix(t2)\n",
    "diff = round(t1/t2,2)\n",
    "print(\"Using the slow algorithm, it took: {} \\\n",
    "        \\nUsing the fast algorithm, it took: {}\".format(strt1,strt2))\n",
    "print(\"The Montgomery algorithm makes modular exponentiation {} times faster in this case!\".format(diff))"
   ]
  },
  {
   "cell_type": "markdown",
   "metadata": {},
   "source": [
    "## Prime number generation\n",
    "\n",
    "Now we are ready to do generate prime numbers. "
   ]
  },
  {
   "cell_type": "code",
   "execution_count": 18,
   "metadata": {},
   "outputs": [],
   "source": [
    "def probable_prime(size):\n",
    "    assert size > 0\n",
    "    s = size-1\n",
    "    smallest = 1<<s\n",
    "    largest = (1<<(s+1))-1\n",
    "    while True:\n",
    "        # First pick a random number n of size 'size' bits\n",
    "        n = random.randint(smallest,largest)\n",
    "        if even(n) or divisible_by_small_prime(n):\n",
    "            continue\n",
    "        a = random.randint(2,n-1)\n",
    "\n",
    "        mod_computation = modular_exponentiation(a,n)\n",
    "\n",
    "        if mod_computation == 1:\n",
    "            # By Fermat's little thm, if the result is not 1\n",
    "            # then n is not prime, otherwise, it is likely to \n",
    "            # be prime\n",
    "            return n"
   ]
  },
  {
   "cell_type": "markdown",
   "metadata": {},
   "source": [
    "Let's use this to generate some \"small\" probably-prime numbers, or pseudoprimes."
   ]
  },
  {
   "cell_type": "code",
   "execution_count": 19,
   "metadata": {},
   "outputs": [
    {
     "name": "stdout",
     "output_type": "stream",
     "text": [
      "8 bits: \t 193\n",
      "16 bits: \t 53881\n",
      "24 bits: \t 15850739\n",
      "32 bits: \t 2618465573\n"
     ]
    }
   ],
   "source": [
    "for i in range(4):\n",
    "    bits = 8*(i+1)\n",
    "    print(\"{} bits: \\t\".format(bits), probable_prime(bits))"
   ]
  },
  {
   "cell_type": "markdown",
   "metadata": {},
   "source": [
    "In RSA encryption we want much larger primes. Typically 1024 or 3072 bits. That is no obstacle for us, let's generate such pseudoprimes:"
   ]
  },
  {
   "cell_type": "code",
   "execution_count": 38,
   "metadata": {},
   "outputs": [
    {
     "name": "stdout",
     "output_type": "stream",
     "text": [
      "178669879833238058803097230945796509217220128626420334357191547020827428454242408443807852290079627911117474207117030340362094125665778751017398846151977855704299536040324506463489481545876098988273129981573475275515572769878823605967157544036805354035545342161039183557952119110897054871043393788164984832399\n",
      "execution time: 0.037 seconds\n"
     ]
    }
   ],
   "source": [
    "t1s = time.perf_counter()\n",
    "p1024 = probable_prime(1024)\n",
    "t1e = time.perf_counter()\n",
    "print(p1024)\n",
    "print(\"execution time: {} seconds\".format(round((t1e-t1s),3)))"
   ]
  },
  {
   "cell_type": "code",
   "execution_count": 39,
   "metadata": {},
   "outputs": [
    {
     "name": "stdout",
     "output_type": "stream",
     "text": [
      "4773147904658828348516806229466132409572384417959991116555404200487871941555747007599299930452534622640586564635765925047116792538348919936173540953531783697768701482368306271205680427379838747791265472294387800222320820675626195427690907492811542583596301530362892913037219164227286188526709774034100313852602691053480898884212474274380391330280734594212892983870897998936647727656239733009285726614992113798056528645766299772670877885835512429478000631907400630636658842647518080212425860525103145330380045698153428039750814152338008893715536732983782104185728108162512614849879430556933306977770975346766887247828545703659932685916651245248000937226886053173659030953258687002446221937754238441673234416101946171962591846544721579743339637557261585352678330115683013676235890967733464813665671123650510834539475532280639216064379609624883790194669055416925238175703370852337734450712143957664997195377078337918119952306383\n",
      "execution time: 8.177 seconds\n"
     ]
    }
   ],
   "source": [
    "t1s = time.perf_counter()\n",
    "p3072 = probable_prime(3072)\n",
    "t1e = time.perf_counter()\n",
    "print(p3072)\n",
    "print(\"execution time: {} seconds\".format(round((t1e-t1s),3)))"
   ]
  },
  {
   "cell_type": "markdown",
   "metadata": {},
   "source": [
    "## RSA signatures"
   ]
  },
  {
   "cell_type": "code",
   "execution_count": 23,
   "metadata": {},
   "outputs": [
    {
     "name": "stdout",
     "output_type": "stream",
     "text": [
      "167\n"
     ]
    }
   ],
   "source": [
    "e = 3\n",
    "print(pow(e,-1,500))"
   ]
  },
  {
   "cell_type": "code",
   "execution_count": 24,
   "metadata": {},
   "outputs": [],
   "source": [
    "def find_ed(N,T):\n",
    "    e = 3\n",
    "    d = pow(e,-1,T)\n",
    "    return (e,d)"
   ]
  },
  {
   "cell_type": "code",
   "execution_count": 25,
   "metadata": {},
   "outputs": [],
   "source": [
    "def generate_keys(size=1024):\n",
    "    \"\"\"Function that returns a tuple of public and private keys of given size (in bits)\"\"\"\n",
    "    p,q = probable_prime(size),probable_prime(size)\n",
    "    N = p*q\n",
    "    # e is less than T. And it is coprime to T and N\n",
    "    # e*d mod T has to be 1\n",
    "    # e is typically 3\n",
    "    T = N - p - q + 1 # (p-1)(q-1)\n",
    "    e = 3\n",
    "    d = pow(e,-1,T)\n",
    "    return ((N,e),(N,d))\n",
    "\n",
    "def dummy_keys():\n",
    "    return ((91, 5), (91, 29))\n",
    "\n",
    "def encrypt(val, public_key):\n",
    "    \"\"\"public key is a tuple containing N,e \"\"\"\n",
    "    N,e = public_key\n",
    "    return pow(val,e,N)\n",
    "\n",
    "def decrypt(cipher, private_key):\n",
    "    \"\"\"Private key is a tuple containing N,d \"\"\"\n",
    "    N,d = private_key\n",
    "    return pow(cipher,d,N)"
   ]
  },
  {
   "cell_type": "code",
   "execution_count": 26,
   "metadata": {},
   "outputs": [],
   "source": [
    "public_key, secret_key = generate_keys()\n",
    "# public_key, secret_key = dummy_keys()"
   ]
  },
  {
   "cell_type": "code",
   "execution_count": 27,
   "metadata": {},
   "outputs": [
    {
     "data": {
      "text/plain": [
       "(18472208556680261967665985663500975132801565602218831511265395241007946232441937464853192318459351792252730799228778990611499446529895109199902625082685536323707545443388984813058872831649183703572126458895071669424863163636578326587733333193924928065923475615130041770191493226349004025493392864950110365331679482258565866394910608044511682097603197005870097580735983075965449185939875721276978497624479099127213078290188285010667124741571473040486834624111044475361689571762858166704318843082245672045068305928694741152252727594533733513356081836815470751162156756740211910566108577411790752821658441156579407661893,\n",
       " 3)"
      ]
     },
     "execution_count": 27,
     "metadata": {},
     "output_type": "execute_result"
    }
   ],
   "source": [
    "public_key"
   ]
  },
  {
   "cell_type": "code",
   "execution_count": 28,
   "metadata": {},
   "outputs": [
    {
     "data": {
      "text/plain": [
       "(18472208556680261967665985663500975132801565602218831511265395241007946232441937464853192318459351792252730799228778990611499446529895109199902625082685536323707545443388984813058872831649183703572126458895071669424863163636578326587733333193924928065923475615130041770191493226349004025493392864950110365331679482258565866394910608044511682097603197005870097580735983075965449185939875721276978497624479099127213078290188285010667124741571473040486834624111044475361689571762858166704318843082245672045068305928694741152252727594533733513356081836815470751162156756740211910566108577411790752821658441156579407661893,\n",
       " 12314805704453507978443990442333983421867710401479221007510263494005297488294624976568794878972901194835153866152519327074332964353263406133268416721790357549138363628925989875372581887766122469048084305930047779616575442424385551058488888795949952043948983743420027846794328817566002683662261909966740243554271149541196027820219024454108307298162391081361990352565859966588694092068954028767929146432343880112362932115775453784113185621625228331509700599109393699298205009942009380229013746987202412095259766408322497568882389105224552209765127633809446688832665408121653002120379944171803496241283897607494038776299)"
      ]
     },
     "execution_count": 28,
     "metadata": {},
     "output_type": "execute_result"
    }
   ],
   "source": [
    "secret_key"
   ]
  },
  {
   "cell_type": "code",
   "execution_count": 29,
   "metadata": {},
   "outputs": [],
   "source": [
    "text = \"HELLO WORLD!\""
   ]
  },
  {
   "cell_type": "code",
   "execution_count": 30,
   "metadata": {},
   "outputs": [],
   "source": [
    "def str2ascii_list(string):\n",
    "    return [ord(c) for c in string]\n",
    "\n",
    "def ascii_list2str(alist):\n",
    "    s = \"\"\n",
    "    for c in alist:\n",
    "        s+=chr(c)\n",
    "    return s\n",
    "\n",
    "def encrypt_string(string, public_key):\n",
    "    ascii_list = [ord(i) for i in string]\n",
    "    enc_list = [encrypt(j,public_key) for j in ascii_list]\n",
    "    print(enc_list)\n",
    "    enc_string  = \"\"\n",
    "    for enc in enc_list:\n",
    "        enc_string += chr(enc)\n",
    "    return enc_list\n",
    "\n",
    "def decrypt_string(enc_list,private_key):\n",
    "    ascii_list = [decrypt(j, private_key) for j in enc_list]\n",
    "    return ascii_list"
   ]
  },
  {
   "cell_type": "code",
   "execution_count": 31,
   "metadata": {},
   "outputs": [
    {
     "name": "stdout",
     "output_type": "stream",
     "text": [
      "original:\n",
      "[72, 69, 76, 76, 79, 32, 87, 79, 82, 76, 68, 33]\n",
      "encrypted:\n",
      "[373248, 328509, 438976, 438976, 493039, 32768, 658503, 493039, 551368, 438976, 314432, 35937]\n",
      "decrypted_list\n",
      "[72, 69, 76, 76, 79, 32, 87, 79, 82, 76, 68, 33]\n",
      "result\n",
      "HELLO WORLD!\n"
     ]
    }
   ],
   "source": [
    "text_asc = str2ascii_list(text)\n",
    "print(\"original:\")\n",
    "print(text_asc)\n",
    "print(\"encrypted:\")\n",
    "enc = [encrypt(c, public_key) for c in text_asc]\n",
    "print(enc)\n",
    "print(\"decrypted_list\")\n",
    "dec_list = [decrypt(c, secret_key) for c in enc]\n",
    "print(dec_list)\n",
    "print(\"result\")\n",
    "res = ascii_list2str(dec_list)\n",
    "print(res)"
   ]
  },
  {
   "cell_type": "code",
   "execution_count": null,
   "metadata": {},
   "outputs": [],
   "source": []
  },
  {
   "cell_type": "code",
   "execution_count": 32,
   "metadata": {},
   "outputs": [
    {
     "name": "stdout",
     "output_type": "stream",
     "text": [
      "32, ASCII: ' ', Encryption: '32768', Decrypting encryption: '32'\n",
      "33, ASCII: '!', Encryption: '35937', Decrypting encryption: '33'\n",
      "34, ASCII: '\"', Encryption: '39304', Decrypting encryption: '34'\n",
      "35, ASCII: '#', Encryption: '42875', Decrypting encryption: '35'\n",
      "36, ASCII: '$', Encryption: '46656', Decrypting encryption: '36'\n",
      "37, ASCII: '%', Encryption: '50653', Decrypting encryption: '37'\n",
      "38, ASCII: '&', Encryption: '54872', Decrypting encryption: '38'\n",
      "39, ASCII: ''', Encryption: '59319', Decrypting encryption: '39'\n",
      "40, ASCII: '(', Encryption: '64000', Decrypting encryption: '40'\n",
      "41, ASCII: ')', Encryption: '68921', Decrypting encryption: '41'\n",
      "42, ASCII: '*', Encryption: '74088', Decrypting encryption: '42'\n",
      "43, ASCII: '+', Encryption: '79507', Decrypting encryption: '43'\n",
      "44, ASCII: ',', Encryption: '85184', Decrypting encryption: '44'\n",
      "45, ASCII: '-', Encryption: '91125', Decrypting encryption: '45'\n",
      "46, ASCII: '.', Encryption: '97336', Decrypting encryption: '46'\n",
      "47, ASCII: '/', Encryption: '103823', Decrypting encryption: '47'\n",
      "48, ASCII: '0', Encryption: '110592', Decrypting encryption: '48'\n",
      "49, ASCII: '1', Encryption: '117649', Decrypting encryption: '49'\n",
      "50, ASCII: '2', Encryption: '125000', Decrypting encryption: '50'\n",
      "51, ASCII: '3', Encryption: '132651', Decrypting encryption: '51'\n",
      "52, ASCII: '4', Encryption: '140608', Decrypting encryption: '52'\n",
      "53, ASCII: '5', Encryption: '148877', Decrypting encryption: '53'\n",
      "54, ASCII: '6', Encryption: '157464', Decrypting encryption: '54'\n",
      "55, ASCII: '7', Encryption: '166375', Decrypting encryption: '55'\n",
      "56, ASCII: '8', Encryption: '175616', Decrypting encryption: '56'\n",
      "57, ASCII: '9', Encryption: '185193', Decrypting encryption: '57'\n",
      "58, ASCII: ':', Encryption: '195112', Decrypting encryption: '58'\n",
      "59, ASCII: ';', Encryption: '205379', Decrypting encryption: '59'\n",
      "60, ASCII: '<', Encryption: '216000', Decrypting encryption: '60'\n",
      "61, ASCII: '=', Encryption: '226981', Decrypting encryption: '61'\n",
      "62, ASCII: '>', Encryption: '238328', Decrypting encryption: '62'\n",
      "63, ASCII: '?', Encryption: '250047', Decrypting encryption: '63'\n",
      "64, ASCII: '@', Encryption: '262144', Decrypting encryption: '64'\n",
      "65, ASCII: 'A', Encryption: '274625', Decrypting encryption: '65'\n",
      "66, ASCII: 'B', Encryption: '287496', Decrypting encryption: '66'\n",
      "67, ASCII: 'C', Encryption: '300763', Decrypting encryption: '67'\n",
      "68, ASCII: 'D', Encryption: '314432', Decrypting encryption: '68'\n",
      "69, ASCII: 'E', Encryption: '328509', Decrypting encryption: '69'\n",
      "70, ASCII: 'F', Encryption: '343000', Decrypting encryption: '70'\n",
      "71, ASCII: 'G', Encryption: '357911', Decrypting encryption: '71'\n",
      "72, ASCII: 'H', Encryption: '373248', Decrypting encryption: '72'\n",
      "73, ASCII: 'I', Encryption: '389017', Decrypting encryption: '73'\n",
      "74, ASCII: 'J', Encryption: '405224', Decrypting encryption: '74'\n",
      "75, ASCII: 'K', Encryption: '421875', Decrypting encryption: '75'\n",
      "76, ASCII: 'L', Encryption: '438976', Decrypting encryption: '76'\n",
      "77, ASCII: 'M', Encryption: '456533', Decrypting encryption: '77'\n",
      "78, ASCII: 'N', Encryption: '474552', Decrypting encryption: '78'\n",
      "79, ASCII: 'O', Encryption: '493039', Decrypting encryption: '79'\n",
      "80, ASCII: 'P', Encryption: '512000', Decrypting encryption: '80'\n",
      "81, ASCII: 'Q', Encryption: '531441', Decrypting encryption: '81'\n",
      "82, ASCII: 'R', Encryption: '551368', Decrypting encryption: '82'\n",
      "83, ASCII: 'S', Encryption: '571787', Decrypting encryption: '83'\n",
      "84, ASCII: 'T', Encryption: '592704', Decrypting encryption: '84'\n",
      "85, ASCII: 'U', Encryption: '614125', Decrypting encryption: '85'\n",
      "86, ASCII: 'V', Encryption: '636056', Decrypting encryption: '86'\n",
      "87, ASCII: 'W', Encryption: '658503', Decrypting encryption: '87'\n",
      "88, ASCII: 'X', Encryption: '681472', Decrypting encryption: '88'\n",
      "89, ASCII: 'Y', Encryption: '704969', Decrypting encryption: '89'\n",
      "90, ASCII: 'Z', Encryption: '729000', Decrypting encryption: '90'\n",
      "91, ASCII: '[', Encryption: '753571', Decrypting encryption: '91'\n",
      "92, ASCII: '\\', Encryption: '778688', Decrypting encryption: '92'\n",
      "93, ASCII: ']', Encryption: '804357', Decrypting encryption: '93'\n",
      "94, ASCII: '^', Encryption: '830584', Decrypting encryption: '94'\n",
      "95, ASCII: '_', Encryption: '857375', Decrypting encryption: '95'\n",
      "96, ASCII: '`', Encryption: '884736', Decrypting encryption: '96'\n",
      "97, ASCII: 'a', Encryption: '912673', Decrypting encryption: '97'\n",
      "98, ASCII: 'b', Encryption: '941192', Decrypting encryption: '98'\n",
      "99, ASCII: 'c', Encryption: '970299', Decrypting encryption: '99'\n",
      "100, ASCII: 'd', Encryption: '1000000', Decrypting encryption: '100'\n",
      "101, ASCII: 'e', Encryption: '1030301', Decrypting encryption: '101'\n",
      "102, ASCII: 'f', Encryption: '1061208', Decrypting encryption: '102'\n",
      "103, ASCII: 'g', Encryption: '1092727', Decrypting encryption: '103'\n",
      "104, ASCII: 'h', Encryption: '1124864', Decrypting encryption: '104'\n",
      "105, ASCII: 'i', Encryption: '1157625', Decrypting encryption: '105'\n",
      "106, ASCII: 'j', Encryption: '1191016', Decrypting encryption: '106'\n",
      "107, ASCII: 'k', Encryption: '1225043', Decrypting encryption: '107'\n",
      "108, ASCII: 'l', Encryption: '1259712', Decrypting encryption: '108'\n",
      "109, ASCII: 'm', Encryption: '1295029', Decrypting encryption: '109'\n",
      "110, ASCII: 'n', Encryption: '1331000', Decrypting encryption: '110'\n",
      "111, ASCII: 'o', Encryption: '1367631', Decrypting encryption: '111'\n",
      "112, ASCII: 'p', Encryption: '1404928', Decrypting encryption: '112'\n",
      "113, ASCII: 'q', Encryption: '1442897', Decrypting encryption: '113'\n",
      "114, ASCII: 'r', Encryption: '1481544', Decrypting encryption: '114'\n",
      "115, ASCII: 's', Encryption: '1520875', Decrypting encryption: '115'\n",
      "116, ASCII: 't', Encryption: '1560896', Decrypting encryption: '116'\n",
      "117, ASCII: 'u', Encryption: '1601613', Decrypting encryption: '117'\n",
      "118, ASCII: 'v', Encryption: '1643032', Decrypting encryption: '118'\n",
      "119, ASCII: 'w', Encryption: '1685159', Decrypting encryption: '119'\n",
      "120, ASCII: 'x', Encryption: '1728000', Decrypting encryption: '120'\n",
      "121, ASCII: 'y', Encryption: '1771561', Decrypting encryption: '121'\n",
      "122, ASCII: 'z', Encryption: '1815848', Decrypting encryption: '122'\n",
      "123, ASCII: '{', Encryption: '1860867', Decrypting encryption: '123'\n",
      "124, ASCII: '|', Encryption: '1906624', Decrypting encryption: '124'\n",
      "125, ASCII: '}', Encryption: '1953125', Decrypting encryption: '125'\n",
      "126, ASCII: '~', Encryption: '2000376', Decrypting encryption: '126'\n"
     ]
    }
   ],
   "source": [
    "# ASCII has values from 32 to 126\n",
    "# print(\"Public,private keys are: \", public_key, secret_key)\n",
    "for i in range(32,127):\n",
    "    enc = encrypt(i, public_key)\n",
    "    dec = decrypt(enc, secret_key)\n",
    "    if dec == i:\n",
    "        print(f\"{i}, ASCII: '{chr(i)}', Encryption: '{enc}', Decrypting encryption: '{dec}'\")\n",
    "    else:\n",
    "        print(f\"{i}, ASCII: '{chr(i)}', Encryption: '{enc}', Decrypting encryption: '{dec}' - FAIL\")"
   ]
  },
  {
   "cell_type": "code",
   "execution_count": 33,
   "metadata": {},
   "outputs": [
    {
     "name": "stdout",
     "output_type": "stream",
     "text": [
      "[373248, 328509, 438976, 438976, 493039, 32768, 658503, 493039, 551368, 438976, 314432, 35937]\n",
      "[373248, 328509, 438976, 438976, 493039, 32768, 658503, 493039, 551368, 438976, 314432, 35937]\n",
      "[72, 69, 76, 76, 79, 32, 87, 79, 82, 76, 68, 33]\n"
     ]
    }
   ],
   "source": [
    "encrypted = encrypt_string(text,public_key)\n",
    "print(encrypted)\n",
    "decrypted = decrypt_string(encrypted,secret_key)\n",
    "print(decrypted)"
   ]
  },
  {
   "cell_type": "markdown",
   "metadata": {},
   "source": [
    "Different way to encode strings"
   ]
  },
  {
   "cell_type": "code",
   "execution_count": 52,
   "metadata": {},
   "outputs": [
    {
     "data": {
      "text/plain": [
       "8386"
      ]
     },
     "execution_count": 52,
     "metadata": {},
     "output_type": "execute_result"
    }
   ],
   "source": [
    "def string_to_num(string):\n",
    "    num = 0\n",
    "    for c in string:\n",
    "        new_char = ord(c)\n",
    "        num = (num<<7)+new_char\n",
    "    return num\n",
    "\n",
    "def num_to_string(num):\n",
    "    string = \"\"\n",
    "    while num>0:\n",
    "        new_char = 0x7F\n",
    "        new_char &= num # Now new_char is the ascii value of the last character of the string\n",
    "        string = chr(new_char) + string # We prepend the new character to the string, since we are going in the reverse\n",
    "        num = num >> 7\n",
    "    return string\n",
    "\n",
    "s = \"AB\"\n",
    "\n",
    "string_to_num(s)\n"
   ]
  },
  {
   "cell_type": "code",
   "execution_count": 68,
   "metadata": {},
   "outputs": [
    {
     "name": "stdout",
     "output_type": "stream",
     "text": [
      "\u001a\u0011\n",
      "i5\u0003\n",
      "\u0010l\u0011P70\n",
      "\u0013\u0005r2!;\n",
      "\u0010P[Z3\u001b\n",
      "\u0019\u001b/@k^\n"
     ]
    }
   ],
   "source": [
    "num_chars = 5\n",
    "bits = num_chars * 8\n",
    "largest, lowest = (1<<bits)-1, (1<<(bits-1))\n",
    "for _ in range(5):\n",
    "    s = random.randint(lowest,largest)\n",
    "    print(num_to_string(s))"
   ]
  },
  {
   "cell_type": "code",
   "execution_count": 54,
   "metadata": {},
   "outputs": [
    {
     "data": {
      "text/plain": [
       "65"
      ]
     },
     "execution_count": 54,
     "metadata": {},
     "output_type": "execute_result"
    }
   ],
   "source": [
    "ord('A')"
   ]
  },
  {
   "cell_type": "code",
   "execution_count": 45,
   "metadata": {},
   "outputs": [
    {
     "data": {
      "text/plain": [
       "'0b10000011000010'"
      ]
     },
     "execution_count": 45,
     "metadata": {},
     "output_type": "execute_result"
    }
   ],
   "source": [
    "bin(8386)"
   ]
  },
  {
   "cell_type": "code",
   "execution_count": 47,
   "metadata": {},
   "outputs": [
    {
     "data": {
      "text/plain": [
       "'B'"
      ]
     },
     "execution_count": 47,
     "metadata": {},
     "output_type": "execute_result"
    }
   ],
   "source": [
    "chr(0b1000010)"
   ]
  },
  {
   "cell_type": "code",
   "execution_count": 48,
   "metadata": {},
   "outputs": [
    {
     "data": {
      "text/plain": [
       "'A'"
      ]
     },
     "execution_count": 48,
     "metadata": {},
     "output_type": "execute_result"
    }
   ],
   "source": [
    "chr(0b1000001)"
   ]
  },
  {
   "cell_type": "code",
   "execution_count": 49,
   "metadata": {},
   "outputs": [
    {
     "data": {
      "text/plain": [
       "'0b1000000'"
      ]
     },
     "execution_count": 49,
     "metadata": {},
     "output_type": "execute_result"
    }
   ],
   "source": [
    "bin(64)"
   ]
  },
  {
   "cell_type": "code",
   "execution_count": null,
   "metadata": {},
   "outputs": [],
   "source": []
  }
 ],
 "metadata": {
  "kernelspec": {
   "display_name": "Python 3",
   "language": "python",
   "name": "python3"
  },
  "language_info": {
   "codemirror_mode": {
    "name": "ipython",
    "version": 3
   },
   "file_extension": ".py",
   "mimetype": "text/x-python",
   "name": "python",
   "nbconvert_exporter": "python",
   "pygments_lexer": "ipython3",
   "version": "3.8.5"
  }
 },
 "nbformat": 4,
 "nbformat_minor": 4
}
