{
 "cells": [
  {
   "cell_type": "markdown",
   "metadata": {},
   "source": [
    "# RSA signatures\n",
    "\n",
    "Sigurjón Ágústsson"
   ]
  },
  {
   "cell_type": "markdown",
   "metadata": {},
   "source": [
    "First, we import libraries and load the first 1000 primes in an array. We will use them when generating probable prime numbers later."
   ]
  },
  {
   "cell_type": "code",
   "execution_count": 1,
   "metadata": {},
   "outputs": [],
   "source": [
    "import random\n",
    "import time\n",
    "import numpy as np\n",
    "import pandas as pd\n",
    "import math\n",
    "import matplotlib.pyplot as plt"
   ]
  },
  {
   "cell_type": "code",
   "execution_count": 2,
   "metadata": {},
   "outputs": [
    {
     "name": "stdout",
     "output_type": "stream",
     "text": [
      "999 small odd primes loaded : [3, 5, 7, 11, 13]...[7901, 7907, 7919]\n"
     ]
    }
   ],
   "source": [
    "def load_small_primes():\n",
    "    pfile =  open(\"1000primes.txt\", \"r\")\n",
    "    small_primes = [int(num) for num in pfile.read().split(',')]\n",
    "    return small_primes\n",
    "\n",
    "small_odd_primes = load_small_primes()\n",
    "print(f\"{len(small_odd_primes)} small odd primes loaded : {small_odd_primes[:5]}...{small_odd_primes[-3:]}\")"
   ]
  },
  {
   "cell_type": "markdown",
   "metadata": {},
   "source": [
    "First we define a couple of helper functions that are useful when printing large numbers. "
   ]
  },
  {
   "cell_type": "code",
   "execution_count": 3,
   "metadata": {},
   "outputs": [],
   "source": [
    "# Miscellaneous functions\n",
    "def std_form(n):\n",
    "    \"\"\"Returns a number n in standard form (string)\"\"\"\n",
    "    string_n = str(n)\n",
    "    num = string_n[0] + \".\" + string_n[1:3] + f\"*10^{len(string_n)-1}\"\n",
    "    return num\n",
    "\n",
    "def seconds_to_prefix(sec):\n",
    "    \"\"\"Just a function that inputs number of seconds (float) and \n",
    "        outputs a string representation with a unit (s, ms or min) \"\"\"\n",
    "    if sec < 1:\n",
    "        ms = sec * 1000\n",
    "        return \"{} ms\".format(round(ms,4))\n",
    "    elif sec < 60:\n",
    "        return \"{} s\".format(round(sec,4))\n",
    "    else:\n",
    "        min = int(sec) // 60\n",
    "        rem = seconds_to_prefix(sec-60*min)\n",
    "        return \"{} min and {}\".format(min,rem)\n",
    "    \n",
    "def divisible_by_small_prime(n, resolution=1000):\n",
    "    \"\"\"A function that checks if a number n has one of the \n",
    "        1000 first primes as a factor (excluding 2 because \n",
    "        it is checked for already)\"\"\"\n",
    "    global small_odd_primes # The array of primes\n",
    "    for small_prime in small_odd_primes[:resolution]:\n",
    "        if n == small_prime:\n",
    "            # In this case n is a small prime number, and we return\n",
    "            # False to indicate it is not divisible by any of\n",
    "            # the smaller primes\n",
    "            return False\n",
    "        if (n % small_prime) == 0:\n",
    "            return True\n",
    "    return False\n",
    "\n",
    "def gcd(a,b):\n",
    "    \"\"\"Naive gcd function\"\"\"\n",
    "    r = a%b\n",
    "    if r==0:\n",
    "        return b\n",
    "    return gcd(b,r)"
   ]
  },
  {
   "cell_type": "markdown",
   "metadata": {},
   "source": [
    "Now we define the important functions, "
   ]
  },
  {
   "cell_type": "code",
   "execution_count": 4,
   "metadata": {},
   "outputs": [],
   "source": [
    "def extended_euclidiean(a,b):\n",
    "    \"\"\"The extended euclidian algorithm\"\"\"\n",
    "    r = [a,b]\n",
    "    s = [1,0]\n",
    "    t = [0,1]\n",
    "    i = 2\n",
    "    while True:\n",
    "        q_im1 = r[-2] // r[-1]\n",
    "        r_i = r[-2] - q_im1 * r[-1]\n",
    "        s_i = s[-2] - q_im1 * s[-1]\n",
    "        t_i = t[-2] - q_im1 * t[-1]\n",
    "        \n",
    "        if r_i == 0:\n",
    "            u,v = s[-1],t[-1]\n",
    "            break\n",
    "        r.append(r_i)\n",
    "        s.append(s_i)\n",
    "        t.append(t_i)\n",
    "    return u, v\n",
    "\n",
    "def montgomery(a, R, N):\n",
    "    \"\"\"Returns the montgomery form of the integer a with respect to N\"\"\"\n",
    "    return (a*R) % N\n",
    "\n",
    "def exp_powering_with_reductions(a,b,N,debug=False):\n",
    "    \"\"\"Returns a**b mod n\"\"\"\n",
    "    # First we choose R, it should be a power of two ! works only for odd N!\n",
    "    if not N&1:\n",
    "        print(\"warning N is even, algorithm will not work: {}\".format(std_form(N)))\n",
    "    pwr_of_R = math.ceil(math.log(N)/math.log(2))\n",
    "    R = 1<<pwr_of_R\n",
    "    # Then we precompute R',N'\n",
    "    u,v = extended_euclidiean(R,N)\n",
    "    Rp,Np = u+N, R-v\n",
    "    res_bar = montgomery(1,R,N)\n",
    "    a_bar = montgomery(a,R,N)\n",
    "    # we assume b = b_0b_1...b_{k-1}. we want to iterate over all bits\n",
    "    for i in range(b.bit_length()):\n",
    "        if debug: print(\"--\")\n",
    "        b_i = (b&(1<<(b.bit_length()-1-i)))>>(b.bit_length()-1-i)\n",
    "        res_bar = res_bar * res_bar\n",
    "        res_bar = REDC(res_bar, R,Rp, N,Np, pwr_of_R,debug)\n",
    "        if b_i:\n",
    "            res_bar = res_bar * a_bar\n",
    "            res_bar = REDC(res_bar, R,Rp, N,Np, pwr_of_R,debug)\n",
    "    res = montgomery(res_bar, Rp, N)\n",
    "    return res  \n",
    "\n",
    "def is_reduced(x,N,Np,R,Rp):\n",
    "    m = ((x % R)*Np) % R\n",
    "    t = (x+m*N)//R\n",
    "    if t>=N:\n",
    "        return True\n",
    "    return False\n",
    "\n",
    "def REDC(T, R,Rp,N,Np,pwr_of_R,debug=False):\n",
    "    # T is res_bar\n",
    "    m = ((T % R)*Np) % R\n",
    "    t = (T+m*N)//R\n",
    "    if t>=N:\n",
    "        if debug: print(\"reduction\")\n",
    "        return t-N\n",
    "    else: \n",
    "        if debug: print(\"no reduction\")\n",
    "        return t\n",
    "    \n",
    "def REDC_for_oracle(T, R,Rp,N,Np,pwr_of_R,array):\n",
    "    # T is res_bar\n",
    "    m = ((T % R)*Np) % R\n",
    "    t = (T+m*N)//R\n",
    "    if t>=N:\n",
    "        array.append(1)\n",
    "        return t-N\n",
    "    else: \n",
    "        array.append(0)\n",
    "        return t\n",
    "\n",
    "\n",
    "def REDC_secure(T, R,Rp,N,Np,pwr_of_R,debug=False):\n",
    "    # T is res_bar\n",
    "    m = ((T % R)*Np) % R\n",
    "    t0 = (T+m*N)//R\n",
    "    t1 = t0-N\n",
    "    s = t0>=N\n",
    "    # idea is s==1 then return t1 else t0\n",
    "    return (1-s)*t0 + s*t1  "
   ]
  },
  {
   "cell_type": "markdown",
   "metadata": {},
   "source": [
    "## Prime number generation\n",
    "\n",
    "Now we are ready to do generate prime numbers. "
   ]
  },
  {
   "cell_type": "code",
   "execution_count": 5,
   "metadata": {},
   "outputs": [],
   "source": [
    "def probable_prime(size):\n",
    "    assert size > 0\n",
    "    s = size-1\n",
    "    smallest = 1<<s\n",
    "    largest = (1<<(s+1))-1\n",
    "    # make sure is 2 mod 3! multiply by 3 add 2\n",
    "    while True:\n",
    "        # First pick a random number n of size 'size' bits\n",
    "        n = random.randint(smallest,largest)\n",
    "        if (not n&1) or divisible_by_small_prime(n):\n",
    "            continue\n",
    "        a = random.randint(2,n-1)\n",
    "        mod_computation = exp_powering_with_reductions(a,(n-1),n)\n",
    "\n",
    "        if mod_computation == 1:\n",
    "            # By Fermat's little thm, if the result is not 1\n",
    "            # then n is not prime, otherwise, it is likely to \n",
    "            # be prime\n",
    "            return n\n",
    "        \n",
    "def probable_prime_condition(size, rem, mod):\n",
    "    \"\"\"Returns a probable prime number of size size that is rem mod mod\"\"\"\n",
    "    assert size > 0\n",
    "    s = size-1\n",
    "    smallest = ((1<<s)-2)//3\n",
    "    largest = (((1<<(s+1))-1)-rem)//mod\n",
    "    # make sure is 2 mod 3! multiply by 3 add 2\n",
    "    while True:\n",
    "        # First pick a random number n of size 'size' bits\n",
    "        n = random.randint(smallest,largest)\n",
    "        n = n*mod+rem\n",
    "        if (not n&1) or divisible_by_small_prime(n):\n",
    "            continue\n",
    "        a = random.randint(2,n-1)\n",
    "        mod_computation = exp_powering_with_reductions(a,(n-1),n)\n",
    "\n",
    "        if mod_computation == 1:\n",
    "            # By Fermat's little thm, if the result is not 1\n",
    "            # then n is not prime, otherwise, it is likely to \n",
    "            # be prime\n",
    "            return n\n",
    "    \n",
    "def is_prime(n):\n",
    "    \"\"\"Naive algorithm to test if a number is prime, only useful for small values\"\"\"\n",
    "    stop = int(math.sqrt(n))+1\n",
    "    for i in range(2,stop):\n",
    "        if n%i == 0:\n",
    "            return False\n",
    "    return True"
   ]
  },
  {
   "cell_type": "markdown",
   "metadata": {},
   "source": [
    "Let's use this to generate some \"small\" probably-prime numbers, or pseudoprimes."
   ]
  },
  {
   "cell_type": "code",
   "execution_count": 6,
   "metadata": {},
   "outputs": [
    {
     "name": "stdout",
     "output_type": "stream",
     "text": [
      "8 bits: \t163 \t| Correct, prime indeed\n",
      "16 bits: \t33923 \t| Correct, prime indeed\n",
      "24 bits: \t14975393 \t| Correct, prime indeed\n",
      "32 bits: \t2776817237 \t| Correct, prime indeed\n"
     ]
    }
   ],
   "source": [
    "for i in range(4):\n",
    "    bits = 8*(i+1)\n",
    "    prob_prime = probable_prime(bits)\n",
    "    text = \"Correct, prime indeed\" if is_prime(prob_prime) else \"Fail, number is not prime\"\n",
    "    print(\"{} bits: \\t{} \\t| {}\".format(bits, prob_prime, text))"
   ]
  },
  {
   "cell_type": "markdown",
   "metadata": {},
   "source": [
    "In RSA encryption we want much larger primes. Typically 1024 or 3072 bits. That is no obstacle for us, let's generate such pseudoprimes:"
   ]
  },
  {
   "cell_type": "code",
   "execution_count": 7,
   "metadata": {},
   "outputs": [
    {
     "name": "stdout",
     "output_type": "stream",
     "text": [
      "138467090090758336664973715843491974349983271142439809387024700383287017310097226235104135928061449448048890709981729415994609758207109211587894179026800374544286995190264331336492404893116401785279381444486462200142748391268860009389274021445622111191037183364435826578608820432182774561792410398397333770477\n",
      "execution time: 661.0 ms \n"
     ]
    }
   ],
   "source": [
    "t1s = time.perf_counter()\n",
    "p1024 = probable_prime(1024)\n",
    "t1e = time.perf_counter()\n",
    "print(p1024)\n",
    "print(\"execution time: {} \".format(seconds_to_prefix(round((t1e-t1s),3))))"
   ]
  },
  {
   "cell_type": "code",
   "execution_count": 8,
   "metadata": {},
   "outputs": [
    {
     "name": "stdout",
     "output_type": "stream",
     "text": [
      "23847396310373239311109544174448630023152280460336355727584360667880244630422639757906740655855922287777530488593842821300826839769407450604788500475556087711241363644133566248044719051854928471475442358279213015049074384394394848288336291715381769094353690464580391329904677645320739584514151399669763423586764967539091088363504087190630473720166716455209115583001067923504612187354762903895473145369025174414772320835439527124750128615908715953873192941604565281702543677269089357268395697056324344336718227413359820659751203679251967364496976416398670785248638251699744807081631099718605861168925887129282572319359\n",
      "execution time: 7.704 s \n"
     ]
    }
   ],
   "source": [
    "t1s = time.perf_counter()\n",
    "p2048 = probable_prime(2048)\n",
    "t1e = time.perf_counter()\n",
    "print(p2048)\n",
    "print(\"execution time: {} \".format(seconds_to_prefix(round((t1e-t1s),3))))"
   ]
  },
  {
   "cell_type": "markdown",
   "metadata": {},
   "source": [
    "## RSA key generation"
   ]
  },
  {
   "cell_type": "code",
   "execution_count": 9,
   "metadata": {},
   "outputs": [],
   "source": [
    "def generate_keys(size=512):\n",
    "    \"\"\"Function that returns a tuple of public and private keys of given size (in bits)\"\"\"\n",
    "    #p,q = probable_prime(size),probable_prime(size)\n",
    "    p,q = probable_prime_condition(size, 2,3),probable_prime_condition(size, 2,3)\n",
    "    N = p*q\n",
    "    # e is less than T. And it is coprime to T and N\n",
    "    # e*d mod T has to be 1\n",
    "    # e is typically 3\n",
    "    T = N - p - q + 1 # (p-1)(q-1)\n",
    "    e = 3\n",
    "    #d = exp_powering_with_reductions(e,-1,T) # my algorithm does not work for even values of T\n",
    "    d = pow(e,-1,T) # we use python's builtin function since T can be even\n",
    "    assert (N&1), f\"{N} is even\"\n",
    "    assert d != 0 \n",
    "    return ((N,e),(N,d))\n",
    "\n",
    "\n",
    "def encrypt(val, public_key):\n",
    "    \"\"\"public key is a tuple containing N,e \"\"\"\n",
    "    N,e = public_key\n",
    "    return exp_powering_with_reductions(val,e,N)\n",
    "#     return pow(val,e,N)\n",
    "\n",
    "def decrypt(cipher, private_key):\n",
    "    \"\"\"Private key is a tuple containing N,d \"\"\"\n",
    "    N,d = private_key\n",
    "    return exp_powering_with_reductions(cipher, d,N)\n",
    "    return pow(cipher,d,N)"
   ]
  },
  {
   "cell_type": "markdown",
   "metadata": {},
   "source": [
    "### Oracles\n"
   ]
  },
  {
   "cell_type": "code",
   "execution_count": 10,
   "metadata": {},
   "outputs": [],
   "source": [
    "def exp_powering_for_oracle(a,b,N):\n",
    "    \"\"\"Returns a**b mod n\"\"\"\n",
    "    if not N&1:\n",
    "        print(\"warning N is even, algorithm will not work: {}\".format(std_form(N)))\n",
    "    pwr_of_R = math.ceil(math.log(N)/math.log(2))\n",
    "    R = 1<<pwr_of_R\n",
    "    u,v = extended_euclidiean(R,N)\n",
    "    Rp,Np = u+N, R-v\n",
    "    res_bar = montgomery(1,R,N)\n",
    "    a_bar = montgomery(a,R,N)\n",
    "    red_arr = []\n",
    "    for i in range(b.bit_length()):\n",
    "        b_i = (b&(1<<(b.bit_length()-1-i)))>>(b.bit_length()-1-i)\n",
    "        res_bar = res_bar * res_bar\n",
    "        res_bar = REDC_for_oracle(res_bar, R,Rp, N,Np, pwr_of_R,red_arr)\n",
    "        if b_i:\n",
    "            res_bar = res_bar * a_bar\n",
    "            res_bar = REDC_for_oracle(res_bar, R,Rp, N,Np, pwr_of_R,red_arr)\n",
    "        else:\n",
    "            red_arr.append(-1)\n",
    "    res = montgomery(res_bar, Rp, N)\n",
    "    return res, red_arr\n",
    "\n",
    "def oracle(c, N):\n",
    "    \"\"\"decides whether the first reduction of (c**b) is computed with a subtraction or not\"\"\"\n",
    "    # recall we are computing M**b mod N where b is the secret number we want to find\n",
    "    pwr_of_R = math.ceil(math.log(N)/math.log(2))\n",
    "    R = 1<<pwr_of_R\n",
    "    # Then we precompute R',N'\n",
    "    u,v = extended_euclidiean(R,N)\n",
    "    Rp,Np = u+N, R-v\n",
    "    \n",
    "    res_bar = montgomery(1,R,N)\n",
    "    c_bar = montgomery(c,R,N)\n",
    "    # The computation that is always performed\n",
    "    res_bar = res_bar * res_bar\n",
    "    res_bar = REDC(res_bar, R,Rp, N,Np, pwr_of_R)\n",
    "    # The computation that is only perormed if d0:\n",
    "    res_bar = res_bar * c_bar\n",
    "    return is_reduced(res_bar, N, Np,R,Rp)\n",
    "\n",
    "def super_oracle(c, private_key):\n",
    "    \"\"\"Oracle that uses the private key to give the exact reductions\"\"\"\n",
    "    N,d = private_key\n",
    "    ans, arr = exp_powering_for_oracle(c,d,N)\n",
    "    return arr\n",
    "    \n",
    "def generate_sets(set_size,message_size,bit_to_attack, oracle, private_key):\n",
    "    M1,M2 = [],[]\n",
    "    used = []\n",
    "    i = 0\n",
    "    while True:\n",
    "        m = random.randint(1<<(message_size-1),(1<<message_size)-1)\n",
    "        if m in used:\n",
    "            continue\n",
    "        used.append(m)\n",
    "        arr = oracle(m,private_key)\n",
    "        \n",
    "        if arr[2*bit_to_attack+1]>0:\n",
    "            M1.append(m)\n",
    "        else:\n",
    "            M2.append(m)\n",
    "        i += 1\n",
    "        if i>= set_size:\n",
    "            break\n",
    "    return M1,M2\n",
    "        \n",
    "def time_set(message_set, private_key):\n",
    "    N,d = private_key\n",
    "    start = time.perf_counter()\n",
    "    for m in message_set:\n",
    "        exp_powering_with_reductions(m,d,N)\n",
    "    end = time.perf_counter()\n",
    "    return end-start\n",
    "    \n",
    "        \n",
    "    \n",
    "def REDC_reduction_array(T, R,Rp,N,Np,pwr_of_R,array):\n",
    "    # T is res_bar\n",
    "    m = ((T % R)*Np) % R\n",
    "    t = (T+m*N)//R\n",
    "    if t>=N:\n",
    "        array.append(1)\n",
    "        return t-N\n",
    "    else: \n",
    "        array.append(0)\n",
    "        return t \n",
    "    \n",
    "def oracle_arr(c,N,b=None):\n",
    "    \"\"\"decides whether the SECOND reduction of (a**b) is computed with a subtraction or not\"\"\"\n",
    "    pwr_of_R = math.ceil(math.log(N)/math.log(2))\n",
    "    R = 1<<pwr_of_R\n",
    "    # Then we precompute R',N'\n",
    "    u,v = extended_euclidiean(R,N)\n",
    "    Rp,Np = u+N, R-v\n",
    "    \n",
    "    if b==None:\n",
    "        b = []\n",
    "    reduction_arr = [] # if reduction_arr[i] == 1, then a reduction is performed if b_i == 1\n",
    "    # b are the already recovered bits of the exponent\n",
    "    # first we go through the known bits:\n",
    "    res_bar = montgomery(1,R,N)\n",
    "    cbar = montgomery(c,R,N)\n",
    "    for bi in b:\n",
    "        res_bar = res_bar * res_bar\n",
    "        res_bar = REDC(res_bar, R,Rp, N,Np, pwr_of_R)\n",
    "        # now we check whether a reduction happens ASSUMING bi == 1 (even if it is not!)\n",
    "        if is_reduced(res_bar*cbar,N,Np,R,Rp):\n",
    "            reduction_arr.append(1)\n",
    "        else:\n",
    "            reduction_arr.append(0)\n",
    "        if bi:\n",
    "            res_bar = res_bar*cbar\n",
    "            res_bar = REDC(res_bar, R,Rp, N,Np, pwr_of_R)\n",
    "    # At this point we have exhausted all the known bits of b\n",
    "    # we check one more time.    \n",
    "    res_bar = res_bar * res_bar\n",
    "    res_bar = REDC(res_bar, R,Rp, N,Np, pwr_of_R)\n",
    "    if is_reduced(res_bar*cbar,N,Np,R,Rp):\n",
    "        reduction_arr.append(1)\n",
    "    else:\n",
    "        reduction_arr.append(0)\n",
    "        \n",
    "    return reduction_arr"
   ]
  },
  {
   "cell_type": "code",
   "execution_count": 11,
   "metadata": {},
   "outputs": [
    {
     "name": "stdout",
     "output_type": "stream",
     "text": [
      "N= 65818085326847133633912945051388398971183426181389413622721169290747127432861\n"
     ]
    }
   ],
   "source": [
    "publickey,secretkey = generate_keys(128)\n",
    "print(\"N=\",publickey[0])"
   ]
  },
  {
   "cell_type": "code",
   "execution_count": 12,
   "metadata": {},
   "outputs": [
    {
     "name": "stdout",
     "output_type": "stream",
     "text": [
      "[693146104371883, 902554459598152, 1038732329155391] ...\n",
      "[1043741022005622, 926482593237562, 767589078899942] ...\n",
      "average time of the set where reductions happen is: 1.2495 ms\n",
      "average time of the set where reductions do not take place is: 1.3569 ms\n",
      "the ratio between M1 and M2 is:  0.15874855156431056\n"
     ]
    }
   ],
   "source": [
    "for _ in range(5):\n",
    "    M1,M2 = generate_sets(5000,50,1,super_oracle,secretkey)\n",
    "    if len(M1)>0:\n",
    "        break\n",
    "print(M1[:3], \"...\")\n",
    "print(M2[:3], \"...\")\n",
    "t1 = time_set(M1,secretkey)/len(M1)\n",
    "t2 = time_set(M2,secretkey)/len(M2)\n",
    "print(\"average time of the set where reductions happen is:\", seconds_to_prefix(t1))\n",
    "print(\"average time of the set where reductions do not take place is:\", seconds_to_prefix(t2))\n",
    "print(\"the ratio between M1 and M2 is: \", len(M1)/len(M2))"
   ]
  },
  {
   "cell_type": "markdown",
   "metadata": {},
   "source": [
    "Some tests"
   ]
  },
  {
   "cell_type": "code",
   "execution_count": null,
   "metadata": {},
   "outputs": [],
   "source": [
    "N = 771231294368183552477653367473\n",
    "data = np.array([])\n",
    "start = time.perf_counter()\n",
    "total = 45\n",
    "five_percent = total//20\n",
    "for i in range(total):\n",
    "    print(\".\")\n",
    "    m = random.randint(0,N)\n",
    "    if (i+1)%five_percent == 0:\n",
    "        checkpoint = time.perf_counter()\n",
    "        elapsed = checkpoint-start\n",
    "        time_rem = (elapsed / (i/total)) - elapsed\n",
    "        print(f\"{i+1}/{total}: estimated time remaining: {seconds_to_prefix(time_rem)}\")\n",
    "    for _ in range(200):\n",
    "        d = random.randint(0,N)\n",
    "        secretkey = N,d\n",
    "        M1,M2 = generate_sets(1000,50,6,super_oracle,secretkey)\n",
    "        ratio = len(M1)/len(M2)\n",
    "        data = np.append(data, ratio)"
   ]
  },
  {
   "cell_type": "code",
   "execution_count": 33,
   "metadata": {
    "scrolled": true
   },
   "outputs": [
    {
     "name": "stdout",
     "output_type": "stream",
     "text": [
      ".\n",
      ".\n",
      "1/45: estimated time remaining: 26 min and 16.7936 s\n",
      ".\n",
      ".\n",
      "3/45: estimated time remaining: 25 min and 9.3174 s\n",
      ".\n",
      ".\n",
      "5/45: estimated time remaining: 24 min and 51.79 s\n",
      ".\n",
      ".\n",
      "7/45: estimated time remaining: 23 min and 56.0415 s\n",
      ".\n",
      ".\n",
      "9/45: estimated time remaining: 22 min and 32.8336 s\n",
      ".\n",
      ".\n",
      "11/45: estimated time remaining: 21 min and 15.6508 s\n",
      ".\n",
      ".\n",
      "13/45: estimated time remaining: 20 min and 5.7564 s\n",
      ".\n",
      ".\n",
      "15/45: estimated time remaining: 18 min and 50.2803 s\n",
      ".\n",
      ".\n",
      "17/45: estimated time remaining: 17 min and 34.2087 s\n",
      ".\n",
      ".\n",
      "19/45: estimated time remaining: 16 min and 25.3396 s\n",
      ".\n",
      ".\n",
      "21/45: estimated time remaining: 15 min and 11.6383 s\n",
      ".\n",
      ".\n",
      "23/45: estimated time remaining: 13 min and 55.7067 s\n",
      ".\n",
      ".\n",
      "25/45: estimated time remaining: 12 min and 43.9326 s\n",
      ".\n",
      ".\n",
      "27/45: estimated time remaining: 11 min and 27.8682 s\n",
      ".\n",
      ".\n",
      "29/45: estimated time remaining: 10 min and 14.084 s\n",
      ".\n",
      ".\n",
      "31/45: estimated time remaining: 8 min and 56.7333 s\n",
      ".\n",
      ".\n",
      "33/45: estimated time remaining: 7 min and 40.8101 s\n",
      ".\n",
      ".\n",
      "35/45: estimated time remaining: 6 min and 26.7707 s\n",
      ".\n",
      ".\n",
      "37/45: estimated time remaining: 5 min and 9.9058 s\n",
      ".\n",
      ".\n",
      "39/45: estimated time remaining: 3 min and 51.7964 s\n",
      ".\n",
      ".\n",
      "41/45: estimated time remaining: 2 min and 34.1804 s\n",
      ".\n",
      ".\n",
      "43/45: estimated time remaining: 1 min and 17.1598 s\n",
      ".\n"
     ]
    }
   ],
   "source": [
    "N = 771231294368183552477653367473\n",
    "data = np.array([])\n",
    "start = time.perf_counter()\n",
    "total = 45\n",
    "five_percent = total//20\n",
    "for i in range(total):\n",
    "    print(\".\")\n",
    "    m = random.randint(0,N)\n",
    "    if (i+1)%five_percent == 0:\n",
    "        checkpoint = time.perf_counter()\n",
    "        elapsed = checkpoint-start\n",
    "        time_rem = (elapsed / (i/total)) - elapsed\n",
    "        print(f\"{i+1}/{total}: estimated time remaining: {seconds_to_prefix(time_rem)}\")\n",
    "    for _ in range(200):\n",
    "        d = random.randint(0,N)\n",
    "        secretkey = N,d\n",
    "        M1,M2 = generate_sets(1000,50,6,super_oracle,secretkey)\n",
    "        ratio = len(M1)/len(M2)\n",
    "        data = np.append(data, ratio)"
   ]
  },
  {
   "cell_type": "code",
   "execution_count": 34,
   "metadata": {},
   "outputs": [
    {
     "name": "stdout",
     "output_type": "stream",
     "text": [
      "Total time taken:  28 min and 52.6895 s\n"
     ]
    }
   ],
   "source": [
    "end = time.perf_counter()\n",
    "print(\"Total time taken: \", seconds_to_prefix(end-start))"
   ]
  },
  {
   "cell_type": "code",
   "execution_count": 40,
   "metadata": {},
   "outputs": [],
   "source": [
    "df = pd.DataFrame(data)"
   ]
  },
  {
   "cell_type": "code",
   "execution_count": 41,
   "metadata": {},
   "outputs": [
    {
     "data": {
      "text/plain": [
       "array([[<AxesSubplot:title={'center':'0'}>]], dtype=object)"
      ]
     },
     "execution_count": 41,
     "metadata": {},
     "output_type": "execute_result"
    },
    {
     "data": {
      "image/png": "[encoded data removed]",
      "text/plain": [
       "<Figure size 432x288 with 1 Axes>"
      ]
     },
     "metadata": {
      "needs_background": "light"
     },
     "output_type": "display_data"
    }
   ],
   "source": [
    "df.hist()"
   ]
  },
  {
   "cell_type": "code",
   "execution_count": 103,
   "metadata": {},
   "outputs": [
    {
     "name": "stdout",
     "output_type": "stream",
     "text": [
      "0b1011\n",
      "--\n",
      "no reduction\n",
      "no reduction\n",
      "--\n",
      "no reduction\n",
      "--\n",
      "reduction\n",
      "no reduction\n",
      "--\n",
      "no reduction\n",
      "no reduction\n"
     ]
    },
    {
     "data": {
      "text/plain": [
       "36"
      ]
     },
     "execution_count": 103,
     "metadata": {},
     "output_type": "execute_result"
    }
   ],
   "source": [
    "N=131\n",
    "a = 7\n",
    "b = 11\n",
    "print(bin(b))\n",
    "exp_powering_with_reductions(a,b,N,True)"
   ]
  },
  {
   "cell_type": "code",
   "execution_count": 105,
   "metadata": {},
   "outputs": [
    {
     "data": {
      "text/plain": [
       "[0, 0, 0, 0, 0]"
      ]
     },
     "execution_count": 105,
     "metadata": {},
     "output_type": "execute_result"
    }
   ],
   "source": [
    "oracle_arr(a,N, [1,0,1,1])"
   ]
  },
  {
   "cell_type": "code",
   "execution_count": 72,
   "metadata": {},
   "outputs": [],
   "source": [
    "# A function we use to determine if M1 is set or not\n",
    "def significantly_faster(time_M2,time_M1):\n",
    "    if time_M2> time_M1*1.1:\n",
    "        return True\n",
    "    return False"
   ]
  },
  {
   "cell_type": "code",
   "execution_count": 187,
   "metadata": {},
   "outputs": [
    {
     "name": "stdout",
     "output_type": "stream",
     "text": [
      "N=22201\n",
      "e=3,0b11\n",
      "d=14603,0b11100100001011\n"
     ]
    }
   ],
   "source": [
    "pkey,skey = generate_keys(8)\n",
    "(N,e),(N,d) = pkey,skey\n",
    "print(f\"N={N}\\ne={e},{bin(e)}\\nd={d},{bin(d)}\")"
   ]
  },
  {
   "cell_type": "code",
   "execution_count": 188,
   "metadata": {},
   "outputs": [
    {
     "name": "stdout",
     "output_type": "stream",
     "text": [
      "done\n",
      "M1 [8635, 16276, 16364] ...\n",
      "M2 [9628, 3110, 189] ...\n"
     ]
    }
   ],
   "source": [
    "#Cracking d1\n",
    "known_d = [1]\n",
    "M1, M2 = [], []\n",
    "size = 100\n",
    "i = 0\n",
    "while True:\n",
    "    i += 1\n",
    "    num = random.randint(1,N-1)\n",
    "    arr = oracle_arr(num,N,known_d)\n",
    "    if arr[-1] == 1:\n",
    "        if len(M1)<size and num not in M1:\n",
    "            M1.append(num)\n",
    "    else:\n",
    "        if len(M2)<size and num not in M2:\n",
    "            M2.append(num)\n",
    "    if len(M2)>= size and len(M1)>=size:\n",
    "        break\n",
    "print(\"done\")\n",
    "print(\"M1\", M1[:3],\"...\")\n",
    "print(\"M2\", M2[:3],\"...\")"
   ]
  },
  {
   "cell_type": "code",
   "execution_count": 95,
   "metadata": {},
   "outputs": [
    {
     "name": "stdout",
     "output_type": "stream",
     "text": [
      "recall d=11787,0b10111000001011\n",
      "M1 took:  2.048 ms\n",
      "M2 took:  2.5634 ms\n",
      "M2 was 25.2% slower than M1\n",
      "we say d_1 is 0\n",
      "correct!\n"
     ]
    }
   ],
   "source": [
    "time_set1 = time.perf_counter()\n",
    "for cipher in M1:\n",
    "    decrypt(cipher, pkey)\n",
    "time_set1_end = time.perf_counter()\n",
    "\n",
    "time_set2 = time.perf_counter()\n",
    "for cipher in M2:\n",
    "    decrypt(cipher, pkey)\n",
    "time_set2_end = time.perf_counter()\n",
    "diff1,diff2 = time_set1_end - time_set1, time_set2_end-time_set2\n",
    "time1, time2 = seconds_to_prefix(diff1), seconds_to_prefix(diff2)\n",
    "print(f\"recall d={d},{bin(d)}\")\n",
    "print(\"M1 took: \", time1)\n",
    "print(\"M2 took: \", time2)\n",
    "if diff2 < diff1:\n",
    "    r = round(1 - diff2/diff1, 3)\n",
    "    print(f\"M2 was {100*r}% faster than M1\")\n",
    "else:\n",
    "    r = round(diff2/diff1-1, 3)\n",
    "    print(f\"M2 was {100*r}% slower than M1\")\n",
    "true_d1 = int(bin(d)[3])\n",
    "if significantly_faster(diff2,diff2):\n",
    "    print(\"we say that d_1 is 1\")\n",
    "    if true_d1 == 1:\n",
    "        print(\"correct!\")\n",
    "    else: print(\"incorrect\")\n",
    "else:\n",
    "    print(\"we say d_1 is 0\")\n",
    "    if true_d1 == 0:\n",
    "        print(\"correct!\")\n",
    "    else: print(\"incorrect\")"
   ]
  },
  {
   "cell_type": "code",
   "execution_count": 97,
   "metadata": {},
   "outputs": [
    {
     "name": "stdout",
     "output_type": "stream",
     "text": [
      "N=23213\n",
      "e=5,0b101\n",
      "d=13745,0b11010110110001\n",
      "14 bits to find\n",
      ". M2 was 8.5% faster than M1, so we guess d_1=1 \n",
      ". M2 was 3.5% faster than M1, so we guess d_2=1 - wrong\n",
      ". M2 was 2.5% faster than M1, so we guess d_3=1 \n",
      ". M2 was 0.3% slower than M1, so we guess d_4=0 \n",
      ". M2 was 15.5% slower than M1, so we guess d_5=0 - wrong\n",
      ". M2 was 10.6% slower than M1, so we guess d_6=0 - wrong\n",
      ". M2 was 5.1% faster than M1, so we guess d_7=1 - wrong\n",
      ". M2 was 12.6% faster than M1, so we guess d_8=1 \n",
      ". M2 was 0.5% faster than M1, so we guess d_9=1 \n",
      ". M2 was 1.4% slower than M1, so we guess d_10=0 \n",
      ". M2 was 0.3% faster than M1, so we guess d_11=1 - wrong\n",
      ". M2 was 0.1% slower than M1, so we guess d_12=0 \n",
      ". M2 was 2.2% slower than M1, so we guess d_13=0 - wrong\n",
      "and our guessed value is:\n",
      "[1, 0, 0, 0, 1, 1, 1, 0, 0, 0, 1, 0, 1, 1]\n",
      "true value is:\n",
      "[1, 1, 0, 1, 0, 1, 1, 0, 1, 1, 0, 0, 0, 1]\n",
      "The first error is at bit 1\n",
      "In total you got 6 wrong out of 14\n"
     ]
    }
   ],
   "source": [
    "# Let's make a function that tries to break b\n",
    "bit_size=8\n",
    "sample_size = 500\n",
    "pkey,skey = generate_keys(bit_size)\n",
    "(N,e),(N,d) = pkey,skey\n",
    "print(f\"N={N}\\ne={e},{bin(e)}\\nd={d},{bin(d)}\")\n",
    "guess = [1] # we know the MSB is 1\n",
    "bit_size_d = d.bit_length()\n",
    "print(f\"{bit_size_d} bits to find\")\n",
    "wrong = 0\n",
    "for i in range(bit_size_d-1):\n",
    "    # we create two sets\n",
    "    M1, M2 = [], []\n",
    "    while True:\n",
    "        num = random.randint(1,N-1)\n",
    "        arr = oracle_arr(num,N,guess)\n",
    "        if arr[-1] == 1:\n",
    "            if len(M1)<sample_size and num not in M1:\n",
    "                M1.append(num)\n",
    "        else:\n",
    "            if len(M2)<sample_size and num not in M2:\n",
    "                M2.append(num)\n",
    "        if len(M2)>= sample_size and len(M1)>=sample_size:\n",
    "            break\n",
    "    # the test sets are ready\n",
    "    test_results_set1 = []\n",
    "    test_results_set2 = []\n",
    "    no_tests = 10\n",
    "    for _ in range(no_tests):\n",
    "        # we perform 10 runs of the same sets\n",
    "        time_set1 = time.perf_counter()\n",
    "        for cipher in M1:\n",
    "            decrypt(cipher, pkey)\n",
    "        time_set1_end = time.perf_counter()\n",
    "\n",
    "        time_set2 = time.perf_counter()\n",
    "        for cipher in M2:\n",
    "            decrypt(cipher, pkey)\n",
    "        time_set2_end = time.perf_counter()\n",
    "        diff1,diff2 = time_set1_end - time_set1, time_set2_end-time_set2\n",
    "        test_results_set1.append(diff1)\n",
    "        test_results_set2.append(diff2)\n",
    "        \n",
    "    avg1,avg2 = sum(test_results_set1)/no_tests, sum(test_results_set2)/no_tests\n",
    "    \n",
    "    #if significantly_faster(avg2,avg1):\n",
    "    if avg2>avg1:\n",
    "        guess.append(1)\n",
    "    else:\n",
    "        guess.append(0)\n",
    "    if avg2 < avg1:\n",
    "        r = round(1 - avg2/avg1, 3)\n",
    "        if int(bin(d)[2+i+1])!=1:\n",
    "            error = \"- wrong\"\n",
    "            wrong+=1\n",
    "        else:\n",
    "            error = \"\"\n",
    "        print(f\". M2 was {round(100*r,2)}% faster than M1, so we guess d_{i+1}=1\", error)\n",
    "    else:\n",
    "        r = round(avg2/avg1-1, 3)\n",
    "        if int(bin(d)[2+i+1])!=0:\n",
    "            error = \"- wrong\"\n",
    "            wrong +=1\n",
    "        else:\n",
    "            error = \"\"\n",
    "        print(f\". M2 was {round(100*r,2)}% slower than M1, so we guess d_{i+1}=0\", error)\n",
    "\n",
    "print(\"and our guessed value is:\")\n",
    "print(guess)\n",
    "print(\"true value is:\")\n",
    "print([int(c) for c in bin(d)[2:]])\n",
    "for i in range(bit_size_d):\n",
    "    if (guess[i] != int(bin(d)[i+2])):\n",
    "        break\n",
    "print(f\"The first error is at bit {i}\")\n",
    "print(f\"In total you got {wrong} wrong out of {bit_size_d}\")"
   ]
  },
  {
   "cell_type": "code",
   "execution_count": 10,
   "metadata": {},
   "outputs": [
    {
     "name": "stdout",
     "output_type": "stream",
     "text": [
      "247 313 , 256 302\n",
      "RR' - NN':\n",
      "1\n"
     ]
    }
   ],
   "source": [
    "N = 13*19\n",
    "R = 1<<(math.ceil(math.log(N)/math.log(2)))\n",
    "u,v = extended_euclidiean(R,N)\n",
    "Rp,Np = u+N, R-v\n",
    "print(N,Np, \",\", R,Rp)\n",
    "print(\"RR' - NN':\")\n",
    "print(-N*Np + R*Rp)"
   ]
  },
  {
   "cell_type": "code",
   "execution_count": 23,
   "metadata": {},
   "outputs": [
    {
     "name": "stdout",
     "output_type": "stream",
     "text": [
      "a,b,N= 5 7 13\n",
      "normal: 8\n",
      "with reductions: 8\n",
      "a,b,N= 12 28 130\n",
      "warning N is even, algorithm will not work: 1.30*10^2\n",
      "normal: 66\n",
      "with reductions: 16\n",
      "a,b,N= 5 91 131\n",
      "normal: 53\n",
      "with reductions: 53\n"
     ]
    }
   ],
   "source": [
    "a,b,N = 5,7, 13\n",
    "print(\"a,b,N=\", a,b,N)\n",
    "print(f\"normal: {pow(a,b,N)}\\nwith reductions: {exp_powering_with_reductions(a,b,N)}\")\n",
    "a,b,N = 12,28, 130\n",
    "print(\"a,b,N=\", a,b,N)\n",
    "print(f\"normal: {pow(a,b,N)}\\nwith reductions: {exp_powering_with_reductions(a,b,N)}\")\n",
    "a,b,N = 5,91, 131\n",
    "print(\"a,b,N=\", a,b,N)\n",
    "print(f\"normal: {pow(a,b,N)}\\nwith reductions: {exp_powering_with_reductions(a,b,N)}\")"
   ]
  },
  {
   "cell_type": "markdown",
   "metadata": {},
   "source": [
    "Let's demonstrate with a timing example."
   ]
  },
  {
   "cell_type": "code",
   "execution_count": 25,
   "metadata": {},
   "outputs": [
    {
     "name": "stdout",
     "output_type": "stream",
     "text": [
      "297891\n",
      "297891\n",
      "297891\n",
      " 2.9423 s\t- naive algorithm         \n",
      " 0.0852 ms\t- using montgomery multiplication         \n",
      " 0.0459 ms\t- python's builtin modular multiplication\n",
      "The Montgomery algorithm makes modular exponentiation 34534.11 times faster in this case!\n",
      "Python's builtin pow function offers a further 1.86 times increase in speed\n"
     ]
    }
   ],
   "source": [
    "bits = 20\n",
    "# Let n be a random 20 bit integer\n",
    "n_odd = True\n",
    "while n_odd:\n",
    "    n = random.randint((1<<(bits-1)),((1<<bits)-1))\n",
    "    if n&1:\n",
    "        break\n",
    "a = random.randint(0xFFFF,n-1) # a very large number but still less than n\n",
    "\n",
    "\n",
    "ex1_start = time.perf_counter()\n",
    "print(a**(n-1) % n )\n",
    "ex1_end = time.perf_counter()\n",
    "\n",
    "ex3_start = time.perf_counter()\n",
    "print(pow(a,n-1,n) )\n",
    "ex3_end = time.perf_counter()\n",
    "ex2_start = time.perf_counter()\n",
    "# print(modular_exponentiation_(a,n))\n",
    "print(exp_powering_with_reductions(a, n-1, n))\n",
    "ex2_end = time.perf_counter()\n",
    "t1,t2,t3 = (ex1_end-ex1_start), (ex2_end-ex2_start), (ex3_end-ex3_start)\n",
    "strt1,strt2,strt3 = seconds_to_prefix(t1), seconds_to_prefix(t2), seconds_to_prefix(t3)\n",
    "diff = round(t1/t2,2)\n",
    "diff2 = round(t2/t3,2)\n",
    "print(\" {}\\t- naive algorithm \\\n",
    "        \\n {}\\t- using montgomery multiplication \\\n",
    "        \\n {}\\t- python's builtin modular multiplication\".format(strt1,strt2,strt3))\n",
    "print(\"The Montgomery algorithm makes modular exponentiation {} times faster in this case!\".format(diff))\n",
    "print(\"Python's builtin pow function offers a further {} times increase in speed\".format(diff2))"
   ]
  },
  {
   "cell_type": "markdown",
   "metadata": {},
   "source": [
    "# Attacking the square."
   ]
  },
  {
   "cell_type": "code",
   "execution_count": null,
   "metadata": {},
   "outputs": [],
   "source": [
    "def reduction_const_square(m,m_temp, R,Rp,N,Np,pwr_of_R):\n",
    "    arr = []\n",
    "    T = (m*m_temp)**2\n",
    "    REDC_for_oracle(T, R,Rp,N,Np,pwr_of_R,arr)\n",
    "    if arr[0]:\n",
    "        return True\n",
    "    return False\n",
    "\n",
    "def reduction_only_square(m,m_temp, R,Rp,N,Np,pwr_of_R):\n",
    "    arr = []\n",
    "    T = (m)**2\n",
    "    REDC_for_oracle(T, R,Rp,N,Np,pwr_of_R,arr)\n",
    "    if arr[0]:\n",
    "        return True\n",
    "    return False\n",
    "\n",
    "def exp_powering_for_attacking_square(a,b,N):\n",
    "    \"\"\"Returns a**b mod n\"\"\"\n",
    "    if not N&1:\n",
    "        print(\"warning N is even, algorithm will not work: {}\".format(std_form(N)))\n",
    "    pwr_of_R = math.ceil(math.log(N)/math.log(2))\n",
    "    R = 1<<pwr_of_R\n",
    "    u,v = extended_euclidiean(R,N)\n",
    "    Rp,Np = u+N, R-v\n",
    "    res_bar = montgomery(1,R,N)\n",
    "    a_bar = montgomery(a,R,N)\n",
    "    red_arr = []\n",
    "    for i in range(b.bit_length()):\n",
    "        b_i = (b&(1<<(b.bit_length()-1-i)))>>(b.bit_length()-1-i)\n",
    "        res_bar = res_bar * res_bar\n",
    "        res_bar = REDC(res_bar, R,Rp, N,Np, pwr_of_R)\n",
    "        if b_i:\n",
    "            res_bar = res_bar * a_bar\n",
    "            res_bar = REDC(res_bar, R,Rp, N,Np, pwr_of_R)\n",
    "        else:\n",
    "            red_arr.append(-1)\n",
    "    res = montgomery(res_bar, Rp, N)\n",
    "    return res,Np,R,Rp, pwr_of_R\n",
    "\n"
   ]
  },
  {
   "cell_type": "code",
   "execution_count": 15,
   "metadata": {},
   "outputs": [
    {
     "data": {
      "text/plain": [
       "'0b1010'"
      ]
     },
     "execution_count": 15,
     "metadata": {},
     "output_type": "execute_result"
    }
   ],
   "source": [
    "bin(10)"
   ]
  },
  {
   "cell_type": "code",
   "execution_count": null,
   "metadata": {},
   "outputs": [],
   "source": [
    "def oracle_1(m, N, recovered=1):\n",
    "    \"\"\" Nb that the first bit is bit number 0 \"\"\"\n",
    "    m_temp,Np,R,Rp, pwr_of_R = exp_powering_for_attacking_square(m,recovered,N)\n",
    "    return reduction_const_square(m,m_temp, R,Rp,N,Np,pwr_of_R):\n",
    "\n",
    "def oracle_2(m, N, recovered=1):\n",
    "    m_temp,Np,R,Rp, pwr_of_R = exp_powering_for_attacking_square(m,recovered,N)\n",
    "    return reduction_only_square(m,m_temp, R,Rp,N,Np,pwr_of_R):\n",
    "    \n"
   ]
  },
  {
   "cell_type": "code",
   "execution_count": 17,
   "metadata": {},
   "outputs": [
    {
     "data": {
      "text/plain": [
       "1"
      ]
     },
     "execution_count": 17,
     "metadata": {},
     "output_type": "execute_result"
    }
   ],
   "source": [
    "10>>3"
   ]
  },
  {
   "cell_type": "markdown",
   "metadata": {},
   "source": [
    "## RSA signatures"
   ]
  },
  {
   "cell_type": "code",
   "execution_count": 40,
   "metadata": {},
   "outputs": [
    {
     "name": "stdout",
     "output_type": "stream",
     "text": [
      "\t     N\t\t\t\t     e\n",
      "public key: (401038335652790049193551304669, 3)\n",
      "\t     N\t\t\t\t     d\n",
      "secret key: (401038335652790049193551304669, 267358890435192516861582741931)\n"
     ]
    }
   ],
   "source": [
    "public_key,secret_key = generate_keys(50)\n",
    "print(\"\\t     N\\t\\t\\t\\t     e\")\n",
    "print(\"public key:\", public_key)\n",
    "print(\"\\t     N\\t\\t\\t\\t     d\")\n",
    "print(\"secret key:\", secret_key)"
   ]
  },
  {
   "cell_type": "markdown",
   "metadata": {},
   "source": [
    "### String functions\n"
   ]
  },
  {
   "cell_type": "code",
   "execution_count": 42,
   "metadata": {},
   "outputs": [],
   "source": [
    "def str2ascii_list(string):\n",
    "    \"\"\"takes a string a returns a list of its ascii values\"\"\"\n",
    "    return [ord(c) for c in string]\n",
    "\n",
    "def ascii_list2str(alist):\n",
    "    \"\"\"Takes a list of ascii values and returns a string\"\"\"\n",
    "    s = \"\"\n",
    "    for c in alist:\n",
    "        s+=chr(c)\n",
    "    return s\n",
    "\n",
    "def encrypt_string(string, public_key):\n",
    "    \"\"\"Takes string and a public key, and returns a list of encrypted values\"\"\"\n",
    "    ascii_list = [ord(i) for i in string]\n",
    "    enc_list = [encrypt(j,public_key) for j in ascii_list]\n",
    "    print(enc_list)\n",
    "    enc_string  = \"\"\n",
    "    for enc in enc_list:\n",
    "        enc_string += chr(enc)\n",
    "    return enc_list\n",
    "\n",
    "def decrypt_string(enc_list,private_key):\n",
    "    \"\"\"Takes a list of encrypted ascii values and a private key, returns a list of ascii characters\"\"\"\n",
    "    ascii_list = [decrypt(j, private_key) for j in enc_list]\n",
    "    return ascii_list"
   ]
  },
  {
   "cell_type": "code",
   "execution_count": 44,
   "metadata": {},
   "outputs": [],
   "source": [
    "text = \"HELLO WORLD!\""
   ]
  },
  {
   "cell_type": "code",
   "execution_count": 50,
   "metadata": {},
   "outputs": [
    {
     "name": "stdout",
     "output_type": "stream",
     "text": [
      "original:\n",
      "HELLO WORLD!\n",
      "List of its ascii values:\n",
      "[72, 69, 76, 76, 79, 32, 87, 79, 82, 76, 68, 33]\n",
      "encrypted list of ascii values:\n",
      "[373248, 328509, 438976, 438976, 493039, 32768, 658503, 493039, 551368, 438976, 314432, 35937]\n",
      "Now we decript the ascii values with the secret key\n",
      "[72, 69, 76, 76, 79, 32, 87, 79, 82, 76, 68, 33]\n",
      "We see this is the same list as we started with, and indeed if we turn it into string:\n",
      "HELLO WORLD!\n"
     ]
    }
   ],
   "source": [
    "text_asc = str2ascii_list(text)\n",
    "print(\"original:\")\n",
    "print(text)\n",
    "print(\"List of its ascii values:\")\n",
    "print(text_asc)\n",
    "print(\"encrypted list of ascii values:\")\n",
    "enc = [encrypt(c, public_key) for c in text_asc]\n",
    "print(enc)\n",
    "print(\"Now we decript the ascii values with the secret key\")\n",
    "dec_list = [decrypt(c, secret_key) for c in enc]\n",
    "print(dec_list)\n",
    "print(\"We see this is the same list as we started with, and indeed if we turn it into string:\")\n",
    "res = ascii_list2str(dec_list)\n",
    "print(res)"
   ]
  },
  {
   "cell_type": "code",
   "execution_count": 51,
   "metadata": {},
   "outputs": [
    {
     "name": "stdout",
     "output_type": "stream",
     "text": [
      "32, ASCII: ' ', Encryption: '32768', Decrypting encryption: '32'\n",
      "33, ASCII: '!', Encryption: '35937', Decrypting encryption: '33'\n",
      "34, ASCII: '\"', Encryption: '39304', Decrypting encryption: '34'\n",
      "35, ASCII: '#', Encryption: '42875', Decrypting encryption: '35'\n",
      "36, ASCII: '$', Encryption: '46656', Decrypting encryption: '36'\n",
      "37, ASCII: '%', Encryption: '50653', Decrypting encryption: '37'\n",
      "38, ASCII: '&', Encryption: '54872', Decrypting encryption: '38'\n",
      "39, ASCII: ''', Encryption: '59319', Decrypting encryption: '39'\n",
      "40, ASCII: '(', Encryption: '64000', Decrypting encryption: '40'\n",
      "41, ASCII: ')', Encryption: '68921', Decrypting encryption: '41'\n",
      "42, ASCII: '*', Encryption: '74088', Decrypting encryption: '42'\n",
      "43, ASCII: '+', Encryption: '79507', Decrypting encryption: '43'\n",
      "44, ASCII: ',', Encryption: '85184', Decrypting encryption: '44'\n",
      "45, ASCII: '-', Encryption: '91125', Decrypting encryption: '45'\n",
      "46, ASCII: '.', Encryption: '97336', Decrypting encryption: '46'\n",
      "47, ASCII: '/', Encryption: '103823', Decrypting encryption: '47'\n",
      "48, ASCII: '0', Encryption: '110592', Decrypting encryption: '48'\n",
      "49, ASCII: '1', Encryption: '117649', Decrypting encryption: '49'\n",
      "50, ASCII: '2', Encryption: '125000', Decrypting encryption: '50'\n",
      "51, ASCII: '3', Encryption: '132651', Decrypting encryption: '51'\n",
      "52, ASCII: '4', Encryption: '140608', Decrypting encryption: '52'\n",
      "53, ASCII: '5', Encryption: '148877', Decrypting encryption: '53'\n",
      "54, ASCII: '6', Encryption: '157464', Decrypting encryption: '54'\n",
      "55, ASCII: '7', Encryption: '166375', Decrypting encryption: '55'\n",
      "56, ASCII: '8', Encryption: '175616', Decrypting encryption: '56'\n",
      "57, ASCII: '9', Encryption: '185193', Decrypting encryption: '57'\n",
      "58, ASCII: ':', Encryption: '195112', Decrypting encryption: '58'\n",
      "59, ASCII: ';', Encryption: '205379', Decrypting encryption: '59'\n",
      "60, ASCII: '<', Encryption: '216000', Decrypting encryption: '60'\n",
      "61, ASCII: '=', Encryption: '226981', Decrypting encryption: '61'\n",
      "62, ASCII: '>', Encryption: '238328', Decrypting encryption: '62'\n",
      "63, ASCII: '?', Encryption: '250047', Decrypting encryption: '63'\n",
      "64, ASCII: '@', Encryption: '262144', Decrypting encryption: '64'\n",
      "65, ASCII: 'A', Encryption: '274625', Decrypting encryption: '65'\n",
      "66, ASCII: 'B', Encryption: '287496', Decrypting encryption: '66'\n",
      "67, ASCII: 'C', Encryption: '300763', Decrypting encryption: '67'\n",
      "68, ASCII: 'D', Encryption: '314432', Decrypting encryption: '68'\n",
      "69, ASCII: 'E', Encryption: '328509', Decrypting encryption: '69'\n",
      "70, ASCII: 'F', Encryption: '343000', Decrypting encryption: '70'\n",
      "71, ASCII: 'G', Encryption: '357911', Decrypting encryption: '71'\n",
      "72, ASCII: 'H', Encryption: '373248', Decrypting encryption: '72'\n",
      "73, ASCII: 'I', Encryption: '389017', Decrypting encryption: '73'\n",
      "74, ASCII: 'J', Encryption: '405224', Decrypting encryption: '74'\n",
      "75, ASCII: 'K', Encryption: '421875', Decrypting encryption: '75'\n",
      "76, ASCII: 'L', Encryption: '438976', Decrypting encryption: '76'\n",
      "77, ASCII: 'M', Encryption: '456533', Decrypting encryption: '77'\n",
      "78, ASCII: 'N', Encryption: '474552', Decrypting encryption: '78'\n",
      "79, ASCII: 'O', Encryption: '493039', Decrypting encryption: '79'\n",
      "80, ASCII: 'P', Encryption: '512000', Decrypting encryption: '80'\n",
      "81, ASCII: 'Q', Encryption: '531441', Decrypting encryption: '81'\n",
      "82, ASCII: 'R', Encryption: '551368', Decrypting encryption: '82'\n",
      "83, ASCII: 'S', Encryption: '571787', Decrypting encryption: '83'\n",
      "84, ASCII: 'T', Encryption: '592704', Decrypting encryption: '84'\n",
      "85, ASCII: 'U', Encryption: '614125', Decrypting encryption: '85'\n",
      "86, ASCII: 'V', Encryption: '636056', Decrypting encryption: '86'\n",
      "87, ASCII: 'W', Encryption: '658503', Decrypting encryption: '87'\n",
      "88, ASCII: 'X', Encryption: '681472', Decrypting encryption: '88'\n",
      "89, ASCII: 'Y', Encryption: '704969', Decrypting encryption: '89'\n",
      "90, ASCII: 'Z', Encryption: '729000', Decrypting encryption: '90'\n",
      "91, ASCII: '[', Encryption: '753571', Decrypting encryption: '91'\n",
      "92, ASCII: '\\', Encryption: '778688', Decrypting encryption: '92'\n",
      "93, ASCII: ']', Encryption: '804357', Decrypting encryption: '93'\n",
      "94, ASCII: '^', Encryption: '830584', Decrypting encryption: '94'\n",
      "95, ASCII: '_', Encryption: '857375', Decrypting encryption: '95'\n",
      "96, ASCII: '`', Encryption: '884736', Decrypting encryption: '96'\n",
      "97, ASCII: 'a', Encryption: '912673', Decrypting encryption: '97'\n",
      "98, ASCII: 'b', Encryption: '941192', Decrypting encryption: '98'\n",
      "99, ASCII: 'c', Encryption: '970299', Decrypting encryption: '99'\n",
      "100, ASCII: 'd', Encryption: '1000000', Decrypting encryption: '100'\n",
      "101, ASCII: 'e', Encryption: '1030301', Decrypting encryption: '101'\n",
      "102, ASCII: 'f', Encryption: '1061208', Decrypting encryption: '102'\n",
      "103, ASCII: 'g', Encryption: '1092727', Decrypting encryption: '103'\n",
      "104, ASCII: 'h', Encryption: '1124864', Decrypting encryption: '104'\n",
      "105, ASCII: 'i', Encryption: '1157625', Decrypting encryption: '105'\n",
      "106, ASCII: 'j', Encryption: '1191016', Decrypting encryption: '106'\n",
      "107, ASCII: 'k', Encryption: '1225043', Decrypting encryption: '107'\n",
      "108, ASCII: 'l', Encryption: '1259712', Decrypting encryption: '108'\n",
      "109, ASCII: 'm', Encryption: '1295029', Decrypting encryption: '109'\n",
      "110, ASCII: 'n', Encryption: '1331000', Decrypting encryption: '110'\n",
      "111, ASCII: 'o', Encryption: '1367631', Decrypting encryption: '111'\n",
      "112, ASCII: 'p', Encryption: '1404928', Decrypting encryption: '112'\n",
      "113, ASCII: 'q', Encryption: '1442897', Decrypting encryption: '113'\n",
      "114, ASCII: 'r', Encryption: '1481544', Decrypting encryption: '114'\n",
      "115, ASCII: 's', Encryption: '1520875', Decrypting encryption: '115'\n",
      "116, ASCII: 't', Encryption: '1560896', Decrypting encryption: '116'\n",
      "117, ASCII: 'u', Encryption: '1601613', Decrypting encryption: '117'\n",
      "118, ASCII: 'v', Encryption: '1643032', Decrypting encryption: '118'\n",
      "119, ASCII: 'w', Encryption: '1685159', Decrypting encryption: '119'\n",
      "120, ASCII: 'x', Encryption: '1728000', Decrypting encryption: '120'\n",
      "121, ASCII: 'y', Encryption: '1771561', Decrypting encryption: '121'\n",
      "122, ASCII: 'z', Encryption: '1815848', Decrypting encryption: '122'\n",
      "123, ASCII: '{', Encryption: '1860867', Decrypting encryption: '123'\n",
      "124, ASCII: '|', Encryption: '1906624', Decrypting encryption: '124'\n",
      "125, ASCII: '}', Encryption: '1953125', Decrypting encryption: '125'\n",
      "126, ASCII: '~', Encryption: '2000376', Decrypting encryption: '126'\n"
     ]
    }
   ],
   "source": [
    "# ASCII has values from 32 to 126\n",
    "# print(\"Public,private keys are: \", public_key, secret_key)\n",
    "for i in range(32,127):\n",
    "    enc = encrypt(i, public_key)\n",
    "    dec = decrypt(enc, secret_key)\n",
    "    if dec == i:\n",
    "        print(f\"{i}, ASCII: '{chr(i)}', Encryption: '{enc}', Decrypting encryption: '{dec}'\")\n",
    "    else:\n",
    "        print(f\"{i}, ASCII: '{chr(i)}', Encryption: '{enc}', Decrypting encryption: '{dec}' - FAIL\")"
   ]
  },
  {
   "cell_type": "markdown",
   "metadata": {},
   "source": [
    "Different way to encode strings"
   ]
  },
  {
   "cell_type": "code",
   "execution_count": 54,
   "metadata": {},
   "outputs": [
    {
     "name": "stdout",
     "output_type": "stream",
     "text": [
      "original: AB\n",
      "encoded as number: 8386\n",
      "decoded back to string:  AB\n"
     ]
    }
   ],
   "source": [
    "def string_to_num(string):\n",
    "    num = 0\n",
    "    for c in string:\n",
    "        new_char = ord(c)\n",
    "        num = (num<<7)+new_char\n",
    "    return num\n",
    "\n",
    "def num_to_string(num):\n",
    "    string = \"\"\n",
    "    while num>0:\n",
    "        new_char = 0x7F\n",
    "        new_char &= num # Now new_char is the ascii value of the last character of the string\n",
    "        string = chr(new_char) + string # We prepend the new character to the string, since we are going in the reverse\n",
    "        num = num >> 7\n",
    "    return string\n",
    "\n",
    "s = \"AB\"\n",
    "print(\"original:\", s)\n",
    "print(\"encoded as number:\", string_to_num(s))\n",
    "print(\"decoded back to string: \", num_to_string(string_to_num(s)))\n"
   ]
  },
  {
   "cell_type": "code",
   "execution_count": 57,
   "metadata": {},
   "outputs": [
    {
     "name": "stdout",
     "output_type": "stream",
     "text": [
      "764291251309 = \u0016\u001f\u001a;xm \t ---> 481350970649231346950829890420417157194185935 \t ---> 764291251309 = \u0016\u001f\u001a;xm\n",
      "1034043229320 = \u001e",
      "\f",
      "\u000e\u001e",
      "\t\b \t ---> 144618830851553728353572696779041702619129850 \t ---> 1034043229320 = \u001e",
      "\f",
      "\u000e\u001e",
      "\t\b\n",
      "942034465804 = \u001b5-\u0004h\f",
      " \t ---> 535127508814230040751611421664038778464485284 \t ---> 942034465804 = \u001b5-\u0004h\f",
      "\n",
      "617146111910 = \u0011{\u0006\u0019/& \t ---> 348724229410129564832346740248966987924697464 \t ---> 617146111910 = \u0011{\u0006\u0019/&\n",
      "617401069000 = \u0011{b[H \t ---> 53367484195384655756209120747770756468766794 \t ---> 617401069000 = \u0011{b[H\n"
     ]
    }
   ],
   "source": [
    "public_key, private_key = generate_keys(75) # generate keys of size 100\n",
    "num_chars = 5\n",
    "bits = num_chars * 8\n",
    "largest, lowest = (1<<bits)-1, (1<<(bits-1))\n",
    "for _ in range(5):\n",
    "    num = random.randint(lowest,largest)\n",
    "    s = num_to_string(num)\n",
    "    e = encrypt(num, public_key)\n",
    "    d = decrypt(e, private_key)\n",
    "    ds = num_to_string(d)\n",
    "    p  = f\"{num} = {s} \\t ---> {e} \\t ---> {d} = {ds}\"\n",
    "    print(p)\n"
   ]
  },
  {
   "cell_type": "code",
   "execution_count": 33,
   "metadata": {},
   "outputs": [],
   "source": [
    "def rand_string(length):\n",
    "    \"\"\"Generates a random string of size length\"\"\"\n",
    "    bits = length * 8\n",
    "    largest, lowest = (1<<bits)-1, (1<<(bits-1))\n",
    "    assert largest.bit_length() == bits\n",
    "    num = random.randint(lowest,largest)\n",
    "    s = num_to_string(num)\n",
    "    return s\n",
    "def rand_legible_string(length):\n",
    "    \"\"\"Generates a random legible string of size length (ascii values between 33 and 126)\"\"\"\n",
    "    bits = length * 8\n",
    "    s = \"\"\n",
    "    for _ in range(length):\n",
    "        s += chr(random.randint(32,126))\n",
    "    return s"
   ]
  },
  {
   "cell_type": "code",
   "execution_count": 37,
   "metadata": {},
   "outputs": [
    {
     "name": "stdout",
     "output_type": "stream",
     "text": [
      "[ J-gRljh)d , z-PkU@?`l_ , P$:R~t|%^[ , ;pk2GPf[$A , m{\"t5B9_Bt , ...]\n",
      "1000\n"
     ]
    }
   ],
   "source": [
    "data = np.array([])\n",
    "for _ in range(1000):\n",
    "    data = np.append(data, rand_legible_string(10))\n",
    "s = \"[\"\n",
    "for i in data[:5]:\n",
    "    s += i + \" , \"\n",
    "s +=  \"...]\"\n",
    "print(s)\n",
    "print(len(data))\n"
   ]
  },
  {
   "cell_type": "code",
   "execution_count": 38,
   "metadata": {},
   "outputs": [
    {
     "name": "stdout",
     "output_type": "stream",
     "text": [
      "legible string:  Yo'=PN~L}\"\n",
      "encoded:  828900730317288193698\n"
     ]
    }
   ],
   "source": [
    "word = rand_legible_string(10)\n",
    "word_code = string_to_num(word)\n",
    "print(\"legible string: \", word)\n",
    "print(\"encoded: \", word_code)"
   ]
  },
  {
   "cell_type": "code",
   "execution_count": 39,
   "metadata": {},
   "outputs": [
    {
     "name": "stdout",
     "output_type": "stream",
     "text": [
      "273812470066481264752969070327\n"
     ]
    }
   ],
   "source": [
    "locked = encrypt(word_code,pkey)\n",
    "print(locked)"
   ]
  },
  {
   "cell_type": "code",
   "execution_count": 40,
   "metadata": {},
   "outputs": [
    {
     "name": "stdout",
     "output_type": "stream",
     "text": [
      "828900730317288193698\n"
     ]
    }
   ],
   "source": [
    "unlocked = decrypt(locked,skey)\n",
    "print(unlocked)"
   ]
  },
  {
   "cell_type": "code",
   "execution_count": 41,
   "metadata": {},
   "outputs": [],
   "source": [
    "primitive_data = np.array([])"
   ]
  },
  {
   "cell_type": "code",
   "execution_count": 42,
   "metadata": {},
   "outputs": [
    {
     "name": "stdout",
     "output_type": "stream",
     "text": [
      "0b11111111111111111111111111111111\n",
      "0b10000000000000000000000000000000 32\n",
      "0b11111111000000000000000000000000 32\n",
      "0b11111111111111110000000000000000 32\n",
      "0b11111111111111111111111100000000 32\n",
      "0b11111111111111111111111111111111 32\n"
     ]
    }
   ],
   "source": [
    "base = (1<<32)-1\n",
    "print(bin(base))\n",
    "for i in range(5):\n",
    "    if i >0 :\n",
    "        num = (1<<(8*i))-1\n",
    "        shift = 32-8*i\n",
    "    else:\n",
    "        num = 1\n",
    "        shift = 31\n",
    "    num = num<<shift\n",
    "    print(bin(num), len(bin(num))-2)"
   ]
  },
  {
   "cell_type": "code",
   "execution_count": 43,
   "metadata": {},
   "outputs": [],
   "source": [
    "def generate_simple_data(bit_length):\n",
    "    data = []\n",
    "    for i in range(bit_length//8 +1):\n",
    "        if i > 0 :\n",
    "            num = (1<<(8*i))-1\n",
    "            shift = bit_length-8*i\n",
    "        else:\n",
    "            num = 1\n",
    "            shift = bit_length-1\n",
    "        num = num<<shift\n",
    "        data.append((num, bit_length-shift))\n",
    "    return data"
   ]
  },
  {
   "cell_type": "code",
   "execution_count": 44,
   "metadata": {},
   "outputs": [
    {
     "data": {
      "text/plain": [
       "17"
      ]
     },
     "execution_count": 44,
     "metadata": {},
     "output_type": "execute_result"
    }
   ],
   "source": [
    "data = generate_simple_data(128)\n",
    "len(data)"
   ]
  },
  {
   "cell_type": "code",
   "execution_count": 45,
   "metadata": {},
   "outputs": [],
   "source": [
    "test = []\n",
    "for num,size in data:\n",
    "    tstart = time.perf_counter()\n",
    "    decrypt(num,skey)\n",
    "    tend = time.perf_counter()\n",
    "    res = tend-tstart\n",
    "    arr = [size, res]\n",
    "#     print(arr)\n",
    "    test.append(arr)\n",
    "#     test[size] = tend-tstart"
   ]
  },
  {
   "cell_type": "code",
   "execution_count": 46,
   "metadata": {},
   "outputs": [
    {
     "data": {
      "text/plain": [
       "array([[1.000e+00, 5.234e-04],\n",
       "       [8.000e+00, 6.182e-04],\n",
       "       [1.600e+01, 5.226e-04],\n",
       "       [2.400e+01, 4.906e-04],\n",
       "       [3.200e+01, 5.145e-04]])"
      ]
     },
     "execution_count": 46,
     "metadata": {},
     "output_type": "execute_result"
    }
   ],
   "source": [
    "results = np.array(test)\n",
    "x_values = results[:,0]\n",
    "y_values = results[:,1]\n",
    "results[:5]"
   ]
  },
  {
   "cell_type": "code",
   "execution_count": 47,
   "metadata": {},
   "outputs": [
    {
     "data": {
      "text/html": [
       "<div>\n",
       "<style scoped>\n",
       "    .dataframe tbody tr th:only-of-type {\n",
       "        vertical-align: middle;\n",
       "    }\n",
       "\n",
       "    .dataframe tbody tr th {\n",
       "        vertical-align: top;\n",
       "    }\n",
       "\n",
       "    .dataframe thead th {\n",
       "        text-align: right;\n",
       "    }\n",
       "</style>\n",
       "<table border=\"1\" class=\"dataframe\">\n",
       "  <thead>\n",
       "    <tr style=\"text-align: right;\">\n",
       "      <th></th>\n",
       "      <th>0</th>\n",
       "      <th>1</th>\n",
       "    </tr>\n",
       "  </thead>\n",
       "  <tbody>\n",
       "    <tr>\n",
       "      <th>0</th>\n",
       "      <td>1.0</td>\n",
       "      <td>0.000523</td>\n",
       "    </tr>\n",
       "    <tr>\n",
       "      <th>1</th>\n",
       "      <td>8.0</td>\n",
       "      <td>0.000618</td>\n",
       "    </tr>\n",
       "    <tr>\n",
       "      <th>2</th>\n",
       "      <td>16.0</td>\n",
       "      <td>0.000523</td>\n",
       "    </tr>\n",
       "    <tr>\n",
       "      <th>3</th>\n",
       "      <td>24.0</td>\n",
       "      <td>0.000491</td>\n",
       "    </tr>\n",
       "    <tr>\n",
       "      <th>4</th>\n",
       "      <td>32.0</td>\n",
       "      <td>0.000515</td>\n",
       "    </tr>\n",
       "    <tr>\n",
       "      <th>5</th>\n",
       "      <td>40.0</td>\n",
       "      <td>0.000501</td>\n",
       "    </tr>\n",
       "    <tr>\n",
       "      <th>6</th>\n",
       "      <td>48.0</td>\n",
       "      <td>0.000505</td>\n",
       "    </tr>\n",
       "    <tr>\n",
       "      <th>7</th>\n",
       "      <td>56.0</td>\n",
       "      <td>0.000491</td>\n",
       "    </tr>\n",
       "    <tr>\n",
       "      <th>8</th>\n",
       "      <td>64.0</td>\n",
       "      <td>0.000507</td>\n",
       "    </tr>\n",
       "    <tr>\n",
       "      <th>9</th>\n",
       "      <td>72.0</td>\n",
       "      <td>0.000502</td>\n",
       "    </tr>\n",
       "    <tr>\n",
       "      <th>10</th>\n",
       "      <td>80.0</td>\n",
       "      <td>0.000494</td>\n",
       "    </tr>\n",
       "    <tr>\n",
       "      <th>11</th>\n",
       "      <td>88.0</td>\n",
       "      <td>0.000506</td>\n",
       "    </tr>\n",
       "    <tr>\n",
       "      <th>12</th>\n",
       "      <td>96.0</td>\n",
       "      <td>0.000487</td>\n",
       "    </tr>\n",
       "    <tr>\n",
       "      <th>13</th>\n",
       "      <td>104.0</td>\n",
       "      <td>0.000497</td>\n",
       "    </tr>\n",
       "    <tr>\n",
       "      <th>14</th>\n",
       "      <td>112.0</td>\n",
       "      <td>0.000497</td>\n",
       "    </tr>\n",
       "    <tr>\n",
       "      <th>15</th>\n",
       "      <td>120.0</td>\n",
       "      <td>0.000491</td>\n",
       "    </tr>\n",
       "    <tr>\n",
       "      <th>16</th>\n",
       "      <td>128.0</td>\n",
       "      <td>0.000513</td>\n",
       "    </tr>\n",
       "  </tbody>\n",
       "</table>\n",
       "</div>"
      ],
      "text/plain": [
       "        0         1\n",
       "0     1.0  0.000523\n",
       "1     8.0  0.000618\n",
       "2    16.0  0.000523\n",
       "3    24.0  0.000491\n",
       "4    32.0  0.000515\n",
       "5    40.0  0.000501\n",
       "6    48.0  0.000505\n",
       "7    56.0  0.000491\n",
       "8    64.0  0.000507\n",
       "9    72.0  0.000502\n",
       "10   80.0  0.000494\n",
       "11   88.0  0.000506\n",
       "12   96.0  0.000487\n",
       "13  104.0  0.000497\n",
       "14  112.0  0.000497\n",
       "15  120.0  0.000491\n",
       "16  128.0  0.000513"
      ]
     },
     "execution_count": 47,
     "metadata": {},
     "output_type": "execute_result"
    }
   ],
   "source": [
    "dataframe = pd.DataFrame(results)\n",
    "dataframe"
   ]
  },
  {
   "cell_type": "code",
   "execution_count": 48,
   "metadata": {},
   "outputs": [
    {
     "data": {
      "text/plain": [
       "[<matplotlib.lines.Line2D at 0x1be8a4d92b0>]"
      ]
     },
     "execution_count": 48,
     "metadata": {},
     "output_type": "execute_result"
    },
    {
     "data": {
      "image/png": "[encoded data removed]",
      "text/plain": [
       "<Figure size 432x288 with 1 Axes>"
      ]
     },
     "metadata": {
      "needs_background": "light"
     },
     "output_type": "display_data"
    }
   ],
   "source": [
    "plt.plot(x_values, y_values)"
   ]
  },
  {
   "cell_type": "code",
   "execution_count": 49,
   "metadata": {},
   "outputs": [
    {
     "data": {
      "text/plain": [
       "'0.5234 ms'"
      ]
     },
     "execution_count": 49,
     "metadata": {},
     "output_type": "execute_result"
    }
   ],
   "source": [
    "seconds_to_prefix(results[0][1])"
   ]
  },
  {
   "cell_type": "code",
   "execution_count": 57,
   "metadata": {},
   "outputs": [
    {
     "data": {
      "text/plain": [
       "((522008467897294097841667241593, 3),\n",
       " (522008467897294097841667241593, 348005645264861767781591027619))"
      ]
     },
     "execution_count": 57,
     "metadata": {},
     "output_type": "execute_result"
    }
   ],
   "source": [
    "while True:\n",
    "    try:\n",
    "        pkey, skey = generate_keys(50)\n",
    "        break\n",
    "    except:\n",
    "        continue\n",
    "pkey,skey"
   ]
  },
  {
   "cell_type": "code",
   "execution_count": 59,
   "metadata": {},
   "outputs": [
    {
     "name": "stdout",
     "output_type": "stream",
     "text": [
      "[1113898841856998504622, 800723625103372023020, 355263350030115814373]\n"
     ]
    }
   ],
   "source": [
    "messages = [string_to_num(rand_legible_string(10)) for _ in range(10000)]\n",
    "print(messages[:3])"
   ]
  },
  {
   "cell_type": "markdown",
   "metadata": {},
   "source": [
    "Remember public key is $N, e$"
   ]
  },
  {
   "cell_type": "code",
   "execution_count": null,
   "metadata": {},
   "outputs": [],
   "source": [
    "\n",
    "\n"
   ]
  },
  {
   "cell_type": "code",
   "execution_count": 62,
   "metadata": {},
   "outputs": [
    {
     "name": "stdout",
     "output_type": "stream",
     "text": [
      "M1 has 10000 messages\n",
      "M2 has 0 messages\n"
     ]
    }
   ],
   "source": [
    "# We want to create two sets of random variables. One where the first bit is\n",
    "M1, M2 = [],[]\n",
    "N, d = skey\n",
    "for m in messages:\n",
    "#     print(\"message: \", str(m)[:3]+\"...\")\n",
    "    val = exp_powering_with_reductions(m, d, N)\n",
    "    if oracle(m,N):\n",
    "        M1.append(m)\n",
    "    else:\n",
    "        M2.append(m)\n",
    "print(f\"M1 has {len(M1)} messages\")\n",
    "print(f\"M2 has {len(M2)} messages\")"
   ]
  },
  {
   "cell_type": "code",
   "execution_count": 61,
   "metadata": {},
   "outputs": [
    {
     "ename": "ValueError",
     "evalue": "base is not invertible for the given modulus",
     "output_type": "error",
     "traceback": [
      "\u001b[1;31m---------------------------------------------------------------------------\u001b[0m",
      "\u001b[1;31mValueError\u001b[0m                                Traceback (most recent call last)",
      "\u001b[1;32m<ipython-input-61-e10100d8dc51>\u001b[0m in \u001b[0;36m<module>\u001b[1;34m\u001b[0m\n\u001b[0;32m      1\u001b[0m \u001b[0mM\u001b[0m \u001b[1;33m=\u001b[0m \u001b[1;33m[\u001b[0m\u001b[0mi\u001b[0m \u001b[1;32mfor\u001b[0m \u001b[0mi\u001b[0m \u001b[1;32min\u001b[0m \u001b[0mrange\u001b[0m\u001b[1;33m(\u001b[0m\u001b[1;36m2\u001b[0m\u001b[1;33m**\u001b[0m\u001b[1;36m4\u001b[0m\u001b[1;33m)\u001b[0m\u001b[1;33m]\u001b[0m\u001b[1;33m\u001b[0m\u001b[1;33m\u001b[0m\u001b[0m\n\u001b[1;32m----> 2\u001b[1;33m \u001b[0mpkey_candidate\u001b[0m\u001b[1;33m,\u001b[0m \u001b[0mskey_candidate\u001b[0m \u001b[1;33m=\u001b[0m \u001b[0mgenerate_keys\u001b[0m\u001b[1;33m(\u001b[0m\u001b[1;36m4\u001b[0m\u001b[1;33m)\u001b[0m\u001b[1;33m\u001b[0m\u001b[1;33m\u001b[0m\u001b[0m\n\u001b[0m\u001b[0;32m      3\u001b[0m \u001b[0mpair1\u001b[0m\u001b[1;33m,\u001b[0m \u001b[0mpair2\u001b[0m \u001b[1;33m=\u001b[0m \u001b[1;32mNone\u001b[0m\u001b[1;33m,\u001b[0m \u001b[1;32mNone\u001b[0m\u001b[1;33m\u001b[0m\u001b[1;33m\u001b[0m\u001b[0m\n\u001b[0;32m      4\u001b[0m \u001b[1;32mwhile\u001b[0m \u001b[1;32mTrue\u001b[0m\u001b[1;33m:\u001b[0m\u001b[1;33m\u001b[0m\u001b[1;33m\u001b[0m\u001b[0m\n\u001b[0;32m      5\u001b[0m     \u001b[0mN\u001b[0m\u001b[1;33m,\u001b[0m\u001b[0md\u001b[0m \u001b[1;33m=\u001b[0m \u001b[0mskey_candidate\u001b[0m\u001b[1;33m\u001b[0m\u001b[1;33m\u001b[0m\u001b[0m\n",
      "\u001b[1;32m<ipython-input-22-aa920a1195e5>\u001b[0m in \u001b[0;36mgenerate_keys\u001b[1;34m(size)\u001b[0m\n\u001b[0;32m      9\u001b[0m     \u001b[0me\u001b[0m \u001b[1;33m=\u001b[0m \u001b[1;36m3\u001b[0m\u001b[1;33m\u001b[0m\u001b[1;33m\u001b[0m\u001b[0m\n\u001b[0;32m     10\u001b[0m     \u001b[1;31m#d = exp_powering_with_reductions(e,-1,T) # my algorithm does not work for even values of T\u001b[0m\u001b[1;33m\u001b[0m\u001b[1;33m\u001b[0m\u001b[1;33m\u001b[0m\u001b[0m\n\u001b[1;32m---> 11\u001b[1;33m     \u001b[0md\u001b[0m \u001b[1;33m=\u001b[0m \u001b[0mpow\u001b[0m\u001b[1;33m(\u001b[0m\u001b[0me\u001b[0m\u001b[1;33m,\u001b[0m\u001b[1;33m-\u001b[0m\u001b[1;36m1\u001b[0m\u001b[1;33m,\u001b[0m\u001b[0mT\u001b[0m\u001b[1;33m)\u001b[0m\u001b[1;33m\u001b[0m\u001b[1;33m\u001b[0m\u001b[0m\n\u001b[0m\u001b[0;32m     12\u001b[0m     \u001b[1;32massert\u001b[0m \u001b[1;33m(\u001b[0m\u001b[0mN\u001b[0m\u001b[1;33m&\u001b[0m\u001b[1;36m1\u001b[0m\u001b[1;33m)\u001b[0m\u001b[1;33m,\u001b[0m \u001b[1;34mf\"{N} is even\"\u001b[0m\u001b[1;33m\u001b[0m\u001b[1;33m\u001b[0m\u001b[0m\n\u001b[0;32m     13\u001b[0m     \u001b[1;32massert\u001b[0m \u001b[0md\u001b[0m \u001b[1;33m!=\u001b[0m \u001b[1;36m0\u001b[0m\u001b[1;33m\u001b[0m\u001b[1;33m\u001b[0m\u001b[0m\n",
      "\u001b[1;31mValueError\u001b[0m: base is not invertible for the given modulus"
     ]
    }
   ],
   "source": [
    "M = [i for i in range(2**4)]\n",
    "pkey_candidate, skey_candidate = generate_keys(4)\n",
    "pair1, pair2 = None, None\n",
    "while True:\n",
    "    N,d = skey_candidate\n",
    "    assert d!=0\n",
    "    print(skey_candidate)\n",
    "    b1 = d>>(d.bit_length()-1)\n",
    "    if b1&1:\n",
    "        pair1 = pkey_candidate, skey_candidate\n",
    "    else:\n",
    "        pair2 = pkey_candidate, skey_candidate\n",
    "    pkey_candidate, skey_candidate = generate_keys(4)   \n",
    "    if pair1 is not None and pair2 is not None:\n",
    "        break\n",
    "print(\"public key: \", public_key)\n",
    "print(\"secret_key:\", secret_key)\n",
    "print(f\"All values: [{M[0]}, {M[1]}, ..., {M[-1]}]\")\n",
    "print(f\"  = [{bin(M[0])}, {bin(M[1])}, ..., {bin(M[-1])}]\")"
   ]
  },
  {
   "cell_type": "code",
   "execution_count": 17,
   "metadata": {},
   "outputs": [],
   "source": [
    "# def oracle(a,b,N):\n",
    "def oracle(M, N):\n",
    "    \"\"\"decides whether the first reduction of (a**b) is computed with a subtraction or not\"\"\"\n",
    "    pwr_of_R = math.ceil(math.log(N)/math.log(2))\n",
    "    R = 1<<pwr_of_R # R is the smallest power of 2 that is \n",
    "    # Then we precompute R',N'\n",
    "    u,v = extended_euclidiean(R,N)\n",
    "    Rp,Np = u+N, R-v\n",
    "    res_bar = montgomery(1,R,N)\n",
    "    a_bar = montgomery(M,R,N)\n",
    "    b_1 = ... # we are trying to deduce this bit!\n",
    "    res_bar = res_bar * res_bar\n",
    "    res_bar = REDC(res_bar, R,Rp, N,Np, pwr_of_R)\n",
    "    # if b_1 is 1 then this part will be executed\n",
    "    res_bar = res_bar * a_bar\n",
    "    # will a reduction occur after this step??\n",
    "#     res_bar = REDC(res_bar, R,Rp, N,Np, pwr_of_R)\n",
    "    T = res_bar\n",
    "    # T in [0, RN − 1]\n",
    "    assert 0<=T<= R*N -1\n",
    "    print(f\"0<= {std_form(T)} <= RN-1={std_form(R*N-1)}\")\n",
    "    m = ((T % R)*Np) % R\n",
    "#     print(f\"t is: {(T + m*N)} >> {pwr_of_R}\")\n",
    "    t = (T + m*N)>>pwr_of_R\n",
    "    if t>=N: return True\n",
    "    return False"
   ]
  },
  {
   "cell_type": "code",
   "execution_count": 18,
   "metadata": {},
   "outputs": [
    {
     "ename": "NameError",
     "evalue": "name 'skey' is not defined",
     "output_type": "error",
     "traceback": [
      "\u001b[1;31m---------------------------------------------------------------------------\u001b[0m",
      "\u001b[1;31mNameError\u001b[0m                                 Traceback (most recent call last)",
      "\u001b[1;32m<ipython-input-18-23cc7c82933f>\u001b[0m in \u001b[0;36m<module>\u001b[1;34m\u001b[0m\n\u001b[0;32m      1\u001b[0m \u001b[0mM1\u001b[0m\u001b[1;33m,\u001b[0m \u001b[0mM2\u001b[0m \u001b[1;33m=\u001b[0m \u001b[1;33m[\u001b[0m\u001b[1;33m]\u001b[0m\u001b[1;33m,\u001b[0m\u001b[1;33m[\u001b[0m\u001b[1;33m]\u001b[0m\u001b[1;33m\u001b[0m\u001b[1;33m\u001b[0m\u001b[0m\n\u001b[1;32m----> 2\u001b[1;33m \u001b[0mN\u001b[0m\u001b[1;33m,\u001b[0m \u001b[0md\u001b[0m \u001b[1;33m=\u001b[0m \u001b[0mskey\u001b[0m\u001b[1;33m\u001b[0m\u001b[1;33m\u001b[0m\u001b[0m\n\u001b[0m\u001b[0;32m      3\u001b[0m \u001b[0mprint\u001b[0m\u001b[1;33m(\u001b[0m\u001b[1;34m\"b_1 is: \"\u001b[0m\u001b[1;33m,\u001b[0m \u001b[0mbin\u001b[0m\u001b[1;33m(\u001b[0m\u001b[0md\u001b[0m\u001b[1;33m)\u001b[0m\u001b[1;33m[\u001b[0m\u001b[1;36m3\u001b[0m\u001b[1;33m]\u001b[0m\u001b[1;33m)\u001b[0m\u001b[1;33m\u001b[0m\u001b[1;33m\u001b[0m\u001b[0m\n\u001b[0;32m      4\u001b[0m \u001b[0mprint\u001b[0m\u001b[1;33m(\u001b[0m\u001b[0mbin\u001b[0m\u001b[1;33m(\u001b[0m\u001b[0md\u001b[0m\u001b[1;33m)\u001b[0m\u001b[1;33m)\u001b[0m\u001b[1;33m\u001b[0m\u001b[1;33m\u001b[0m\u001b[0m\n\u001b[0;32m      5\u001b[0m \u001b[1;32mfor\u001b[0m \u001b[0mm\u001b[0m \u001b[1;32min\u001b[0m \u001b[0mM\u001b[0m\u001b[1;33m:\u001b[0m\u001b[1;33m\u001b[0m\u001b[1;33m\u001b[0m\u001b[0m\n",
      "\u001b[1;31mNameError\u001b[0m: name 'skey' is not defined"
     ]
    }
   ],
   "source": [
    "M1, M2 = [],[]\n",
    "N, d = skey\n",
    "print(\"b_1 is: \", bin(d)[3])\n",
    "print(bin(d))\n",
    "for m in M:\n",
    "#     print(\"message: \", str(m)[:3]+\"...\")\n",
    "    val = exp_powering_with_reductions(m, d, N)\n",
    "    if oracle(m,N):\n",
    "        M1.append(m)\n",
    "    else:\n",
    "        M2.append(m)\n",
    "print(f\"M1 has {len(M1)} messages\")\n",
    "print(f\"M2 has {len(M2)} messages\")"
   ]
  },
  {
   "cell_type": "code",
   "execution_count": null,
   "metadata": {},
   "outputs": [],
   "source": []
  }
 ],
 "metadata": {
  "kernelspec": {
   "display_name": "Python 3",
   "language": "python",
   "name": "python3"
  },
  "language_info": {
   "codemirror_mode": {
    "name": "ipython",
    "version": 3
   },
   "file_extension": ".py",
   "mimetype": "text/x-python",
   "name": "python",
   "nbconvert_exporter": "python",
   "pygments_lexer": "ipython3",
   "version": "3.8.5"
  }
 },
 "nbformat": 4,
 "nbformat_minor": 4
}
