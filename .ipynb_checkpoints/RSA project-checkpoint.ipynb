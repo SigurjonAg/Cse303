{
 "cells": [
  {
   "cell_type": "markdown",
   "metadata": {},
   "source": [
    "# RSA signatures\n",
    "\n",
    "Sigurjón Ágústsson"
   ]
  },
  {
   "cell_type": "code",
   "execution_count": 2,
   "metadata": {},
   "outputs": [],
   "source": [
    "import random\n",
    "import time\n",
    "import numpy as np\n",
    "import pandas as pd"
   ]
  },
  {
   "cell_type": "code",
   "execution_count": 3,
   "metadata": {},
   "outputs": [
    {
     "name": "stdout",
     "output_type": "stream",
     "text": [
      "Small odd primes loaded : [3, 5, 7, 11, 13]...[7901, 7907, 7919]\n"
     ]
    }
   ],
   "source": [
    "def load_small_primes():\n",
    "    pfile =  open(\"1000primes.txt\", \"r\")\n",
    "    small_primes = [int(num) for num in pfile.read().split(',')]\n",
    "    return small_primes\n",
    "\n",
    "small_odd_primes = load_small_primes()\n",
    "print(\"Small odd primes loaded : {}...{}\".format(small_odd_primes[:5], small_odd_primes[-3:]))"
   ]
  },
  {
   "cell_type": "markdown",
   "metadata": {},
   "source": [
    "We start by introducing some helper functions. Most important of which is the modular exponentiation function which uses Montgomery modular multiplication to very quickly compute modular exponentiation."
   ]
  },
  {
   "cell_type": "code",
   "execution_count": 4,
   "metadata": {},
   "outputs": [],
   "source": [
    "def even(n):\n",
    "    \"\"\"Checks the parity of n\"\"\"\n",
    "    return (n&1) != 1\n",
    "\n",
    "def pow_n_mod_n(a,n):\n",
    "    \"\"\"Naive and very inefficient way of doing modular exponentiation\"\"\"\n",
    "    return ((a**(n-1)) % n)\n",
    "\n",
    "def modular_exponentiation(a,n):\n",
    "    \"\"\"Python's fast way of doing modular exponentiation\"\"\"\n",
    "    return pow(a,(n-1),n)\n",
    "\n",
    "def divisible_by_small_prime(n, resolution=1000):\n",
    "    \"\"\"A function that checks if a number n has one of the \n",
    "        1000 first primes as a factor (excluding 2 because \n",
    "        it is checked for already)\"\"\"\n",
    "    global small_odd_primes # The array of primes\n",
    "    for small_prime in small_odd_primes[:resolution]:\n",
    "        if n == small_prime:\n",
    "            # In this case n is a small prime number, and we return\n",
    "            # False to indicate it is not divisible by any of\n",
    "            # the smaller primes\n",
    "            return False\n",
    "        if (n % small_prime) == 0:\n",
    "            # print(\"diviseble by small prime\")\n",
    "            return True\n",
    "    return False\n",
    "\n",
    "def seconds_to_prefix(sec):\n",
    "    \"\"\"Just a function that inputs number of seconds (float) and \n",
    "        outputs a string representation with a unit (s, ms or min) \"\"\"\n",
    "    if sec < 1:\n",
    "        ms = sec * 1000\n",
    "        return \"{} ms\".format(round(ms,4))\n",
    "    elif sec < 60:\n",
    "        return \"{} s\".format(round(sec,4))\n",
    "    else:\n",
    "        min = int(sec) // 60\n",
    "        rem = seconds_to_prefix(sec-60*min)\n",
    "        return \"{} min and {}\".format(min,rem)"
   ]
  },
  {
   "cell_type": "markdown",
   "metadata": {},
   "source": [
    "Let's demonstrate with a timing example."
   ]
  },
  {
   "cell_type": "code",
   "execution_count": 5,
   "metadata": {},
   "outputs": [
    {
     "name": "stdout",
     "output_type": "stream",
     "text": [
      "856660\n",
      "856660\n",
      "Using the slow algorithm, it took: 2.5146 s         \n",
      "Using the fast algorithm, it took: 0.0509 ms\n",
      "The Montgomery algorithm makes modular exponentiation 49403.61 times faster in this case!\n"
     ]
    }
   ],
   "source": [
    "bits = 20\n",
    "# Let n be a random 20 bit integer\n",
    "n = random.randint((1<<(bits-1)),((1<<bits)-1))\n",
    "a = random.randint(0xFFFF,n-1) # a very large number but still less than n\n",
    "\n",
    "\n",
    "ex1_start = time.perf_counter()\n",
    "print(pow_n_mod_n(a,n))\n",
    "ex1_end = time.perf_counter()\n",
    "ex2_start = time.perf_counter()\n",
    "print(modular_exponentiation(a,n))\n",
    "ex2_end = time.perf_counter()\n",
    "t1,t2 = (ex1_end-ex1_start), (ex2_end-ex2_start)\n",
    "strt1,strt2 = seconds_to_prefix(t1), seconds_to_prefix(t2)\n",
    "diff = round(t1/t2,2)\n",
    "print(\"Using the slow algorithm, it took: {} \\\n",
    "        \\nUsing the fast algorithm, it took: {}\".format(strt1,strt2))\n",
    "print(\"The Montgomery algorithm makes modular exponentiation {} times faster in this case!\".format(diff))"
   ]
  },
  {
   "cell_type": "markdown",
   "metadata": {},
   "source": [
    "## Prime number generation\n",
    "\n",
    "Now we are ready to do generate prime numbers. "
   ]
  },
  {
   "cell_type": "code",
   "execution_count": 6,
   "metadata": {},
   "outputs": [],
   "source": [
    "def probable_prime(size):\n",
    "    assert size > 0\n",
    "    s = size-1\n",
    "    smallest = 1<<s\n",
    "    largest = (1<<(s+1))-1\n",
    "    while True:\n",
    "        # First pick a random number n of size 'size' bits\n",
    "        n = random.randint(smallest,largest)\n",
    "        if even(n) or divisible_by_small_prime(n):\n",
    "            continue\n",
    "        a = random.randint(2,n-1)\n",
    "\n",
    "        mod_computation = modular_exponentiation(a,n)\n",
    "\n",
    "        if mod_computation == 1:\n",
    "            # By Fermat's little thm, if the result is not 1\n",
    "            # then n is not prime, otherwise, it is likely to \n",
    "            # be prime\n",
    "            return n"
   ]
  },
  {
   "cell_type": "markdown",
   "metadata": {},
   "source": [
    "Let's use this to generate some \"small\" probably-prime numbers, or pseudoprimes."
   ]
  },
  {
   "cell_type": "code",
   "execution_count": 7,
   "metadata": {},
   "outputs": [
    {
     "name": "stdout",
     "output_type": "stream",
     "text": [
      "8 bits: \t 167\n",
      "16 bits: \t 59023\n",
      "24 bits: \t 10236179\n",
      "32 bits: \t 3836101673\n"
     ]
    }
   ],
   "source": [
    "for i in range(4):\n",
    "    bits = 8*(i+1)\n",
    "    print(\"{} bits: \\t\".format(bits), probable_prime(bits))"
   ]
  },
  {
   "cell_type": "markdown",
   "metadata": {},
   "source": [
    "In RSA encryption we want much larger primes. Typically 1024 or 3072 bits. That is no obstacle for us, let's generate such pseudoprimes:"
   ]
  },
  {
   "cell_type": "code",
   "execution_count": 8,
   "metadata": {},
   "outputs": [
    {
     "name": "stdout",
     "output_type": "stream",
     "text": [
      "135929805628349056908228205343171970716676726470924201008666274971659900877326993144359360314570659430718306202215416020824998155072919941640907964407884110079280149350120018575630034180475995082349231986171539125866129530857498357714915250515828911937331630164591868606701743760758616437505879423626815655633\n",
      "execution time: 0.254 seconds\n"
     ]
    }
   ],
   "source": [
    "t1s = time.perf_counter()\n",
    "p1024 = probable_prime(1024)\n",
    "t1e = time.perf_counter()\n",
    "print(p1024)\n",
    "print(\"execution time: {} seconds\".format(round((t1e-t1s),3)))"
   ]
  },
  {
   "cell_type": "code",
   "execution_count": 9,
   "metadata": {},
   "outputs": [
    {
     "name": "stdout",
     "output_type": "stream",
     "text": [
      "4169029388032716414934310916460668080352295536051902815241518301749281949407531194944265579398655921700006526346522604536660457256684401310797648622603340460495266494250200148183269745224632637007712878017316586245723967294007616319054507886412332332999913036489517079185588602784515939956016159473339483791551459838094246998195754491988846113521447586238367068605193435124728072207599181802034153859738219782205607486527890928469262911307437389525694390864255495148805043283597697892686576082176805406458736496631164595017019238131770819105086348342312886487947065999108180117887167708948737054500875505582944173630137444785480779795260143945840724638932663015280265096475547942170903806524742609499797061084920313038867992211632844607705769377129490745953593989017978591865438162999233367949196276877169889698251192775818422413457830285710561458805637152052946985630475131204616692486899114489301712617993311802386407299259\n",
      "execution time: 3.622 seconds\n"
     ]
    }
   ],
   "source": [
    "t1s = time.perf_counter()\n",
    "p3072 = probable_prime(3072)\n",
    "t1e = time.perf_counter()\n",
    "print(p3072)\n",
    "print(\"execution time: {} seconds\".format(round((t1e-t1s),3)))"
   ]
  },
  {
   "cell_type": "markdown",
   "metadata": {},
   "source": [
    "## RSA signatures"
   ]
  },
  {
   "cell_type": "code",
   "execution_count": 10,
   "metadata": {},
   "outputs": [
    {
     "name": "stdout",
     "output_type": "stream",
     "text": [
      "167\n"
     ]
    }
   ],
   "source": [
    "e = 3\n",
    "print(pow(e,-1,500))"
   ]
  },
  {
   "cell_type": "code",
   "execution_count": 11,
   "metadata": {},
   "outputs": [],
   "source": [
    "def find_ed(N,T):\n",
    "    e = 3\n",
    "    d = pow(e,-1,T)\n",
    "    return (e,d)"
   ]
  },
  {
   "cell_type": "code",
   "execution_count": 12,
   "metadata": {},
   "outputs": [],
   "source": [
    "def generate_keys(size=1024):\n",
    "    \"\"\"Function that returns a tuple of public and private keys of given size (in bits)\"\"\"\n",
    "    p,q = probable_prime(size),probable_prime(size)\n",
    "    N = p*q\n",
    "    # e is less than T. And it is coprime to T and N\n",
    "    # e*d mod T has to be 1\n",
    "    # e is typically 3\n",
    "    T = N - p - q + 1 # (p-1)(q-1)\n",
    "    e = 3\n",
    "    d = pow(e,-1,T)\n",
    "    return ((N,e),(N,d))\n",
    "\n",
    "def dummy_keys():\n",
    "    return ((91, 5), (91, 29))\n",
    "\n",
    "def encrypt(val, public_key):\n",
    "    \"\"\"public key is a tuple containing N,e \"\"\"\n",
    "    N,e = public_key\n",
    "    return pow(val,e,N)\n",
    "\n",
    "def decrypt(cipher, private_key):\n",
    "    \"\"\"Private key is a tuple containing N,d \"\"\"\n",
    "    N,d = private_key\n",
    "    return pow(cipher,d,N)"
   ]
  },
  {
   "cell_type": "code",
   "execution_count": 13,
   "metadata": {},
   "outputs": [
    {
     "ename": "ValueError",
     "evalue": "base is not invertible for the given modulus",
     "output_type": "error",
     "traceback": [
      "\u001b[1;31m---------------------------------------------------------------------------\u001b[0m",
      "\u001b[1;31mValueError\u001b[0m                                Traceback (most recent call last)",
      "\u001b[1;32m<ipython-input-13-1fbfcf7baecc>\u001b[0m in \u001b[0;36m<module>\u001b[1;34m\u001b[0m\n\u001b[1;32m----> 1\u001b[1;33m \u001b[0mpublic_key\u001b[0m\u001b[1;33m,\u001b[0m \u001b[0msecret_key\u001b[0m \u001b[1;33m=\u001b[0m \u001b[0mgenerate_keys\u001b[0m\u001b[1;33m(\u001b[0m\u001b[1;33m)\u001b[0m\u001b[1;33m\u001b[0m\u001b[1;33m\u001b[0m\u001b[0m\n\u001b[0m\u001b[0;32m      2\u001b[0m \u001b[1;31m# public_key, secret_key = dummy_keys()\u001b[0m\u001b[1;33m\u001b[0m\u001b[1;33m\u001b[0m\u001b[1;33m\u001b[0m\u001b[0m\n",
      "\u001b[1;32m<ipython-input-12-66de85b00c86>\u001b[0m in \u001b[0;36mgenerate_keys\u001b[1;34m(size)\u001b[0m\n\u001b[0;32m      8\u001b[0m     \u001b[0mT\u001b[0m \u001b[1;33m=\u001b[0m \u001b[0mN\u001b[0m \u001b[1;33m-\u001b[0m \u001b[0mp\u001b[0m \u001b[1;33m-\u001b[0m \u001b[0mq\u001b[0m \u001b[1;33m+\u001b[0m \u001b[1;36m1\u001b[0m \u001b[1;31m# (p-1)(q-1)\u001b[0m\u001b[1;33m\u001b[0m\u001b[1;33m\u001b[0m\u001b[0m\n\u001b[0;32m      9\u001b[0m     \u001b[0me\u001b[0m \u001b[1;33m=\u001b[0m \u001b[1;36m3\u001b[0m\u001b[1;33m\u001b[0m\u001b[1;33m\u001b[0m\u001b[0m\n\u001b[1;32m---> 10\u001b[1;33m     \u001b[0md\u001b[0m \u001b[1;33m=\u001b[0m \u001b[0mpow\u001b[0m\u001b[1;33m(\u001b[0m\u001b[0me\u001b[0m\u001b[1;33m,\u001b[0m\u001b[1;33m-\u001b[0m\u001b[1;36m1\u001b[0m\u001b[1;33m,\u001b[0m\u001b[0mT\u001b[0m\u001b[1;33m)\u001b[0m\u001b[1;33m\u001b[0m\u001b[1;33m\u001b[0m\u001b[0m\n\u001b[0m\u001b[0;32m     11\u001b[0m     \u001b[1;32mreturn\u001b[0m \u001b[1;33m(\u001b[0m\u001b[1;33m(\u001b[0m\u001b[0mN\u001b[0m\u001b[1;33m,\u001b[0m\u001b[0me\u001b[0m\u001b[1;33m)\u001b[0m\u001b[1;33m,\u001b[0m\u001b[1;33m(\u001b[0m\u001b[0mN\u001b[0m\u001b[1;33m,\u001b[0m\u001b[0md\u001b[0m\u001b[1;33m)\u001b[0m\u001b[1;33m)\u001b[0m\u001b[1;33m\u001b[0m\u001b[1;33m\u001b[0m\u001b[0m\n\u001b[0;32m     12\u001b[0m \u001b[1;33m\u001b[0m\u001b[0m\n",
      "\u001b[1;31mValueError\u001b[0m: base is not invertible for the given modulus"
     ]
    }
   ],
   "source": [
    "public_key, secret_key = generate_keys()\n",
    "# public_key, secret_key = dummy_keys()"
   ]
  },
  {
   "cell_type": "code",
   "execution_count": null,
   "metadata": {},
   "outputs": [],
   "source": [
    "public_key"
   ]
  },
  {
   "cell_type": "code",
   "execution_count": null,
   "metadata": {},
   "outputs": [],
   "source": [
    "secret_key"
   ]
  },
  {
   "cell_type": "code",
   "execution_count": null,
   "metadata": {},
   "outputs": [],
   "source": [
    "text = \"HELLO WORLD!\""
   ]
  },
  {
   "cell_type": "code",
   "execution_count": 17,
   "metadata": {},
   "outputs": [],
   "source": [
    "def str2ascii_list(string):\n",
    "    return [ord(c) for c in string]\n",
    "\n",
    "def ascii_list2str(alist):\n",
    "    s = \"\"\n",
    "    for c in alist:\n",
    "        s+=chr(c)\n",
    "    return s\n",
    "\n",
    "def encrypt_string(string, public_key):\n",
    "    ascii_list = [ord(i) for i in string]\n",
    "    enc_list = [encrypt(j,public_key) for j in ascii_list]\n",
    "    print(enc_list)\n",
    "    enc_string  = \"\"\n",
    "    for enc in enc_list:\n",
    "        enc_string += chr(enc)\n",
    "    return enc_list\n",
    "\n",
    "def decrypt_string(enc_list,private_key):\n",
    "    ascii_list = [decrypt(j, private_key) for j in enc_list]\n",
    "    return ascii_list"
   ]
  },
  {
   "cell_type": "code",
   "execution_count": null,
   "metadata": {},
   "outputs": [],
   "source": [
    "text_asc = str2ascii_list(text)\n",
    "print(\"original:\")\n",
    "print(text_asc)\n",
    "print(\"encrypted:\")\n",
    "enc = [encrypt(c, public_key) for c in text_asc]\n",
    "print(enc)\n",
    "print(\"decrypted_list\")\n",
    "dec_list = [decrypt(c, secret_key) for c in enc]\n",
    "print(dec_list)\n",
    "print(\"result\")\n",
    "res = ascii_list2str(dec_list)\n",
    "print(res)"
   ]
  },
  {
   "cell_type": "code",
   "execution_count": null,
   "metadata": {},
   "outputs": [],
   "source": []
  },
  {
   "cell_type": "code",
   "execution_count": null,
   "metadata": {},
   "outputs": [],
   "source": [
    "# ASCII has values from 32 to 126\n",
    "# print(\"Public,private keys are: \", public_key, secret_key)\n",
    "for i in range(32,127):\n",
    "    enc = encrypt(i, public_key)\n",
    "    dec = decrypt(enc, secret_key)\n",
    "    if dec == i:\n",
    "        print(f\"{i}, ASCII: '{chr(i)}', Encryption: '{enc}', Decrypting encryption: '{dec}'\")\n",
    "    else:\n",
    "        print(f\"{i}, ASCII: '{chr(i)}', Encryption: '{enc}', Decrypting encryption: '{dec}' - FAIL\")"
   ]
  },
  {
   "cell_type": "code",
   "execution_count": null,
   "metadata": {},
   "outputs": [],
   "source": [
    "encrypted = encrypt_string(text,public_key)\n",
    "print(encrypted)\n",
    "decrypted = decrypt_string(encrypted,secret_key)\n",
    "print(decrypted)"
   ]
  },
  {
   "cell_type": "markdown",
   "metadata": {},
   "source": [
    "Different way to encode strings"
   ]
  },
  {
   "cell_type": "code",
   "execution_count": 18,
   "metadata": {},
   "outputs": [
    {
     "data": {
      "text/plain": [
       "8386"
      ]
     },
     "execution_count": 18,
     "metadata": {},
     "output_type": "execute_result"
    }
   ],
   "source": [
    "def string_to_num(string):\n",
    "    num = 0\n",
    "    for c in string:\n",
    "        new_char = ord(c)\n",
    "        num = (num<<7)+new_char\n",
    "    return num\n",
    "\n",
    "def num_to_string(num):\n",
    "    string = \"\"\n",
    "    while num>0:\n",
    "        new_char = 0x7F\n",
    "        new_char &= num # Now new_char is the ascii value of the last character of the string\n",
    "        string = chr(new_char) + string # We prepend the new character to the string, since we are going in the reverse\n",
    "        num = num >> 7\n",
    "    return string\n",
    "\n",
    "s = \"AB\"\n",
    "\n",
    "string_to_num(s)\n"
   ]
  },
  {
   "cell_type": "code",
   "execution_count": 34,
   "metadata": {},
   "outputs": [
    {
     "name": "stdout",
     "output_type": "stream",
     "text": [
      "639511543708 = \u0012N.n\u001c",
      " \t ---> 261544242883784286717943912901950912 \t ---> 639511543708 = \u0012N.n\u001c",
      "\n",
      "892041728389 = \u0019{\u000eR#\u0005 \t ---> 709831897990396156190409014354927869 \t ---> 892041728389 = \u0019{\u000eR#\u0005\n",
      "836656267875 = \u0018,df\u0004c \t ---> 585654125425253968600216160560546875 \t ---> 836656267875 = \u0018,df\u0004c\n",
      "664506056870 = \u0013+=\u0017\u0001& \t ---> 293424809617227366211879622977703000 \t ---> 664506056870 = \u0013+=\u0017\u0001&\n",
      "1063232102909 = \u001e",
      "xlIC} \t ---> 1201944026085487063304374489877075429 \t ---> 1063232102909 = \u001e",
      "xlIC}\n"
     ]
    }
   ],
   "source": [
    "public_key, private_key = generate_keys(100) # generate keys of size 100\n",
    "num_chars = 5\n",
    "bits = num_chars * 8\n",
    "largest, lowest = (1<<bits)-1, (1<<(bits-1))\n",
    "for _ in range(5):\n",
    "    num = random.randint(lowest,largest)\n",
    "    s = num_to_string(num)\n",
    "    e = encrypt(num, public_key)\n",
    "    d = decrypt(e, private_key)\n",
    "    ds = num_to_string(d)\n",
    "    p  = f\"{num} = {s} \\t ---> {e} \\t ---> {d} = {ds}\"\n",
    "    print(p)\n"
   ]
  },
  {
   "cell_type": "code",
   "execution_count": 42,
   "metadata": {},
   "outputs": [],
   "source": [
    "def rand_string(length):\n",
    "    bits = length * 8\n",
    "    largest, lowest = (1<<bits)-1, (1<<(bits-1))\n",
    "    assert largest.bit_length() == bits\n",
    "    print(len(bin(largest))-2,len(bin(lowest))-2)\n",
    "    num = random.randint(lowest,largest)\n",
    "    s = num_to_string(num)\n",
    "    return s\n",
    "def rand_legible_string(length):\n",
    "    bits = length * 8\n",
    "    s = \"\"\n",
    "    for _ in range(length):\n",
    "        s += chr(random.randint(32,126))\n",
    "    return s\n"
   ]
  },
  {
   "cell_type": "code",
   "execution_count": 50,
   "metadata": {},
   "outputs": [
    {
     "data": {
      "text/plain": [
       "'~'"
      ]
     },
     "execution_count": 50,
     "metadata": {},
     "output_type": "execute_result"
    }
   ],
   "source": []
  },
  {
   "cell_type": "code",
   "execution_count": 32,
   "metadata": {},
   "outputs": [
    {
     "name": "stdout",
     "output_type": "stream",
     "text": [
      "24 24\n",
      "\u0004c;\u001c",
      "\n",
      "4\n"
     ]
    }
   ],
   "source": [
    "s=rand_string(3)\n",
    "print(s)\n",
    "print(len(s))"
   ]
  },
  {
   "cell_type": "code",
   "execution_count": 101,
   "metadata": {},
   "outputs": [
    {
     "data": {
      "text/plain": [
       "65"
      ]
     },
     "execution_count": 101,
     "metadata": {},
     "output_type": "execute_result"
    }
   ],
   "source": [
    "ord('A')"
   ]
  },
  {
   "cell_type": "code",
   "execution_count": 45,
   "metadata": {},
   "outputs": [
    {
     "data": {
      "text/plain": [
       "'0b10000011000010'"
      ]
     },
     "execution_count": 45,
     "metadata": {},
     "output_type": "execute_result"
    }
   ],
   "source": [
    "bin(8386)"
   ]
  },
  {
   "cell_type": "code",
   "execution_count": 47,
   "metadata": {},
   "outputs": [
    {
     "data": {
      "text/plain": [
       "'B'"
      ]
     },
     "execution_count": 47,
     "metadata": {},
     "output_type": "execute_result"
    }
   ],
   "source": [
    "chr(0b1000010)"
   ]
  },
  {
   "cell_type": "code",
   "execution_count": 48,
   "metadata": {},
   "outputs": [
    {
     "data": {
      "text/plain": [
       "'A'"
      ]
     },
     "execution_count": 48,
     "metadata": {},
     "output_type": "execute_result"
    }
   ],
   "source": [
    "chr(0b1000001)"
   ]
  },
  {
   "cell_type": "code",
   "execution_count": 49,
   "metadata": {},
   "outputs": [
    {
     "data": {
      "text/plain": [
       "'0b1000000'"
      ]
     },
     "execution_count": 49,
     "metadata": {},
     "output_type": "execute_result"
    }
   ],
   "source": [
    "bin(64)"
   ]
  },
  {
   "cell_type": "code",
   "execution_count": null,
   "metadata": {},
   "outputs": [],
   "source": []
  }
 ],
 "metadata": {
  "kernelspec": {
   "display_name": "Python 3",
   "language": "python",
   "name": "python3"
  },
  "language_info": {
   "codemirror_mode": {
    "name": "ipython",
    "version": 3
   },
   "file_extension": ".py",
   "mimetype": "text/x-python",
   "name": "python",
   "nbconvert_exporter": "python",
   "pygments_lexer": "ipython3",
   "version": "3.8.5"
  }
 },
 "nbformat": 4,
 "nbformat_minor": 4
}
